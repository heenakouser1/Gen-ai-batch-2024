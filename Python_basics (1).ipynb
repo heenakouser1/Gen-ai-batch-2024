{
  "nbformat": 4,
  "nbformat_minor": 0,
  "metadata": {
    "colab": {
      "provenance": []
    },
    "kernelspec": {
      "name": "python3",
      "display_name": "Python 3"
    },
    "language_info": {
      "name": "python"
    }
  },
  "cells": [
    {
      "cell_type": "markdown",
      "source": [
        "1. Explain the key features of Python that make it a popular choice foRprograming?\n"
      ],
      "metadata": {
        "id": "TezHFLHDlQjm"
      }
    },
    {
      "cell_type": "code",
      "execution_count": 1,
      "metadata": {
        "id": "maV0L1owk-bm"
      },
      "outputs": [],
      "source": [
        "\n",
        "#Its has lots of libraries.\n",
        "#Easy to understand.\n",
        "# scalibity\n",
        "#open source\n",
        "# Interpreted language\n",
        "#active community of developers, an extensive standard library, and third-party packages for various domains."
      ]
    },
    {
      "cell_type": "markdown",
      "source": [
        "2. Describe the role of predefined keywords in Python and provide examples of how they are used in a programming"
      ],
      "metadata": {
        "id": "l8IUHP3JnE6L"
      }
    },
    {
      "cell_type": "code",
      "source": [
        "#keywords cannot be used as identifiers for variables, functions, or any other custom names within your code\n",
        "#Predefined words are use to perform certain function or particular task, instead of writing the entire code we generally use the already avaliable keywords\n",
        "# These keywords cannot be used as variable names\n",
        "#case-sensitive and cannot be redefined or overridden within a Python program.\n",
        "# for, while, if, else etc.\n",
        "\n",
        "a = 1\n",
        "if a == 2:\n",
        "  print(\"a is eqaul to 1\")\n",
        "else:\n",
        "  print(\"a is not equal to 1\")\n",
        "\n",
        "\n"
      ],
      "metadata": {
        "colab": {
          "base_uri": "https://localhost:8080/"
        },
        "id": "ScpKvVXblLxL",
        "outputId": "ad2353f2-fa7f-4fc0-dc03-0d4d1ddfd1b0"
      },
      "execution_count": 2,
      "outputs": [
        {
          "output_type": "stream",
          "name": "stdout",
          "text": [
            "a is not equal to 1\n"
          ]
        }
      ]
    },
    {
      "cell_type": "markdown",
      "source": [
        "3.0 Compare and contrast mutable and immutable objects in Python with examples\n"
      ],
      "metadata": {
        "id": "OVAc8PQTm2ep"
      }
    },
    {
      "cell_type": "code",
      "source": [
        "# Mutable objects are those who can be changed\n",
        "# Lists, dict\n",
        "#Mutability affects how objects are stored and manipulated in memory, impacting performance, memory usage, and concurrency in Python programs.\n",
        "\n",
        "list1 = [1,2,3,4]\n",
        "list1.append(5)\n",
        "print(list1)"
      ],
      "metadata": {
        "colab": {
          "base_uri": "https://localhost:8080/"
        },
        "id": "CS6XTs8Ezqrl",
        "outputId": "3da5fcd7-5f3e-4d2d-a488-b3f4cc4df38c"
      },
      "execution_count": 26,
      "outputs": [
        {
          "output_type": "stream",
          "name": "stdout",
          "text": [
            "[1, 2, 3, 4, 5]\n"
          ]
        }
      ]
    },
    {
      "cell_type": "code",
      "source": [
        "# Unmutable objects are those who cannot be changed.\n",
        "# tuples, set , strings\n",
        "tuple1 = (1,2,3,4)\n",
        "tuple1[3] = 5\n",
        "print(tuple1)\n",
        "\n"
      ],
      "metadata": {
        "colab": {
          "base_uri": "https://localhost:8080/",
          "height": 219
        },
        "id": "VMOZ5ay6m5On",
        "outputId": "49750e84-5286-43d0-baea-cb82bb44236a"
      },
      "execution_count": 31,
      "outputs": [
        {
          "output_type": "error",
          "ename": "TypeError",
          "evalue": "'tuple' object does not support item assignment",
          "traceback": [
            "\u001b[0;31m---------------------------------------------------------------------------\u001b[0m",
            "\u001b[0;31mTypeError\u001b[0m                                 Traceback (most recent call last)",
            "\u001b[0;32m<ipython-input-31-fd1c155c1f01>\u001b[0m in \u001b[0;36m<cell line: 4>\u001b[0;34m()\u001b[0m\n\u001b[1;32m      2\u001b[0m \u001b[0;31m# tuples, set , strings\u001b[0m\u001b[0;34m\u001b[0m\u001b[0;34m\u001b[0m\u001b[0m\n\u001b[1;32m      3\u001b[0m \u001b[0mtuple1\u001b[0m \u001b[0;34m=\u001b[0m \u001b[0;34m(\u001b[0m\u001b[0;36m1\u001b[0m\u001b[0;34m,\u001b[0m\u001b[0;36m2\u001b[0m\u001b[0;34m,\u001b[0m\u001b[0;36m3\u001b[0m\u001b[0;34m,\u001b[0m\u001b[0;36m4\u001b[0m\u001b[0;34m)\u001b[0m\u001b[0;34m\u001b[0m\u001b[0;34m\u001b[0m\u001b[0m\n\u001b[0;32m----> 4\u001b[0;31m \u001b[0mtuple1\u001b[0m\u001b[0;34m[\u001b[0m\u001b[0;36m3\u001b[0m\u001b[0;34m]\u001b[0m \u001b[0;34m=\u001b[0m \u001b[0;36m5\u001b[0m\u001b[0;34m\u001b[0m\u001b[0;34m\u001b[0m\u001b[0m\n\u001b[0m\u001b[1;32m      5\u001b[0m \u001b[0mprint\u001b[0m\u001b[0;34m(\u001b[0m\u001b[0mtuple1\u001b[0m\u001b[0;34m)\u001b[0m\u001b[0;34m\u001b[0m\u001b[0;34m\u001b[0m\u001b[0m\n\u001b[1;32m      6\u001b[0m \u001b[0;34m\u001b[0m\u001b[0m\n",
            "\u001b[0;31mTypeError\u001b[0m: 'tuple' object does not support item assignment"
          ]
        }
      ]
    },
    {
      "cell_type": "markdown",
      "source": [
        "4 Discuss the different types of operators in Python and provide examples of how they are used"
      ],
      "metadata": {
        "id": "UJU19Vlzo_HK"
      }
    },
    {
      "cell_type": "code",
      "source": [
        "# Operators in python used to perform mathematical operations\n",
        "# Arithemetic operators (+,-,*,/,//,%)\n",
        "\n",
        "a = 1\n",
        "b = 2\n",
        "print('addition', a+b)"
      ],
      "metadata": {
        "colab": {
          "base_uri": "https://localhost:8080/"
        },
        "id": "hRd0TNeCo_z4",
        "outputId": "d315b9db-95a5-48a6-e91a-552ce37f40b1"
      },
      "execution_count": 4,
      "outputs": [
        {
          "output_type": "stream",
          "name": "stdout",
          "text": [
            "addition 3\n"
          ]
        }
      ]
    },
    {
      "cell_type": "code",
      "source": [
        "# logical operators (and, or , not)\n",
        "a = 1\n",
        "b = 5\n",
        "print(\"gives the or operation :\" ,a or b )\n"
      ],
      "metadata": {
        "colab": {
          "base_uri": "https://localhost:8080/"
        },
        "id": "2Q-EVyucqQI3",
        "outputId": "43c967a4-2abd-4e73-ec23-8ae3bc8cf13d"
      },
      "execution_count": 7,
      "outputs": [
        {
          "output_type": "stream",
          "name": "stdout",
          "text": [
            "gives the or operation : 1\n"
          ]
        }
      ]
    },
    {
      "cell_type": "code",
      "source": [
        "# Bitwise operators (&,|,^,<<,>>,`)\n",
        "\n",
        "a = 1\n",
        "b = 5\n",
        "print(\"gives the or operation :\" ,a | b )\n"
      ],
      "metadata": {
        "colab": {
          "base_uri": "https://localhost:8080/"
        },
        "id": "QL649SQ_qmcQ",
        "outputId": "d026710c-b959-4fd7-eccd-9323444f1112"
      },
      "execution_count": 8,
      "outputs": [
        {
          "output_type": "stream",
          "name": "stdout",
          "text": [
            "gives the or operation : 5\n"
          ]
        }
      ]
    },
    {
      "cell_type": "code",
      "source": [
        "# Comparision operators(=,>,<,<=,>=,!=)\n",
        "a = 1\n",
        "b = 2\n",
        "print(\"check for greater value:\", a > b)"
      ],
      "metadata": {
        "colab": {
          "base_uri": "https://localhost:8080/"
        },
        "id": "wPObRCaarczA",
        "outputId": "c9e26082-d1e6-416d-c5e0-350d8e30bc7f"
      },
      "execution_count": 10,
      "outputs": [
        {
          "output_type": "stream",
          "name": "stdout",
          "text": [
            "check for greater value: False\n"
          ]
        }
      ]
    },
    {
      "cell_type": "code",
      "source": [
        "#Membership and identity operator (is, is not, in ,not in)\n",
        "a = [1,2,3,4]\n",
        "print(\"is 5 in a\", 5 in a)"
      ],
      "metadata": {
        "colab": {
          "base_uri": "https://localhost:8080/"
        },
        "id": "6j6rdFY0s4Wj",
        "outputId": "ff00394e-aae5-4bdb-b4eb-1272d9a7b561"
      },
      "execution_count": 12,
      "outputs": [
        {
          "output_type": "stream",
          "name": "stdout",
          "text": [
            "is 5 in a False\n"
          ]
        }
      ]
    },
    {
      "cell_type": "code",
      "source": [
        "# assignment operator(=,+=,-=,&=...etc)\n",
        "a = 1\n",
        "b = a+1\n",
        "print(b)"
      ],
      "metadata": {
        "colab": {
          "base_uri": "https://localhost:8080/"
        },
        "id": "HCAQIdQOtIaO",
        "outputId": "716df852-0136-4cc9-aec5-8f9491a56476"
      },
      "execution_count": 13,
      "outputs": [
        {
          "output_type": "stream",
          "name": "stdout",
          "text": [
            "2\n"
          ]
        }
      ]
    },
    {
      "cell_type": "markdown",
      "source": [
        "5. \"Explain the concept of type casting in Python with exaMples"
      ],
      "metadata": {
        "id": "t_YLg_Ukt2sz"
      }
    },
    {
      "cell_type": "code",
      "source": [
        "# Type casting in python is used to convert from one datatype to another datatype\n",
        "#Type casting is often necessary for performing arithmetic operations, data manipulation, and input/output operations in Python programs.\n",
        "# We use type casting to convert the given input to proper format\n",
        "# There are two types : Implicit and Explicit"
      ],
      "metadata": {
        "id": "uEn5sIc7wWys"
      },
      "execution_count": null,
      "outputs": []
    },
    {
      "cell_type": "code",
      "source": [
        "# Implicit type casting: Where system can understand by itself the datatype\n",
        "a = 1\n",
        "print(type(a))"
      ],
      "metadata": {
        "colab": {
          "base_uri": "https://localhost:8080/"
        },
        "id": "8dTW393rwaeN",
        "outputId": "8ef6ccef-968b-46a7-8a29-54e7339b393b"
      },
      "execution_count": 21,
      "outputs": [
        {
          "output_type": "stream",
          "name": "stdout",
          "text": [
            "<class 'int'>\n"
          ]
        }
      ]
    },
    {
      "cell_type": "code",
      "source": [
        "# Explicit type casting : Where user can convert the input to required datatype\n",
        "a = 1\n",
        "print(type(a))\n",
        "b = float(a)\n",
        "print(type(b))"
      ],
      "metadata": {
        "colab": {
          "base_uri": "https://localhost:8080/"
        },
        "id": "q_tHlQost6Yc",
        "outputId": "535b5175-3e05-43ac-daf9-7f356018d9d3"
      },
      "execution_count": 15,
      "outputs": [
        {
          "output_type": "stream",
          "name": "stdout",
          "text": [
            "<class 'int'>\n",
            "<class 'float'>\n"
          ]
        }
      ]
    },
    {
      "cell_type": "markdown",
      "source": [
        "6. How do conditional statements wo$k in Python? Illust$ate with examples"
      ],
      "metadata": {
        "id": "uTuzYeckuZYm"
      }
    },
    {
      "cell_type": "code",
      "source": [
        "# Conditional statments are used to perform a task based on particular condition\n",
        "\n",
        "# if, else, elif etc\n",
        "\n",
        "a = int(input(\"enter the input to check condition\"))\n",
        "if a > 1:\n",
        "  print(\" yes its greater than 1\")\n",
        "elif a <1:\n",
        "  print(\"no its not greater than 1\")\n",
        "else:\n",
        "  print(\"it equal to 1\")"
      ],
      "metadata": {
        "colab": {
          "base_uri": "https://localhost:8080/"
        },
        "id": "rwofIFwkucyJ",
        "outputId": "88bb008f-aa07-49a0-b407-bb387e03bd35"
      },
      "execution_count": 19,
      "outputs": [
        {
          "output_type": "stream",
          "name": "stdout",
          "text": [
            "enter the input to check condition2\n",
            " yes its greater than 1\n"
          ]
        }
      ]
    },
    {
      "cell_type": "markdown",
      "source": [
        "7. Describe the different types of loops in Python and thei$ use cases with examples\n"
      ],
      "metadata": {
        "id": "8Sotx0vdvZvB"
      }
    },
    {
      "cell_type": "code",
      "source": [
        "#Loops are used to perform a task repeatedly until the condition is met\n",
        "# for, while, do while etc\n",
        "\n",
        "#for\n",
        "\n",
        "a = [1,2,3,4,5]\n",
        "for i in a:\n",
        "  print(i)"
      ],
      "metadata": {
        "colab": {
          "base_uri": "https://localhost:8080/"
        },
        "id": "8mUfvAOcvWZN",
        "outputId": "a760fd54-c972-4dc3-c0d9-823eb8e8070e"
      },
      "execution_count": 22,
      "outputs": [
        {
          "output_type": "stream",
          "name": "stdout",
          "text": [
            "1\n",
            "2\n",
            "3\n",
            "4\n",
            "5\n"
          ]
        }
      ]
    },
    {
      "cell_type": "code",
      "source": [
        "#while\n",
        "i =0\n",
        "while i<6:\n",
        "  print(i)\n",
        "  i = i+1"
      ],
      "metadata": {
        "colab": {
          "base_uri": "https://localhost:8080/"
        },
        "id": "fGDzDkCnxjBy",
        "outputId": "9ba49492-d0cc-4f20-8bc3-8232f5666a44"
      },
      "execution_count": 23,
      "outputs": [
        {
          "output_type": "stream",
          "name": "stdout",
          "text": [
            "0\n",
            "1\n",
            "2\n",
            "3\n",
            "4\n",
            "5\n"
          ]
        }
      ]
    },
    {
      "cell_type": "code",
      "source": [
        "# along with break , continue, pass\n",
        "i = 0\n",
        "while i <4:\n",
        "  if i ==2:\n",
        "    print(i)\n",
        "    i = i+1\n",
        "    break\n",
        "  i = i+1\n",
        "  if i ==3:\n",
        "    print(i)\n",
        "    continue\n"
      ],
      "metadata": {
        "colab": {
          "base_uri": "https://localhost:8080/"
        },
        "id": "DqOnCT9WxrBW",
        "outputId": "6b382039-d48c-418e-8826-5bbe373578b1"
      },
      "execution_count": 25,
      "outputs": [
        {
          "output_type": "stream",
          "name": "stdout",
          "text": [
            "2\n"
          ]
        }
      ]
    },
    {
      "cell_type": "code",
      "source": [],
      "metadata": {
        "id": "A-pmUkysyD8N"
      },
      "execution_count": null,
      "outputs": []
    }
  ]
}