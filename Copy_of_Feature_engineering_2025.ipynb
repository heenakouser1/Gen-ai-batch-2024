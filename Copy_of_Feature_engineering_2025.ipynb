{
  "nbformat": 4,
  "nbformat_minor": 0,
  "metadata": {
    "colab": {
      "provenance": [],
      "authorship_tag": "ABX9TyMgLbbVpz/p+txUF10Lyc/u",
      "include_colab_link": true
    },
    "kernelspec": {
      "name": "python3",
      "display_name": "Python 3"
    },
    "language_info": {
      "name": "python"
    }
  },
  "cells": [
    {
      "cell_type": "markdown",
      "metadata": {
        "id": "view-in-github",
        "colab_type": "text"
      },
      "source": [
        "<a href=\"https://colab.research.google.com/github/heenakouser1/Gen-ai-batch-2024/blob/main/Copy_of_Feature_engineering_2025.ipynb\" target=\"_parent\"><img src=\"https://colab.research.google.com/assets/colab-badge.svg\" alt=\"Open In Colab\"/></a>"
      ]
    },
    {
      "cell_type": "markdown",
      "source": [
        "1.What is a parameter?"
      ],
      "metadata": {
        "id": "2oWeIqC5p4vt"
      }
    },
    {
      "cell_type": "markdown",
      "source": [
        "They are required for making predictions. They are estimated by optimization algorithms(Gradient Descent, Adam, Adagrad).They are not set manually.The final parameters found after training will decide how the model will perform on unseen data"
      ],
      "metadata": {
        "id": "yJeVrZWjp7fV"
      }
    },
    {
      "cell_type": "markdown",
      "source": [
        "2.  What is correlation?\n",
        " What does negative correlation mean\n"
      ],
      "metadata": {
        "id": "_1kIxURKrQVI"
      }
    },
    {
      "cell_type": "markdown",
      "source": [
        "Correlation is finding the relationship beytween variables. If the one variable is incresing and other is decreasing then they are negatively correlated."
      ],
      "metadata": {
        "id": "XlaZ773urQd0"
      }
    },
    {
      "cell_type": "markdown",
      "source": [
        "3. Define Machine Learning. What are the main components in Machine Learning?"
      ],
      "metadata": {
        "id": "gR7q1_bhr3Ed"
      }
    },
    {
      "cell_type": "markdown",
      "source": [
        "Machine learning is process where model predicts about the data by learning the patterns.\n",
        "Components of machine learning includes\n",
        "1. Representation\n",
        "2. Evaluation\n",
        "3. optimization"
      ],
      "metadata": {
        "id": "AAjA_ll_s4iQ"
      }
    },
    {
      "cell_type": "markdown",
      "source": [
        "4. How does loss value help in determining whether the model is good or not?"
      ],
      "metadata": {
        "id": "FkAc1eGus57J"
      }
    },
    {
      "cell_type": "markdown",
      "source": [
        "Loss value represents the summation of errors in our model. it measures how well our model is doing. If the errors are high, the loss will be high, which means that the model does not do a good job. Otherwise, the lower it is, the better our model works."
      ],
      "metadata": {
        "id": "xNEM2KFwtv6H"
      }
    },
    {
      "cell_type": "markdown",
      "source": [
        "5.  What are continuous and categorical variables"
      ],
      "metadata": {
        "id": "uw76NUS1tw44"
      }
    },
    {
      "cell_type": "markdown",
      "source": [
        "Contionus variables are those which are numeric in nature. varies gradually and are contionus."
      ],
      "metadata": {
        "id": "9xZVRk2ztz90"
      }
    },
    {
      "cell_type": "code",
      "source": [
        "import numpy as np\n",
        "a = np.random.normal(0,5,5)\n",
        "a"
      ],
      "metadata": {
        "colab": {
          "base_uri": "https://localhost:8080/"
        },
        "id": "dx9u6NiPs26h",
        "outputId": "2ea86aea-4b41-48a5-c860-088f347af149"
      },
      "execution_count": null,
      "outputs": [
        {
          "output_type": "execute_result",
          "data": {
            "text/plain": [
              "array([ 1.90085577, -1.93438732,  4.88824145,  0.58874633, -2.82599366])"
            ]
          },
          "metadata": {},
          "execution_count": 6
        }
      ]
    },
    {
      "cell_type": "markdown",
      "source": [
        "categorical variables are non-numeirc in nature usually labels, names, or types.\n",
        "eg: a = ['red','yellow','blue','white']"
      ],
      "metadata": {
        "id": "IP8sDmdQuiWE"
      }
    },
    {
      "cell_type": "markdown",
      "source": [
        "6. How do we handle categorical variables in Machine Learning? What are the common t\n",
        " echniques?"
      ],
      "metadata": {
        "id": "IdxV72l0uw7a"
      }
    },
    {
      "cell_type": "markdown",
      "source": [
        "Categorical variables are off two types nominal and ordinal data. these are handled by following techniques\n",
        "1. Nominal encoding/ One hot encoding\n",
        "2. Label or label encoding\n",
        "3. Target guided encoding"
      ],
      "metadata": {
        "id": "keOhnifGwg62"
      }
    },
    {
      "cell_type": "markdown",
      "source": [
        " 7.What do you mean by training and testing a dataset"
      ],
      "metadata": {
        "id": "hGdTeQaCwiX9"
      }
    },
    {
      "cell_type": "markdown",
      "source": [
        "Training data : It is data on which the model is been trained , to learn about the patterns and identify the nature of data.\n",
        "\n",
        "Testing data: It is unseen data , which is been fed to model, to give the result. Basically it helps to know , whether model is trained well or no"
      ],
      "metadata": {
        "id": "W9Z-7yXmwmc5"
      }
    },
    {
      "cell_type": "markdown",
      "source": [
        "8. What is sklearn.preprocessing"
      ],
      "metadata": {
        "id": "V8Zwa3rkxAFs"
      }
    },
    {
      "cell_type": "markdown",
      "source": [
        "Preprocessing is a crucial step in the machine learning pipeline, as it transforms raw data into a format that is more suitable for modeling. The sklearn.preprocessing module in Scikit-Learn provides several utility functions and transformer classes to facilitate this process"
      ],
      "metadata": {
        "id": "_hQ4rNHwxCOn"
      }
    },
    {
      "cell_type": "markdown",
      "source": [
        " 9. What is a Test set"
      ],
      "metadata": {
        "id": "SF8mDLFpxkqm"
      }
    },
    {
      "cell_type": "markdown",
      "source": [
        "A test dataset is a collection of data points that the model hasn't seen during its training process.\n",
        "1. independent of training data\n",
        "2. representative of real world\n",
        "3. sufficient size\n",
        "4. high quality\n",
        "It is used in Training, evaluation, metrics, iteration."
      ],
      "metadata": {
        "id": "VgLPGVIByD4W"
      }
    },
    {
      "cell_type": "markdown",
      "source": [
        "10. How do we split data for model fitting (training and testing) in Python?\n",
        " How do you approach a Machine Learning problem?"
      ],
      "metadata": {
        "id": "aBpAZSy6yiIa"
      }
    },
    {
      "cell_type": "markdown",
      "source": [
        "Training and testing data is split into correct ratio like 70- 30.etc\n",
        "Eg: X_train, X_test, y_train, y_test = train_test_split(X, y, test_size=0.05, random_state=0)\n",
        "\n",
        "Approach:\n",
        "1. Data collection\n",
        "2. Data preparation ( Taking care of missing values, outliers, class imbalance, Data encoding). Feature Engineering or fetaure selection\n",
        "3. Selecting right model\n",
        "4. Training model with train data and  Testing model\n",
        "5. Validation for hypertuning."
      ],
      "metadata": {
        "id": "pEJklKFYy4b8"
      }
    },
    {
      "cell_type": "markdown",
      "source": [
        "11. Why do we have to perform EDA before fitting a model to the data"
      ],
      "metadata": {
        "id": "x0TLqpq00LqC"
      }
    },
    {
      "cell_type": "markdown",
      "source": [
        "EDA helps us know our data well, including its structure and any issues.\n",
        "It reveals patterns and relationships that guide our analysis and model building.\n",
        "Identifying outliers early prevents mistakes in our predictions.\n",
        "Testing assumptions ensures our models are valid and reliable.\n",
        "Insights from EDA guide us in selecting and transforming features for better results."
      ],
      "metadata": {
        "id": "dlu8RvF00V7P"
      }
    },
    {
      "cell_type": "markdown",
      "source": [
        "12.  What is correlation"
      ],
      "metadata": {
        "id": "A8NVb6W00XOT"
      }
    },
    {
      "cell_type": "markdown",
      "source": [
        "Correlation is finding the relationship beytween variables. If the one variable is incresing and other is decreasing then they are negatively correlated."
      ],
      "metadata": {
        "id": "Yx0-LB1s0aYe"
      }
    },
    {
      "cell_type": "markdown",
      "source": [
        "13.  What does negative correlation mean?"
      ],
      "metadata": {
        "id": "KOQy5UHl0gBL"
      }
    },
    {
      "cell_type": "markdown",
      "source": [
        "If the one variable is incresing and other is decreasing then they are negatively correlated.\n"
      ],
      "metadata": {
        "id": "GfVWiQHk0gGI"
      }
    },
    {
      "cell_type": "code",
      "source": [
        "import matplotlib.pyplot as plt\n",
        "x = [1,2,3,4,5]\n",
        "y = [5,4,3,2,1]\n",
        "plt.scatter(x,y)\n",
        "plt.show()"
      ],
      "metadata": {
        "colab": {
          "base_uri": "https://localhost:8080/",
          "height": 430
        },
        "id": "jyIjj-3l0kO7",
        "outputId": "7e4961b9-d7f8-4adc-eb65-25f508475fcd"
      },
      "execution_count": null,
      "outputs": [
        {
          "output_type": "display_data",
          "data": {
            "text/plain": [
              "<Figure size 640x480 with 1 Axes>"
            ],
            "image/png": "[encoded data removed]"
          },
          "metadata": {}
        }
      ]
    },
    {
      "cell_type": "markdown",
      "source": [
        "14. How can you find correlation between variables in Python"
      ],
      "metadata": {
        "id": "0QOaQNY80gIb"
      }
    },
    {
      "cell_type": "markdown",
      "source": [
        "correlation between variables can be found by\n",
        "1. Pearson correlation\n",
        "2. Spearmen correlation"
      ],
      "metadata": {
        "id": "_PG8pd940gLO"
      }
    },
    {
      "cell_type": "code",
      "source": [
        "# Pearson correlation\n",
        "import pandas as pd\n",
        "data = {'x': [1, 2, 3, 4, 5], 'y': [5, 6, 7, 8, 7]}\n",
        "df = pd.DataFrame(data)\n",
        "pearson = df.corr(method='pearson')\n",
        "sns.heatmap(pearson, annot=True)\n",
        "plt.show()"
      ],
      "metadata": {
        "colab": {
          "base_uri": "https://localhost:8080/",
          "height": 435
        },
        "id": "hllEZA072Dlh",
        "outputId": "5e45fdc5-ddf7-487f-e8d0-2e90ed524c87"
      },
      "execution_count": null,
      "outputs": [
        {
          "output_type": "display_data",
          "data": {
            "text/plain": [
              "<Figure size 640x480 with 2 Axes>"
            ],
            "image/png": "[encoded data removed]"
          },
          "metadata": {}
        }
      ]
    },
    {
      "cell_type": "code",
      "source": [
        "# Spearmen correlation\n",
        "import pandas as pd\n",
        "data = {'x': [1, 2, 3, 4, 5], 'y': [5, 6, 7, 8, 7]}\n",
        "df = pd.DataFrame(data)\n",
        "spearmen = df.corr(method='spearman')\n",
        "sns.heatmap(spearmen, annot=True)\n",
        "plt.show()"
      ],
      "metadata": {
        "colab": {
          "base_uri": "https://localhost:8080/",
          "height": 435
        },
        "id": "d7M8l5Xu2ksx",
        "outputId": "03439aeb-f7d7-427f-8bd8-871dbbf70507"
      },
      "execution_count": null,
      "outputs": [
        {
          "output_type": "display_data",
          "data": {
            "text/plain": [
              "<Figure size 640x480 with 2 Axes>"
            ],
            "image/png": "[encoded data removed]"
          },
          "metadata": {}
        }
      ]
    },
    {
      "cell_type": "markdown",
      "source": [
        "15.  What is causation? Explain difference between correlation and causation with an example."
      ],
      "metadata": {
        "id": "9zzxi6zd2j9g"
      }
    },
    {
      "cell_type": "markdown",
      "source": [
        "causation is concerned with how one variable might affect another.\n",
        "Correlation is a number that measures how closely the data are related\n",
        "Causality is the conclusion that x causes y.\n",
        "\n",
        "eg: During the summer, the sale of ice cream at a beach increases\n",
        "Simultaneously, drowning accidents also increase as well\n",
        "Does this mean that increase of ice cream sale is a direct cause of increased drowning accidents?\n",
        "It is likely that these two variables are accidentally correlating with each other.\n",
        "\n",
        "What causes drowning then?\n",
        "\n",
        "Unskilled swimmers,\n",
        "Waves,\n",
        "Cramp,\n",
        "Seizure disorders,\n",
        "Lack of supervision,\n",
        "Alcohol (mis)use\n",
        "etc."
      ],
      "metadata": {
        "id": "yThcTdnN0gNb"
      }
    },
    {
      "cell_type": "code",
      "source": [
        "import pandas as pd\n",
        "import matplotlib.pyplot as plt\n",
        "\n",
        "Drowning_Accident = [20,40,60,80,100,120,140,160,180,200]\n",
        "Ice_Cream_Sale = [20,40,60,80,100,120,140,160,180,200]\n",
        "Drowning = {\"Drowning_Accident\": [20,40,60,80,100,120,140,160,180,200],\n",
        "\"Ice_Cream_Sale\": [20,40,60,80,100,120,140,160,180,200]}\n",
        "Drowning = pd.DataFrame(data=Drowning)\n",
        "\n",
        "Drowning.plot(x=\"Ice_Cream_Sale\", y=\"Drowning_Accident\", kind=\"scatter\")\n",
        "plt.show()\n",
        "\n",
        "correlation_beach = Drowning.corr()\n",
        "print(correlation_beach)"
      ],
      "metadata": {
        "colab": {
          "base_uri": "https://localhost:8080/",
          "height": 504
        },
        "id": "TGNzMnKo5aPy",
        "outputId": "0e392b83-7d3f-40e1-b628-c2faef0b602e"
      },
      "execution_count": null,
      "outputs": [
        {
          "output_type": "display_data",
          "data": {
            "text/plain": [
              "<Figure size 640x480 with 1 Axes>"
            ],
            "image/png": "[encoded data removed]"
          },
          "metadata": {}
        },
        {
          "output_type": "stream",
          "name": "stdout",
          "text": [
            "                   Drowning_Accident  Ice_Cream_Sale\n",
            "Drowning_Accident                1.0             1.0\n",
            "Ice_Cream_Sale                   1.0             1.0\n"
          ]
        }
      ]
    },
    {
      "cell_type": "markdown",
      "source": [
        " 16. What is an Optimizer? What are different types of optimizers? Explain each with an example"
      ],
      "metadata": {
        "id": "yzxs5fan5Zwc"
      }
    },
    {
      "cell_type": "markdown",
      "source": [
        "Optimizers are algorithms that adjust the parameters of a neural network to minimize the loss function, thereby improving the model’s performance.\n",
        "1. Grdient descent - Used in regression find the optimal slope and intercept that minimize prediction errors.\n",
        "2. Stochastic Gradient Descent -  is widely used in training deep neural networks where datasets are too large to fit into memory.\n",
        "3. Momentum - useful in navigating ravines in error surfaces, common in Deep Learning models.\n",
        "4. NAG - NAG is effective in training deep networks with complex architectures.\n",
        "5. Adagrad -adagrad works well for sparse data scenarios, such as text classification tasks using bag-of-words representations.\n",
        "6. RMSprop - often used in recurrent neural networks (RNNs) due to its ability to handle sequences effectively.\n",
        "7. Adma - Adam is widely regarded as one of the best optimizers for various tasks due to its efficiency and ease of use across different types of neural networks."
      ],
      "metadata": {
        "id": "fIaqOukV0gP5"
      }
    },
    {
      "cell_type": "markdown",
      "source": [
        "17.  What is sklearn.linear_model"
      ],
      "metadata": {
        "id": "YUNzngwQ0gSe"
      }
    },
    {
      "cell_type": "markdown",
      "source": [
        "The linear_model module in Scikit-learn provides various linear models for regression and classification tasks. These models are designed to predict target values as a linear combination of input features."
      ],
      "metadata": {
        "id": "BiipLqVO0gU_"
      }
    },
    {
      "cell_type": "markdown",
      "source": [
        "18. What does model.fit() do? What arguments must be given?\n",
        "\n"
      ],
      "metadata": {
        "id": "-EPmLfhr0gXl"
      }
    },
    {
      "cell_type": "markdown",
      "source": [
        "Model.fit() in TensorFlow function is used to train a machine learning model for a fixed number of epochs (iterations over the entire dataset).\n",
        "Arugments like input , target data, epochs, batch size, verbose, validation split.\n"
      ],
      "metadata": {
        "id": "KKoRt6T47kYx"
      }
    },
    {
      "cell_type": "markdown",
      "source": [
        "19. What does model.predict() do? What arguments must be given"
      ],
      "metadata": {
        "id": "z8BvFXJP8cDu"
      }
    },
    {
      "cell_type": "markdown",
      "source": [
        "predict() will perform a prediction for each test instance and it usually accepts only a single input (X)\n",
        "Aruguments like test instance, batch size"
      ],
      "metadata": {
        "id": "VzEoQVwx8c24"
      }
    },
    {
      "cell_type": "markdown",
      "source": [
        " 20. What are continuous and categorical variables"
      ],
      "metadata": {
        "id": "7KwQ8bwN8-PF"
      }
    },
    {
      "cell_type": "markdown",
      "source": [
        "Contionus variables are those which are numeric in nature. varies gradually and are contionus.\n",
        "A = [1,1.2,2,2.3]\n",
        "categorical variables are non-numeirc in nature usually labels, names, or types. eg: a = ['red','yellow','blue','white']"
      ],
      "metadata": {
        "id": "J4soYQbP9HCD"
      }
    },
    {
      "cell_type": "markdown",
      "source": [
        "21. What is feature scaling? How does it help in Machine Learning"
      ],
      "metadata": {
        "id": "KTlh7tqJ9QnZ"
      }
    },
    {
      "cell_type": "markdown",
      "source": [
        "Feature scaling is process of brining all attributes or features to standard measure/SCALE.\n",
        "Feature scaling includes:\n",
        "1. Standarization\n",
        "2. Normalization\n",
        "3. Unit vector\n",
        "\n",
        "It ensures that all features contribute equally to the model, improves algorithm performance, and prevents numerical instability."
      ],
      "metadata": {
        "id": "8S2gWTff9TKA"
      }
    },
    {
      "cell_type": "markdown",
      "source": [
        " 22. How do we perform scaling in Python"
      ],
      "metadata": {
        "id": "huojzYxm-C8_"
      }
    },
    {
      "cell_type": "code",
      "source": [
        "# Standarization\n",
        "\n",
        "import pandas as pd\n",
        "import seaborn as sns\n",
        "df = sns.load_dataset('tips')\n",
        "from sklearn.preprocessing import StandardScaler\n",
        "scaler = StandardScaler()\n",
        "scaler.fit_transform(df[['total_bill','tip']])"
      ],
      "metadata": {
        "colab": {
          "base_uri": "https://localhost:8080/"
        },
        "id": "0zhot_pH0KOn",
        "outputId": "f75c523a-d03e-43dc-e03f-6c6a4960982e"
      },
      "execution_count": null,
      "outputs": [
        {
          "output_type": "execute_result",
          "data": {
            "text/plain": [
              "array([[-3.14711305e-01, -1.43994695e+00],\n",
              "       [-1.06323531e+00, -9.69205340e-01],\n",
              "       [ 1.37779900e-01,  3.63355539e-01],\n",
              "       [ 4.38315103e-01,  2.25754144e-01],\n",
              "       [ 5.40744704e-01,  4.43019505e-01],\n",
              "       [ 6.19536705e-01,  1.23965916e+00],\n",
              "       [-1.23995452e+00, -7.22971264e-01],\n",
              "       [ 7.98507107e-01,  8.81527488e-02],\n",
              "       [-5.34203307e-01, -7.51939979e-01],\n",
              "       [-5.63468908e-01,  1.67816714e-01],\n",
              "       [-1.07111451e+00, -9.32994446e-01],\n",
              "       [ 1.74175992e+00,  1.44968234e+00],\n",
              "       [-4.91430507e-01, -1.03438495e+00],\n",
              "       [-1.52624903e-01,  1.24660453e-03],\n",
              "       [-5.57840908e-01,  1.57309619e-02],\n",
              "       [ 2.01939101e-01,  6.67527044e-01],\n",
              "       [-1.06436091e+00, -9.61963161e-01],\n",
              "       [-3.93503306e-01,  5.15441291e-01],\n",
              "       [-3.16962505e-01,  3.63355539e-01],\n",
              "       [ 9.72582994e-02,  2.54722859e-01],\n",
              "       [-2.10030504e-01,  7.83401903e-01],\n",
              "       [ 5.67366990e-02, -1.79807863e-01],\n",
              "       [-4.52034507e-01, -5.56401155e-01],\n",
              "       [ 2.21000952e+00,  3.31816444e+00],\n",
              "       [ 3.83349840e-03,  1.31605821e-01],\n",
              "       [-2.22412104e-01, -4.76737189e-01],\n",
              "       [-7.22178510e-01, -7.22971264e-01],\n",
              "       [-7.98719310e-01, -7.22971264e-01],\n",
              "       [ 2.15446301e-01,  9.42729834e-01],\n",
              "       [-1.53017018e-02,  1.24660453e-03],\n",
              "       [-1.15215771e+00, -1.12129109e+00],\n",
              "       [-1.61629703e-01, -3.60862330e-01],\n",
              "       [-5.31952107e-01,  1.24660453e-03],\n",
              "       [ 1.01760699e-01, -3.97073223e-01],\n",
              "       [-2.25788904e-01,  1.96785429e-01],\n",
              "       [ 4.81087904e-01,  4.35777326e-01],\n",
              "       [-3.91252106e-01, -7.22971264e-01],\n",
              "       [-3.21464905e-01,  5.19418554e-02],\n",
              "       [-1.23359303e-01, -4.98463725e-01],\n",
              "       [ 1.29264551e+00,  1.44968234e+00],\n",
              "       [-4.21643306e-01, -5.49158976e-01],\n",
              "       [-2.61808105e-01, -3.31893615e-01],\n",
              "       [-6.58019309e-01,  4.46996767e-02],\n",
              "       [-1.13752491e+00, -1.21543942e+00],\n",
              "       [ 1.19471831e+00,  1.88421306e+00],\n",
              "       [-1.68383303e-01,  1.24660453e-03],\n",
              "       [ 2.75103101e-01,  1.44968234e+00],\n",
              "       [ 1.41983831e+00,  2.17390021e+00],\n",
              "       [ 9.86482309e-01, -6.86760371e-01],\n",
              "       [-1.96523304e-01,  1.24660453e-03],\n",
              "       [-8.15603311e-01, -3.60862330e-01],\n",
              "       [-1.06886331e+00, -2.88440543e-01],\n",
              "       [ 1.69110792e+00,  1.59452592e+00],\n",
              "       [-1.10825931e+00, -1.04162713e+00],\n",
              "       [ 6.49927905e-01,  9.71698549e-01],\n",
              "       [-3.33113020e-02,  3.70597718e-01],\n",
              "       [ 2.05129992e+00,  1.24660453e-03],\n",
              "       [ 7.45603907e-01, -1.08508020e+00],\n",
              "       [-9.61931312e-01, -8.96783553e-01],\n",
              "       [ 3.20616553e+00,  2.70257926e+00],\n",
              "       [ 5.67366990e-02,  1.53332357e-01],\n",
              "       [-6.72652109e-01, -7.22971264e-01],\n",
              "       [-9.86694512e-01, -7.37455622e-01],\n",
              "       [-1.68383303e-01,  5.51652185e-01],\n",
              "       [-2.47175304e-01, -2.59471828e-01],\n",
              "       [ 3.30990987e-02,  1.09879285e-01],\n",
              "       [-3.75493706e-01, -3.82588866e-01],\n",
              "       [-1.88154652e+00, -1.44718913e+00],\n",
              "       [ 4.99830989e-02, -7.15729086e-01],\n",
              "       [-5.37580108e-01, -6.57791656e-01],\n",
              "       [-8.74134511e-01, -7.44697800e-01],\n",
              "       [-3.05706505e-01,  1.24660453e-03],\n",
              "       [ 7.96255907e-01,  1.02637106e-01],\n",
              "       [ 6.18411105e-01,  1.44968234e+00],\n",
              "       [-5.69096908e-01, -5.78127691e-01],\n",
              "       [-1.04410011e+00, -1.26613467e+00],\n",
              "       [-2.10030504e-01,  5.91840340e-02],\n",
              "       [ 8.34526308e-01,  7.25464473e-01],\n",
              "       [ 3.34759902e-01,  1.24660453e-03],\n",
              "       [-2.80943305e-01, -2.08776577e-01],\n",
              "       [-3.89393021e-02,  1.24660453e-03],\n",
              "       [-3.51856105e-01,  2.90933752e-01],\n",
              "       [-1.09362651e+00, -8.46088302e-01],\n",
              "       [ 1.45135511e+00,  1.44968234e+00],\n",
              "       [-4.28396906e-01, -7.01244728e-01],\n",
              "       [ 1.69335912e+00,  1.57279938e+00],\n",
              "       [-7.60448910e-01, -7.22971264e-01],\n",
              "       [-1.69508903e-01,  7.25464473e-01],\n",
              "       [ 5.54251904e-01,  2.06526753e+00],\n",
              "       [ 1.54663900e-01,  1.24660453e-03],\n",
              "       [ 1.03375751e+00,  1.24660453e-03],\n",
              "       [ 3.04368702e-01,  3.63355539e-01],\n",
              "       [-1.57988572e+00, -1.44718913e+00],\n",
              "       [-3.90126506e-01,  9.42729834e-01],\n",
              "       [ 3.33634302e-01,  1.82301072e-01],\n",
              "       [ 2.29442952e+00,  1.25414352e+00],\n",
              "       [ 8.43531108e-01,  7.25464473e-01],\n",
              "       [-8.73008911e-01, -1.08508020e+00],\n",
              "       [ 1.37779900e-01,  1.24660453e-03],\n",
              "       [-8.24608111e-01, -1.08508020e+00],\n",
              "       [-9.49549712e-01, -3.60862330e-01],\n",
              "       [-4.95932907e-01,  1.24660453e-03],\n",
              "       [ 2.75930233e+00, -3.60862330e-01],\n",
              "       [ 2.96489502e-01,  3.48871182e-01],\n",
              "       [ 1.27649500e-01,  7.83401903e-01],\n",
              "       [-4.98184107e-01, -9.83689697e-01],\n",
              "       [ 7.92486992e-02,  7.68917546e-01],\n",
              "       [ 6.10531905e-01,  9.35487655e-01],\n",
              "       [-1.74011304e-01,  5.51652185e-01],\n",
              "       [-6.16372108e-01,  7.25464473e-01],\n",
              "       [-6.51265709e-01,  1.24660453e-03],\n",
              "       [-1.41104572e+00, -1.44718913e+00],\n",
              "       [ 2.05805352e+00,  7.25464473e-01],\n",
              "       [ 4.68706304e-01, -3.24651436e-01],\n",
              "       [ 6.66811906e-01,  7.25464473e-01],\n",
              "       [-2.78692105e-01,  3.63355539e-01],\n",
              "       [ 1.14181511e+00,  1.50037759e+00],\n",
              "       [-1.02834171e+00, -1.08508020e+00],\n",
              "       [-8.27984911e-01, -8.67814838e-01],\n",
              "       [ 4.83339104e-01, -5.66908250e-02],\n",
              "       [-9.11279312e-01, -4.98463725e-01],\n",
              "       [-7.16550509e-01, -9.54720982e-01],\n",
              "       [-6.22000108e-01, -3.60862330e-01],\n",
              "       [-4.31773706e-01, -7.22971264e-01],\n",
              "       [-8.22356911e-01, -3.46377973e-01],\n",
              "       [ 1.12718231e+00,  8.70308047e-01],\n",
              "       [-1.26809452e+00, -1.09956456e+00],\n",
              "       [-5.92734508e-01, -7.22971264e-01],\n",
              "       [-9.46172912e-01, -7.22971264e-01],\n",
              "       [ 3.41513502e-01, -5.92612048e-01],\n",
              "       [-7.94609025e-02, -1.08508020e+00],\n",
              "       [ 5.44854990e-02, -1.21870433e-01],\n",
              "       [-9.69810512e-01, -1.08508020e+00],\n",
              "       [-8.47120111e-01, -7.22971264e-01],\n",
              "       [-1.71760104e-01,  1.82301072e-01],\n",
              "       [-1.26922012e+00, -1.26613467e+00],\n",
              "       [-1.06436091e+00, -7.22971264e-01],\n",
              "       [-6.34381709e-01, -7.22971264e-01],\n",
              "       [-4.26145706e-01, -7.22971264e-01],\n",
              "       [-7.45816110e-01, -1.79807863e-01],\n",
              "       [-2.60682504e-01,  3.63355539e-01],\n",
              "       [ 1.63370232e+00,  2.68085272e+00],\n",
              "       [ 2.40924072e+00,  1.44968234e+00],\n",
              "       [ 8.17642307e-01,  1.44968234e+00],\n",
              "       [-3.77744906e-01, -5.05705904e-01],\n",
              "       [-1.28722972e+00, -1.08508020e+00],\n",
              "       [-1.28987303e-01, -1.18647070e+00],\n",
              "       [-8.91018511e-01, -9.90931876e-01],\n",
              "       [-1.12626891e+00, -9.18510089e-01],\n",
              "       [-1.38178012e+00, -7.22971264e-01],\n",
              "       [-6.43386509e-01, -3.60862330e-01],\n",
              "       [-7.49192910e-01, -7.22971264e-01],\n",
              "       [-2.84320105e-01, -1.87050041e-01],\n",
              "       [ 5.36242304e-01, -7.22971264e-01],\n",
              "       [-1.79450166e-03, -7.22971264e-01],\n",
              "       [ 1.13281031e+00,  1.55107284e+00],\n",
              "       [ 3.19490953e+00,  1.44968234e+00],\n",
              "       [ 5.86894305e-01,  5.44410006e-01],\n",
              "       [-7.19927310e-01, -2.81198364e-01],\n",
              "       [-3.70991306e-01, -7.22971264e-01],\n",
              "       [ 1.92934300e-01,  3.63355539e-01],\n",
              "       [-8.02096110e-01, -3.60862330e-01],\n",
              "       [-4.02508106e-01, -7.22971264e-01],\n",
              "       [-6.72652109e-01, -7.22971264e-01],\n",
              "       [-2.56180104e-01,  1.24660453e-03],\n",
              "       [ 5.32865504e-01,  3.48871182e-01],\n",
              "       [ 1.09639900e-01, -5.49158976e-01],\n",
              "       [ 1.34217191e+00,  1.08757341e+00],\n",
              "       [-1.03509531e+00, -1.00541623e+00],\n",
              "       [-1.03059291e+00, -7.22971264e-01],\n",
              "       [ 3.49206794e+00,  5.07077169e+00],\n",
              "       [-4.47532107e-01,  1.17121464e-01],\n",
              "       [-1.41104572e+00,  1.55831502e+00],\n",
              "       [ 1.35793031e+00,  1.31605821e-01],\n",
              "       [-3.33846505e-01,  7.25464473e-01],\n",
              "       [ 1.47611831e+00,  8.09105701e-02],\n",
              "       [-2.13407304e-01, -7.22971264e-01],\n",
              "       [-5.97236908e-01, -7.22971264e-01],\n",
              "       [-1.14652971e+00,  7.25464473e-01],\n",
              "       [ 1.67084712e+00,  3.99566432e-01],\n",
              "       [ 1.67309832e+00,  4.93714755e-01],\n",
              "       [ 3.98919103e-01,  1.92042396e+00],\n",
              "       [ 2.87749033e+00,  3.63355539e-01],\n",
              "       [ 3.80909503e-01,  2.53600915e+00],\n",
              "       [ 2.33720232e+00,  1.24660453e-03],\n",
              "       [ 1.01760699e-01,  1.44968234e+00],\n",
              "       [ 1.25398300e-01,  3.63355539e-01],\n",
              "       [ 1.20147191e+00, -7.22971264e-01],\n",
              "       [-1.84141704e-01,  3.63355539e-01],\n",
              "       [ 3.73030302e-01,  7.25464473e-01],\n",
              "       [-4.61039307e-01, -1.08508020e+00],\n",
              "       [ 2.70789839e-03,  8.63065869e-01],\n",
              "       [ 9.74100709e-01, -3.17409258e-01],\n",
              "       [-4.84676907e-01, -7.08486907e-01],\n",
              "       [-3.60860906e-01,  7.25464473e-01],\n",
              "       [-1.37615212e+00, -1.12853327e+00],\n",
              "       [-1.06323531e+00, -7.22971264e-01],\n",
              "       [ 2.62535593e+00,  1.44968234e+00],\n",
              "       [-7.63825710e-01, -7.22971264e-01],\n",
              "       [-7.06420109e-01, -7.22971264e-01],\n",
              "       [-1.21108103e-01,  7.25464473e-01],\n",
              "       [-7.93091310e-01, -7.15729086e-01],\n",
              "       [-7.63825710e-01, -7.22971264e-01],\n",
              "       [-3.81121706e-01, -3.60862330e-01],\n",
              "       [ 8.37510993e-02,  7.25464473e-01],\n",
              "       [-3.73242506e-01,  1.67816714e-01],\n",
              "       [ 7.65864707e-01,  2.98175931e-01],\n",
              "       [ 2.13234312e+00,  1.24660453e-03],\n",
              "       [ 5.04725504e-01, -7.01244728e-01],\n",
              "       [-7.90840110e-01, -5.56401155e-01],\n",
              "       [ 1.15644791e+00, -7.22971264e-01],\n",
              "       [ 6.87072706e-01,  1.56555720e+00],\n",
              "       [ 3.21291913e+00,  4.34655382e+00],\n",
              "       [-7.33434510e-01, -3.60862330e-01],\n",
              "       [ 9.43709509e-01,  2.53600915e+00],\n",
              "       [-7.75081710e-01, -1.37476735e+00],\n",
              "       [ 9.41458309e-01,  1.24660453e-03],\n",
              "       [-9.22535312e-01, -1.08508020e+00],\n",
              "       [-1.35589132e+00, -1.12853327e+00],\n",
              "       [ 1.16545271e+00,  6.64262127e-02],\n",
              "       [-8.58376111e-01, -5.78127691e-01],\n",
              "       [-7.16550509e-01,  3.48871182e-01],\n",
              "       [-1.26134092e+00, -7.80908694e-01],\n",
              "       [-4.28396906e-01,  1.24660453e-03],\n",
              "       [-7.16550509e-01, -1.02714277e+00],\n",
              "       [-3.95754506e-01, -3.60862330e-01],\n",
              "       [-1.09137531e+00, -7.22971264e-01],\n",
              "       [ 7.47462992e-02,  1.24660453e-03],\n",
              "       [-7.32308910e-01, -2.01534399e-01],\n",
              "       [ 2.62721501e-01, -8.56595397e-02],\n",
              "       [ 4.75459904e-01, -7.22971264e-01],\n",
              "       [-4.61039307e-01,  1.24660453e-03],\n",
              "       [-9.20284112e-01,  2.83691573e-01],\n",
              "       [-1.01483451e+00, -1.10680673e+00],\n",
              "       [-4.79048907e-01,  1.24660453e-03],\n",
              "       [-1.09362651e+00, -1.26613467e+00],\n",
              "       [-8.08849711e-01, -1.44718913e+00],\n",
              "       [ 1.46823911e+00, -1.32407210e+00],\n",
              "       [ 1.80591912e+00,  1.21069045e+00],\n",
              "       [ 1.04051111e+00,  2.11596278e+00],\n",
              "       [ 8.32275107e-01, -7.22971264e-01],\n",
              "       [ 3.24629502e-01, -7.22971264e-01],\n",
              "       [-2.21286504e-01, -9.04025732e-01],\n",
              "       [-1.13228903e-01,  1.24660453e-03]])"
            ]
          },
          "metadata": {},
          "execution_count": 24
        }
      ]
    },
    {
      "cell_type": "code",
      "source": [
        "# Minmax scaler\n",
        "\n",
        "import pandas as pd\n",
        "import seaborn as sns\n",
        "df = sns.load_dataset('tips')\n",
        "from sklearn.preprocessing import MinMaxScaler\n",
        "scaler = MinMaxScaler()\n",
        "scaler.fit_transform(df[['total_bill','tip']])"
      ],
      "metadata": {
        "colab": {
          "base_uri": "https://localhost:8080/"
        },
        "id": "d-c9qVsb0fBa",
        "outputId": "85d3fa06-9016-4db3-9610-7e1fe98ce6bd"
      },
      "execution_count": null,
      "outputs": [
        {
          "output_type": "execute_result",
          "data": {
            "text/plain": [
              "array([[0.29157939, 0.00111111],\n",
              "       [0.1522832 , 0.07333333],\n",
              "       [0.3757855 , 0.27777778],\n",
              "       [0.43171345, 0.25666667],\n",
              "       [0.45077503, 0.29      ],\n",
              "       [0.46543779, 0.41222222],\n",
              "       [0.11939673, 0.11111111],\n",
              "       [0.49874319, 0.23555556],\n",
              "       [0.25073314, 0.10666667],\n",
              "       [0.24528697, 0.24777778],\n",
              "       [0.15081693, 0.07888889],\n",
              "       [0.67427734, 0.44444444],\n",
              "       [0.25869292, 0.06333333],\n",
              "       [0.32174277, 0.22222222],\n",
              "       [0.24633431, 0.22444444],\n",
              "       [0.38772518, 0.32444444],\n",
              "       [0.15207373, 0.07444444],\n",
              "       [0.27691663, 0.30111111],\n",
              "       [0.29116045, 0.27777778],\n",
              "       [0.36824466, 0.26111111],\n",
              "       [0.31105991, 0.34222222],\n",
              "       [0.36070381, 0.19444444],\n",
              "       [0.2660243 , 0.13666667],\n",
              "       [0.761416  , 0.73111111],\n",
              "       [0.35085882, 0.24222222],\n",
              "       [0.30875576, 0.14888889],\n",
              "       [0.21575199, 0.11111111],\n",
              "       [0.20150817, 0.11111111],\n",
              "       [0.39023879, 0.36666667],\n",
              "       [0.34729786, 0.22222222],\n",
              "       [0.13573523, 0.05      ],\n",
              "       [0.32006703, 0.16666667],\n",
              "       [0.25115207, 0.22222222],\n",
              "       [0.36908253, 0.16111111],\n",
              "       [0.30812736, 0.25222222],\n",
              "       [0.43967323, 0.28888889],\n",
              "       [0.27733557, 0.11111111],\n",
              "       [0.29032258, 0.23      ],\n",
              "       [0.32718894, 0.14555556],\n",
              "       [0.59069962, 0.44444444],\n",
              "       [0.27167993, 0.13777778],\n",
              "       [0.30142438, 0.17111111],\n",
              "       [0.22769166, 0.22888889],\n",
              "       [0.13845832, 0.03555556],\n",
              "       [0.57247591, 0.51111111],\n",
              "       [0.31881022, 0.22222222],\n",
              "       [0.40134059, 0.44444444],\n",
              "       [0.6143695 , 0.55555556],\n",
              "       [0.53372434, 0.11666667],\n",
              "       [0.31357352, 0.22222222],\n",
              "       [0.19836615, 0.16666667],\n",
              "       [0.15123586, 0.17777778],\n",
              "       [0.66485128, 0.46666667],\n",
              "       [0.14390448, 0.06222222],\n",
              "       [0.47109342, 0.37111111],\n",
              "       [0.34394638, 0.27888889],\n",
              "       [0.73188102, 0.22222222],\n",
              "       [0.4888982 , 0.05555556],\n",
              "       [0.17113532, 0.08444444],\n",
              "       [0.94679514, 0.63666667],\n",
              "       [0.36070381, 0.24555556],\n",
              "       [0.22496858, 0.11111111],\n",
              "       [0.16652702, 0.10888889],\n",
              "       [0.31881022, 0.30666667],\n",
              "       [0.30414747, 0.18222222],\n",
              "       [0.35630499, 0.23888889],\n",
              "       [0.28026812, 0.16333333],\n",
              "       [0.        , 0.        ],\n",
              "       [0.359447  , 0.11222222],\n",
              "       [0.25010473, 0.12111111],\n",
              "       [0.18747382, 0.10777778],\n",
              "       [0.29325513, 0.22222222],\n",
              "       [0.49832426, 0.23777778],\n",
              "       [0.46522832, 0.44444444],\n",
              "       [0.24423963, 0.13333333],\n",
              "       [0.15584416, 0.02777778],\n",
              "       [0.31105991, 0.23111111],\n",
              "       [0.50544617, 0.33333333],\n",
              "       [0.4124424 , 0.22222222],\n",
              "       [0.29786343, 0.19      ],\n",
              "       [0.34289904, 0.22222222],\n",
              "       [0.28466695, 0.26666667],\n",
              "       [0.14662757, 0.09222222],\n",
              "       [0.6202346 , 0.44444444],\n",
              "       [0.27042313, 0.11444444],\n",
              "       [0.66527021, 0.46333333],\n",
              "       [0.20863008, 0.11111111],\n",
              "       [0.31860075, 0.33333333],\n",
              "       [0.45328865, 0.53888889],\n",
              "       [0.37892752, 0.22222222],\n",
              "       [0.54252199, 0.22222222],\n",
              "       [0.40678676, 0.27777778],\n",
              "       [0.05613741, 0.        ],\n",
              "       [0.27754504, 0.36666667],\n",
              "       [0.41223293, 0.25      ],\n",
              "       [0.7771261 , 0.41444444],\n",
              "       [0.50712191, 0.33333333],\n",
              "       [0.18768328, 0.05555556],\n",
              "       [0.3757855 , 0.22222222],\n",
              "       [0.19669041, 0.05555556],\n",
              "       [0.17343946, 0.16666667],\n",
              "       [0.25785505, 0.22222222],\n",
              "       [0.86363636, 0.16666667],\n",
              "       [0.40532049, 0.27555556],\n",
              "       [0.37390029, 0.34222222],\n",
              "       [0.25743611, 0.07111111],\n",
              "       [0.36489317, 0.34      ],\n",
              "       [0.46376204, 0.36555556],\n",
              "       [0.31776288, 0.30666667],\n",
              "       [0.23544198, 0.33333333],\n",
              "       [0.22894847, 0.22222222],\n",
              "       [0.0875576 , 0.        ],\n",
              "       [0.73313783, 0.33333333],\n",
              "       [0.43736908, 0.17222222],\n",
              "       [0.47423544, 0.33333333],\n",
              "       [0.29828236, 0.27777778],\n",
              "       [0.56263092, 0.45222222],\n",
              "       [0.15877671, 0.05555556],\n",
              "       [0.196062  , 0.08888889],\n",
              "       [0.44009217, 0.21333333],\n",
              "       [0.18056137, 0.14555556],\n",
              "       [0.21679933, 0.07555556],\n",
              "       [0.23439464, 0.16666667],\n",
              "       [0.26979472, 0.11111111],\n",
              "       [0.19710934, 0.16888889],\n",
              "       [0.55990783, 0.35555556],\n",
              "       [0.11416003, 0.05333333],\n",
              "       [0.2398408 , 0.11111111],\n",
              "       [0.17406787, 0.11111111],\n",
              "       [0.4136992 , 0.13111111],\n",
              "       [0.33535819, 0.05555556],\n",
              "       [0.36028488, 0.20333333],\n",
              "       [0.16966904, 0.05555556],\n",
              "       [0.19250105, 0.11111111],\n",
              "       [0.31818182, 0.25      ],\n",
              "       [0.11395057, 0.02777778],\n",
              "       [0.15207373, 0.11111111],\n",
              "       [0.23209049, 0.11111111],\n",
              "       [0.27084206, 0.11111111],\n",
              "       [0.21135316, 0.19444444],\n",
              "       [0.30163385, 0.27777778],\n",
              "       [0.65416841, 0.63333333],\n",
              "       [0.79849183, 0.44444444],\n",
              "       [0.50230415, 0.44444444],\n",
              "       [0.27984918, 0.14444444],\n",
              "       [0.11059908, 0.05555556],\n",
              "       [0.3261416 , 0.04      ],\n",
              "       [0.1843318 , 0.07      ],\n",
              "       [0.140553  , 0.08111111],\n",
              "       [0.09300377, 0.11111111],\n",
              "       [0.23041475, 0.16666667],\n",
              "       [0.21072476, 0.11111111],\n",
              "       [0.29723502, 0.19333333],\n",
              "       [0.44993716, 0.11111111],\n",
              "       [0.34981148, 0.11111111],\n",
              "       [0.56095517, 0.46      ],\n",
              "       [0.94470046, 0.44444444],\n",
              "       [0.45936322, 0.30555556],\n",
              "       [0.21617093, 0.17888889],\n",
              "       [0.28110599, 0.11111111],\n",
              "       [0.38604943, 0.27777778],\n",
              "       [0.20087977, 0.16666667],\n",
              "       [0.27524089, 0.11111111],\n",
              "       [0.22496858, 0.11111111],\n",
              "       [0.30247172, 0.22222222],\n",
              "       [0.44930876, 0.27555556],\n",
              "       [0.37054881, 0.13777778],\n",
              "       [0.59991621, 0.38888889],\n",
              "       [0.1575199 , 0.06777778],\n",
              "       [0.15835777, 0.11111111],\n",
              "       [1.        , 1.        ],\n",
              "       [0.26686217, 0.24      ],\n",
              "       [0.0875576 , 0.46111111],\n",
              "       [0.60284876, 0.24222222],\n",
              "       [0.28801843, 0.33333333],\n",
              "       [0.6248429 , 0.23444444],\n",
              "       [0.3104315 , 0.11111111],\n",
              "       [0.23900293, 0.11111111],\n",
              "       [0.13678257, 0.33333333],\n",
              "       [0.66108085, 0.28333333],\n",
              "       [0.66149979, 0.29777778],\n",
              "       [0.42438207, 0.51666667],\n",
              "       [0.8856305 , 0.27777778],\n",
              "       [0.42103058, 0.61111111],\n",
              "       [0.78508588, 0.22222222],\n",
              "       [0.36908253, 0.44444444],\n",
              "       [0.37348136, 0.27777778],\n",
              "       [0.57373272, 0.11111111],\n",
              "       [0.31587767, 0.27777778],\n",
              "       [0.41956431, 0.33333333],\n",
              "       [0.26434855, 0.05555556],\n",
              "       [0.35064935, 0.35444444],\n",
              "       [0.53142019, 0.17333333],\n",
              "       [0.25994973, 0.11333333],\n",
              "       [0.2829912 , 0.33333333],\n",
              "       [0.09405111, 0.04888889],\n",
              "       [0.1522832 , 0.11111111],\n",
              "       [0.83870968, 0.44444444],\n",
              "       [0.20800168, 0.11111111],\n",
              "       [0.21868454, 0.11111111],\n",
              "       [0.32760788, 0.33333333],\n",
              "       [0.20255551, 0.11222222],\n",
              "       [0.20800168, 0.11111111],\n",
              "       [0.27922078, 0.16666667],\n",
              "       [0.36573104, 0.33333333],\n",
              "       [0.28068705, 0.24777778],\n",
              "       [0.49266862, 0.26777778],\n",
              "       [0.74696271, 0.22222222],\n",
              "       [0.44407206, 0.11444444],\n",
              "       [0.20297444, 0.13666667],\n",
              "       [0.565354  , 0.11111111],\n",
              "       [0.47800587, 0.46222222],\n",
              "       [0.94805195, 0.88888889],\n",
              "       [0.21365731, 0.16666667],\n",
              "       [0.52576456, 0.61111111],\n",
              "       [0.205907  , 0.01111111],\n",
              "       [0.52534562, 0.22222222],\n",
              "       [0.17846669, 0.05555556],\n",
              "       [0.09782153, 0.04888889],\n",
              "       [0.56702974, 0.23222222],\n",
              "       [0.19040637, 0.13333333],\n",
              "       [0.21679933, 0.27555556],\n",
              "       [0.11541684, 0.10222222],\n",
              "       [0.27042313, 0.22222222],\n",
              "       [0.21679933, 0.06444444],\n",
              "       [0.2764977 , 0.16666667],\n",
              "       [0.1470465 , 0.11111111],\n",
              "       [0.3640553 , 0.22222222],\n",
              "       [0.21386678, 0.19111111],\n",
              "       [0.39903645, 0.20888889],\n",
              "       [0.43862589, 0.11111111],\n",
              "       [0.26434855, 0.22222222],\n",
              "       [0.17888563, 0.26555556],\n",
              "       [0.16129032, 0.05222222],\n",
              "       [0.26099707, 0.22222222],\n",
              "       [0.14662757, 0.02777778],\n",
              "       [0.19962296, 0.        ],\n",
              "       [0.62337662, 0.01888889],\n",
              "       [0.68621701, 0.40777778],\n",
              "       [0.5437788 , 0.54666667],\n",
              "       [0.50502723, 0.11111111],\n",
              "       [0.41055718, 0.11111111],\n",
              "       [0.30896523, 0.08333333],\n",
              "       [0.32907415, 0.22222222]])"
            ]
          },
          "metadata": {},
          "execution_count": 25
        }
      ]
    },
    {
      "cell_type": "code",
      "source": [
        "# unit vector\n",
        "from math import sqrt\n",
        "X = 3\n",
        "y = 4\n",
        "z = sqrt(X**2 + y**2)\n",
        "print(z)\n",
        "print(\"unit vector\", X/z,y/z)"
      ],
      "metadata": {
        "colab": {
          "base_uri": "https://localhost:8080/"
        },
        "id": "qtOTNtsw_XgP",
        "outputId": "fc4bf2a7-aa8d-4dc2-d85d-5f72755a7241"
      },
      "execution_count": null,
      "outputs": [
        {
          "output_type": "stream",
          "name": "stdout",
          "text": [
            "5.0\n",
            "unit vector 0.6 0.8\n"
          ]
        }
      ]
    },
    {
      "cell_type": "code",
      "source": [
        "# Normalize\n",
        "from sklearn.preprocessing import Normalizer\n",
        "scaler = Normalizer()\n",
        "scaler.fit_transform(df[['total_bill','tip']])"
      ],
      "metadata": {
        "colab": {
          "base_uri": "https://localhost:8080/"
        },
        "id": "FrT0MOx0A34K",
        "outputId": "c0075c9c-8a5b-4527-e0de-1b8abc203d88"
      },
      "execution_count": null,
      "outputs": [
        {
          "output_type": "execute_result",
          "data": {
            "text/plain": [
              "array([[0.99823771, 0.05934197],\n",
              "       [0.98735707, 0.15851187],\n",
              "       [0.98640661, 0.16432285],\n",
              "       [0.99037159, 0.13843454],\n",
              "       [0.98939488, 0.14525073],\n",
              "       [0.98309589, 0.18309141],\n",
              "       [0.97496878, 0.2223418 ],\n",
              "       [0.99333102, 0.11529735],\n",
              "       [0.99161511, 0.12922644],\n",
              "       [0.97694312, 0.21349975],\n",
              "       [0.98641987, 0.16424323],\n",
              "       [0.99009498, 0.14039917],\n",
              "       [0.99485672, 0.10129216],\n",
              "       [0.98700924, 0.16066347],\n",
              "       [0.97988851, 0.19954574],\n",
              "       [0.98389908, 0.17872495],\n",
              "       [0.9871829 , 0.15959298],\n",
              "       [0.9750328 , 0.22206088],\n",
              "       [0.97938658, 0.20199487],\n",
              "       [0.98709527, 0.1601341 ],\n",
              "       [0.97504726, 0.22199737],\n",
              "       [0.9909398 , 0.13430677],\n",
              "       [0.99014941, 0.14001479],\n",
              "       [0.98201   , 0.18882891],\n",
              "       [0.98737215, 0.15841793],\n",
              "       [0.99147891, 0.1302673 ],\n",
              "       [0.98899596, 0.14794255],\n",
              "       [0.98780711, 0.15568276],\n",
              "       [0.98092686, 0.19437721],\n",
              "       [0.98854552, 0.15092298],\n",
              "       [0.98866899, 0.15011205],\n",
              "       [0.99084659, 0.13499272],\n",
              "       [0.98073067, 0.19536467],\n",
              "       [0.99306186, 0.11759312],\n",
              "       [0.98350502, 0.18088084],\n",
              "       [0.98899056, 0.14797864],\n",
              "       [0.9925654 , 0.1217125 ],\n",
              "       [0.98395349, 0.17842512],\n",
              "       [0.99244848, 0.12266217],\n",
              "       [0.98745639, 0.15789197],\n",
              "       [0.99038917, 0.13830871],\n",
              "       [0.9895835 , 0.14396003],\n",
              "       [0.97674434, 0.21440729],\n",
              "       [0.99083017, 0.1351132 ],\n",
              "       [0.98345319, 0.18116243],\n",
              "       [0.98681354, 0.16186116],\n",
              "       [0.9756262 , 0.21943909],\n",
              "       [0.983282  , 0.18208926],\n",
              "       [0.99743203, 0.07161946],\n",
              "       [0.98645298, 0.16404429],\n",
              "       [0.98070081, 0.19551452],\n",
              "       [0.96952977, 0.24497351],\n",
              "       [0.98902579, 0.14774301],\n",
              "       [0.98790759, 0.15504385],\n",
              "       [0.98588897, 0.16740055],\n",
              "       [0.98416747, 0.17724104],\n",
              "       [0.99689977, 0.07868191],\n",
              "       [0.99839096, 0.05670528],\n",
              "       [0.98796171, 0.15469863],\n",
              "       [0.99041991, 0.13808838],\n",
              "       [0.98771556, 0.15626254],\n",
              "       [0.98967534, 0.14332735],\n",
              "       [0.98423933, 0.17684155],\n",
              "       [0.97951611, 0.20136581],\n",
              "       [0.98892398, 0.14842293],\n",
              "       [0.98791805, 0.15497718],\n",
              "       [0.98891429, 0.14848744],\n",
              "       [0.95082902, 0.30971629],\n",
              "       [0.9951003 , 0.09887057],\n",
              "       [0.99044476, 0.13791003],\n",
              "       [0.98683411, 0.16173571],\n",
              "       [0.9849053 , 0.17309408],\n",
              "       [0.99323616, 0.11611175],\n",
              "       [0.98099635, 0.19402618],\n",
              "       [0.98902973, 0.14771659],\n",
              "       [0.99300147, 0.11810198],\n",
              "       [0.98554889, 0.16939122],\n",
              "       [0.98935914, 0.14549399],\n",
              "       [0.99142462, 0.13067987],\n",
              "       [0.98793839, 0.15484749],\n",
              "       [0.98830106, 0.1525156 ],\n",
              "       [0.97980406, 0.19996001],\n",
              "       [0.98388554, 0.17879946],\n",
              "       [0.98849725, 0.15123887],\n",
              "       [0.99202757, 0.12602102],\n",
              "       [0.98916225, 0.14682655],\n",
              "       [0.98842426, 0.15171516],\n",
              "       [0.97688607, 0.21376063],\n",
              "       [0.9731012 , 0.23037807],\n",
              "       [0.99009867, 0.14037316],\n",
              "       [0.99468088, 0.10300458],\n",
              "       [0.98810609, 0.15377374],\n",
              "       [0.98521175, 0.17134117],\n",
              "       [0.96699774, 0.25478494],\n",
              "       [0.98994949, 0.14142136],\n",
              "       [0.99313879, 0.11694166],\n",
              "       [0.98942047, 0.14507631],\n",
              "       [0.9923159 , 0.12373016],\n",
              "       [0.98995892, 0.14135539],\n",
              "       [0.99283152, 0.11952225],\n",
              "       [0.97659027, 0.21510799],\n",
              "       [0.98150229, 0.19145038],\n",
              "       [0.99841143, 0.05634376],\n",
              "       [0.98816699, 0.15338185],\n",
              "       [0.9815078 , 0.19142217],\n",
              "       [0.99434827, 0.10616739],\n",
              "       [0.98092896, 0.1943666 ],\n",
              "       [0.98582805, 0.16775892],\n",
              "       [0.97940711, 0.20189532],\n",
              "       [0.96308275, 0.26920552],\n",
              "       [0.97780241, 0.20952909],\n",
              "       [0.99062113, 0.1366374 ],\n",
              "       [0.99452547, 0.1044944 ],\n",
              "       [0.99437962, 0.1058734 ],\n",
              "       [0.98811258, 0.15373202],\n",
              "       [0.9801647 , 0.19818466],\n",
              "       [0.98595419, 0.16701596],\n",
              "       [0.99022651, 0.13946852],\n",
              "       [0.98967697, 0.14331605],\n",
              "       [0.99272781, 0.12038062],\n",
              "       [0.98102995, 0.19385622],\n",
              "       [0.99225511, 0.12421674],\n",
              "       [0.98497764, 0.17268191],\n",
              "       [0.99222995, 0.12441755],\n",
              "       [0.98021649, 0.19792833],\n",
              "       [0.99021357, 0.1395603 ],\n",
              "       [0.98524568, 0.17114596],\n",
              "       [0.99064659, 0.1364527 ],\n",
              "       [0.9849053 , 0.17309408],\n",
              "       [0.99546798, 0.09509729],\n",
              "       [0.99692399, 0.07837453],\n",
              "       [0.99039401, 0.13827405],\n",
              "       [0.99110348, 0.13309357],\n",
              "       [0.98695377, 0.16100388],\n",
              "       [0.98452739, 0.17523078],\n",
              "       [0.98938373, 0.14532664],\n",
              "       [0.98176841, 0.19008101],\n",
              "       [0.99015833, 0.13995171],\n",
              "       [0.99227788, 0.12403473],\n",
              "       [0.97885648, 0.20454828],\n",
              "       [0.98051586, 0.19643993],\n",
              "       [0.98145122, 0.19171205],\n",
              "       [0.99271283, 0.12050411],\n",
              "       [0.98334222, 0.18176381],\n",
              "       [0.9903434 , 0.13863602],\n",
              "       [0.98424492, 0.17681046],\n",
              "       [0.9973489 , 0.07276795],\n",
              "       [0.99070276, 0.13604427],\n",
              "       [0.98471252, 0.17418739],\n",
              "       [0.96632031, 0.25734229],\n",
              "       [0.98457858, 0.17494289],\n",
              "       [0.98859692, 0.15058597],\n",
              "       [0.98763272, 0.15678526],\n",
              "       [0.99669804, 0.0811974 ],\n",
              "       [0.99492193, 0.10064966],\n",
              "       [0.98549631, 0.16969685],\n",
              "       [0.99465602, 0.10324435],\n",
              "       [0.98893635, 0.14834045],\n",
              "       [0.98152754, 0.1913209 ],\n",
              "       [0.99272506, 0.12040328],\n",
              "       [0.98700727, 0.1606756 ],\n",
              "       [0.98105465, 0.19373117],\n",
              "       [0.99247442, 0.12245212],\n",
              "       [0.98967534, 0.14332735],\n",
              "       [0.98563832, 0.16887007],\n",
              "       [0.99007829, 0.14051682],\n",
              "       [0.99422916, 0.10727713],\n",
              "       [0.9900802 , 0.14050334],\n",
              "       [0.98863996, 0.15030315],\n",
              "       [0.98275687, 0.18490251],\n",
              "       [0.98117767, 0.1931072 ],\n",
              "       [0.98060452, 0.19599686],\n",
              "       [0.81525026, 0.57910881],\n",
              "       [0.99505264, 0.09934906],\n",
              "       [0.97286824, 0.23135987],\n",
              "       [0.99556187, 0.09410934],\n",
              "       [0.99380899, 0.11110218],\n",
              "       [0.99059557, 0.13682259],\n",
              "       [0.92307692, 0.38461538],\n",
              "       [0.99478667, 0.10197784],\n",
              "       [0.99440752, 0.10561096],\n",
              "       [0.971905  , 0.23537348],\n",
              "       [0.99703505, 0.07694868],\n",
              "       [0.96283011, 0.27010771],\n",
              "       [0.99727446, 0.07378109],\n",
              "       [0.97201936, 0.23490076],\n",
              "       [0.98626609, 0.16516418],\n",
              "       [0.99785133, 0.0655188 ],\n",
              "       [0.98190985, 0.18934901],\n",
              "       [0.98533672, 0.17062108],\n",
              "       [0.99546119, 0.09516837],\n",
              "       [0.97835547, 0.20693132],\n",
              "       [0.99597319, 0.08965159],\n",
              "       [0.99159327, 0.12939395],\n",
              "       [0.97210987, 0.2345259 ],\n",
              "       [0.98233857, 0.18711211],\n",
              "       [0.9818027 , 0.18990381],\n",
              "       [0.99334115, 0.11521006],\n",
              "       [0.9883717 , 0.15205718],\n",
              "       [0.98921918, 0.14644251],\n",
              "       [0.97790174, 0.20906504],\n",
              "       [0.98778182, 0.15584313],\n",
              "       [0.9883717 , 0.15205718],\n",
              "       [0.98857982, 0.15069814],\n",
              "       [0.98154316, 0.19124075],\n",
              "       [0.98130713, 0.19244821],\n",
              "       [0.99187684, 0.12720196],\n",
              "       [0.99701346, 0.077228  ],\n",
              "       [0.99652023, 0.0833513 ],\n",
              "       [0.98506977, 0.17215561],\n",
              "       [0.99779396, 0.06638682],\n",
              "       [0.98071158, 0.19546048],\n",
              "       [0.98309941, 0.18307252],\n",
              "       [0.98271253, 0.18513801],\n",
              "       [0.97439703, 0.22483424],\n",
              "       [0.99638411, 0.08496299],\n",
              "       [0.99436913, 0.10597184],\n",
              "       [0.99172875, 0.12835143],\n",
              "       [0.98313005, 0.18290792],\n",
              "       [0.99478573, 0.10198699],\n",
              "       [0.98402491, 0.17803082],\n",
              "       [0.96798392, 0.25101222],\n",
              "       [0.97586485, 0.21837535],\n",
              "       [0.98283039, 0.18451134],\n",
              "       [0.9931405 , 0.11692712],\n",
              "       [0.98839977, 0.15187458],\n",
              "       [0.98091575, 0.19443325],\n",
              "       [0.98941028, 0.14514576],\n",
              "       [0.97966223, 0.20065371],\n",
              "       [0.99163038, 0.1291092 ],\n",
              "       [0.99654862, 0.08301113],\n",
              "       [0.98220682, 0.18780245],\n",
              "       [0.95991662, 0.28028573],\n",
              "       [0.99081337, 0.13523636],\n",
              "       [0.98184827, 0.18966805],\n",
              "       [0.99238364, 0.12318566],\n",
              "       [0.99686539, 0.0791163 ],\n",
              "       [0.99936557, 0.03561553],\n",
              "       [0.99161275, 0.12924453],\n",
              "       [0.97983374, 0.19981453],\n",
              "       [0.99730368, 0.07338511],\n",
              "       [0.99613098, 0.08788099],\n",
              "       [0.99521256, 0.09773412],\n",
              "       [0.98747998, 0.15774441]])"
            ]
          },
          "metadata": {},
          "execution_count": 34
        }
      ]
    },
    {
      "cell_type": "markdown",
      "source": [
        "23.  What is sklearn.preprocessing"
      ],
      "metadata": {
        "id": "RcG_3ZQP_ZI9"
      }
    },
    {
      "cell_type": "markdown",
      "source": [
        "Preprocessing is a crucial step in the machine learning pipeline, as it transforms raw data into a format that is more suitable for modeling. The sklearn.preprocessing module in Scikit-Learn provides several utility functions and transformer classes to facilitate this process"
      ],
      "metadata": {
        "id": "8BRVG5gvBSZN"
      }
    },
    {
      "cell_type": "markdown",
      "source": [
        "24. How do we split data for model fitting (training and testing) in Python"
      ],
      "metadata": {
        "id": "W7VKqDQZBXeQ"
      }
    },
    {
      "cell_type": "markdown",
      "source": [
        "Training and testing data is split into correct ratio like 70- 30.etc Eg: X_train, X_test, y_train, y_test = train_test_split(X, y, test_size=0.05, random_state=0)"
      ],
      "metadata": {
        "id": "9VJhyiyOBjhZ"
      }
    },
    {
      "cell_type": "markdown",
      "source": [
        "25. Explain data encoding?"
      ],
      "metadata": {
        "id": "TXIYSipaBlXp"
      }
    },
    {
      "cell_type": "markdown",
      "source": [
        "Data encoding is process of encoding the data to make it ready for model. Meaning transforming the categorical data into numerical data by coding it with most suitable values.\n",
        "Data encoding has following ways:\n",
        "1. Nominal encoding\n",
        "2. Label encoding / Ordinal encoding\n",
        "3. Target guided encoding\n"
      ],
      "metadata": {
        "id": "gQoA4xZiBrYK"
      }
    },
    {
      "cell_type": "code",
      "source": [
        "# Nominal encoding\n",
        "import pandas as pd\n",
        "from sklearn.preprocessing import OneHotEncoder\n",
        "df = pd.DataFrame({'color':['red','blue','green','green','red','blue']})\n",
        "encoder = OneHotEncoder()\n",
        "df_encoded = encoder.fit_transform(df[['color']]).toarray()\n",
        "pd.DataFrame(df_encoded, columns = encoder.get_feature_names_out())"
      ],
      "metadata": {
        "colab": {
          "base_uri": "https://localhost:8080/",
          "height": 237
        },
        "id": "RQIMMDfjBQ0J",
        "outputId": "faed985c-6f60-4679-e954-b002fe92cb8c"
      },
      "execution_count": null,
      "outputs": [
        {
          "output_type": "execute_result",
          "data": {
            "text/plain": [
              "   color_blue  color_green  color_red\n",
              "0         0.0          0.0        1.0\n",
              "1         1.0          0.0        0.0\n",
              "2         0.0          1.0        0.0\n",
              "3         0.0          1.0        0.0\n",
              "4         0.0          0.0        1.0\n",
              "5         1.0          0.0        0.0"
            ],
            "text/html": [
              "\n",
              "  <div id=\"df-ae90d0d7-f244-4aec-883b-0079f9a80026\" class=\"colab-df-container\">\n",
              "    <div>\n",
              "<style scoped>\n",
              "    .dataframe tbody tr th:only-of-type {\n",
              "        vertical-align: middle;\n",
              "    }\n",
              "\n",
              "    .dataframe tbody tr th {\n",
              "        vertical-align: top;\n",
              "    }\n",
              "\n",
              "    .dataframe thead th {\n",
              "        text-align: right;\n",
              "    }\n",
              "</style>\n",
              "<table border=\"1\" class=\"dataframe\">\n",
              "  <thead>\n",
              "    <tr style=\"text-align: right;\">\n",
              "      <th></th>\n",
              "      <th>color_blue</th>\n",
              "      <th>color_green</th>\n",
              "      <th>color_red</th>\n",
              "    </tr>\n",
              "  </thead>\n",
              "  <tbody>\n",
              "    <tr>\n",
              "      <th>0</th>\n",
              "      <td>0.0</td>\n",
              "      <td>0.0</td>\n",
              "      <td>1.0</td>\n",
              "    </tr>\n",
              "    <tr>\n",
              "      <th>1</th>\n",
              "      <td>1.0</td>\n",
              "      <td>0.0</td>\n",
              "      <td>0.0</td>\n",
              "    </tr>\n",
              "    <tr>\n",
              "      <th>2</th>\n",
              "      <td>0.0</td>\n",
              "      <td>1.0</td>\n",
              "      <td>0.0</td>\n",
              "    </tr>\n",
              "    <tr>\n",
              "      <th>3</th>\n",
              "      <td>0.0</td>\n",
              "      <td>1.0</td>\n",
              "      <td>0.0</td>\n",
              "    </tr>\n",
              "    <tr>\n",
              "      <th>4</th>\n",
              "      <td>0.0</td>\n",
              "      <td>0.0</td>\n",
              "      <td>1.0</td>\n",
              "    </tr>\n",
              "    <tr>\n",
              "      <th>5</th>\n",
              "      <td>1.0</td>\n",
              "      <td>0.0</td>\n",
              "      <td>0.0</td>\n",
              "    </tr>\n",
              "  </tbody>\n",
              "</table>\n",
              "</div>\n",
              "    <div class=\"colab-df-buttons\">\n",
              "\n",
              "  <div class=\"colab-df-container\">\n",
              "    <button class=\"colab-df-convert\" onclick=\"convertToInteractive('df-ae90d0d7-f244-4aec-883b-0079f9a80026')\"\n",
              "            title=\"Convert this dataframe to an interactive table.\"\n",
              "            style=\"display:none;\">\n",
              "\n",
              "  <svg xmlns=\"http://www.w3.org/2000/svg\" height=\"24px\" viewBox=\"0 -960 960 960\">\n",
              "    <path d=\"M120-120v-720h720v720H120Zm60-500h600v-160H180v160Zm220 220h160v-160H400v160Zm0 220h160v-160H400v160ZM180-400h160v-160H180v160Zm440 0h160v-160H620v160ZM180-180h160v-160H180v160Zm440 0h160v-160H620v160Z\"/>\n",
              "  </svg>\n",
              "    </button>\n",
              "\n",
              "  <style>\n",
              "    .colab-df-container {\n",
              "      display:flex;\n",
              "      gap: 12px;\n",
              "    }\n",
              "\n",
              "    .colab-df-convert {\n",
              "      background-color: #E8F0FE;\n",
              "      border: none;\n",
              "      border-radius: 50%;\n",
              "      cursor: pointer;\n",
              "      display: none;\n",
              "      fill: #1967D2;\n",
              "      height: 32px;\n",
              "      padding: 0 0 0 0;\n",
              "      width: 32px;\n",
              "    }\n",
              "\n",
              "    .colab-df-convert:hover {\n",
              "      background-color: #E2EBFA;\n",
              "      box-shadow: 0px 1px 2px rgba(60, 64, 67, 0.3), 0px 1px 3px 1px rgba(60, 64, 67, 0.15);\n",
              "      fill: #174EA6;\n",
              "    }\n",
              "\n",
              "    .colab-df-buttons div {\n",
              "      margin-bottom: 4px;\n",
              "    }\n",
              "\n",
              "    [theme=dark] .colab-df-convert {\n",
              "      background-color: #3B4455;\n",
              "      fill: #D2E3FC;\n",
              "    }\n",
              "\n",
              "    [theme=dark] .colab-df-convert:hover {\n",
              "      background-color: #434B5C;\n",
              "      box-shadow: 0px 1px 3px 1px rgba(0, 0, 0, 0.15);\n",
              "      filter: drop-shadow(0px 1px 2px rgba(0, 0, 0, 0.3));\n",
              "      fill: #FFFFFF;\n",
              "    }\n",
              "  </style>\n",
              "\n",
              "    <script>\n",
              "      const buttonEl =\n",
              "        document.querySelector('#df-ae90d0d7-f244-4aec-883b-0079f9a80026 button.colab-df-convert');\n",
              "      buttonEl.style.display =\n",
              "        google.colab.kernel.accessAllowed ? 'block' : 'none';\n",
              "\n",
              "      async function convertToInteractive(key) {\n",
              "        const element = document.querySelector('#df-ae90d0d7-f244-4aec-883b-0079f9a80026');\n",
              "        const dataTable =\n",
              "          await google.colab.kernel.invokeFunction('convertToInteractive',\n",
              "                                                    [key], {});\n",
              "        if (!dataTable) return;\n",
              "\n",
              "        const docLinkHtml = 'Like what you see? Visit the ' +\n",
              "          '<a target=\"_blank\" href=https://colab.research.google.com/notebooks/data_table.ipynb>data table notebook</a>'\n",
              "          + ' to learn more about interactive tables.';\n",
              "        element.innerHTML = '';\n",
              "        dataTable['output_type'] = 'display_data';\n",
              "        await google.colab.output.renderOutput(dataTable, element);\n",
              "        const docLink = document.createElement('div');\n",
              "        docLink.innerHTML = docLinkHtml;\n",
              "        element.appendChild(docLink);\n",
              "      }\n",
              "    </script>\n",
              "  </div>\n",
              "\n",
              "\n",
              "<div id=\"df-8896491c-33f6-4a76-aaf5-584b6b4e5738\">\n",
              "  <button class=\"colab-df-quickchart\" onclick=\"quickchart('df-8896491c-33f6-4a76-aaf5-584b6b4e5738')\"\n",
              "            title=\"Suggest charts\"\n",
              "            style=\"display:none;\">\n",
              "\n",
              "<svg xmlns=\"http://www.w3.org/2000/svg\" height=\"24px\"viewBox=\"0 0 24 24\"\n",
              "     width=\"24px\">\n",
              "    <g>\n",
              "        <path d=\"M19 3H5c-1.1 0-2 .9-2 2v14c0 1.1.9 2 2 2h14c1.1 0 2-.9 2-2V5c0-1.1-.9-2-2-2zM9 17H7v-7h2v7zm4 0h-2V7h2v10zm4 0h-2v-4h2v4z\"/>\n",
              "    </g>\n",
              "</svg>\n",
              "  </button>\n",
              "\n",
              "<style>\n",
              "  .colab-df-quickchart {\n",
              "      --bg-color: #E8F0FE;\n",
              "      --fill-color: #1967D2;\n",
              "      --hover-bg-color: #E2EBFA;\n",
              "      --hover-fill-color: #174EA6;\n",
              "      --disabled-fill-color: #AAA;\n",
              "      --disabled-bg-color: #DDD;\n",
              "  }\n",
              "\n",
              "  [theme=dark] .colab-df-quickchart {\n",
              "      --bg-color: #3B4455;\n",
              "      --fill-color: #D2E3FC;\n",
              "      --hover-bg-color: #434B5C;\n",
              "      --hover-fill-color: #FFFFFF;\n",
              "      --disabled-bg-color: #3B4455;\n",
              "      --disabled-fill-color: #666;\n",
              "  }\n",
              "\n",
              "  .colab-df-quickchart {\n",
              "    background-color: var(--bg-color);\n",
              "    border: none;\n",
              "    border-radius: 50%;\n",
              "    cursor: pointer;\n",
              "    display: none;\n",
              "    fill: var(--fill-color);\n",
              "    height: 32px;\n",
              "    padding: 0;\n",
              "    width: 32px;\n",
              "  }\n",
              "\n",
              "  .colab-df-quickchart:hover {\n",
              "    background-color: var(--hover-bg-color);\n",
              "    box-shadow: 0 1px 2px rgba(60, 64, 67, 0.3), 0 1px 3px 1px rgba(60, 64, 67, 0.15);\n",
              "    fill: var(--button-hover-fill-color);\n",
              "  }\n",
              "\n",
              "  .colab-df-quickchart-complete:disabled,\n",
              "  .colab-df-quickchart-complete:disabled:hover {\n",
              "    background-color: var(--disabled-bg-color);\n",
              "    fill: var(--disabled-fill-color);\n",
              "    box-shadow: none;\n",
              "  }\n",
              "\n",
              "  .colab-df-spinner {\n",
              "    border: 2px solid var(--fill-color);\n",
              "    border-color: transparent;\n",
              "    border-bottom-color: var(--fill-color);\n",
              "    animation:\n",
              "      spin 1s steps(1) infinite;\n",
              "  }\n",
              "\n",
              "  @keyframes spin {\n",
              "    0% {\n",
              "      border-color: transparent;\n",
              "      border-bottom-color: var(--fill-color);\n",
              "      border-left-color: var(--fill-color);\n",
              "    }\n",
              "    20% {\n",
              "      border-color: transparent;\n",
              "      border-left-color: var(--fill-color);\n",
              "      border-top-color: var(--fill-color);\n",
              "    }\n",
              "    30% {\n",
              "      border-color: transparent;\n",
              "      border-left-color: var(--fill-color);\n",
              "      border-top-color: var(--fill-color);\n",
              "      border-right-color: var(--fill-color);\n",
              "    }\n",
              "    40% {\n",
              "      border-color: transparent;\n",
              "      border-right-color: var(--fill-color);\n",
              "      border-top-color: var(--fill-color);\n",
              "    }\n",
              "    60% {\n",
              "      border-color: transparent;\n",
              "      border-right-color: var(--fill-color);\n",
              "    }\n",
              "    80% {\n",
              "      border-color: transparent;\n",
              "      border-right-color: var(--fill-color);\n",
              "      border-bottom-color: var(--fill-color);\n",
              "    }\n",
              "    90% {\n",
              "      border-color: transparent;\n",
              "      border-bottom-color: var(--fill-color);\n",
              "    }\n",
              "  }\n",
              "</style>\n",
              "\n",
              "  <script>\n",
              "    async function quickchart(key) {\n",
              "      const quickchartButtonEl =\n",
              "        document.querySelector('#' + key + ' button');\n",
              "      quickchartButtonEl.disabled = true;  // To prevent multiple clicks.\n",
              "      quickchartButtonEl.classList.add('colab-df-spinner');\n",
              "      try {\n",
              "        const charts = await google.colab.kernel.invokeFunction(\n",
              "            'suggestCharts', [key], {});\n",
              "      } catch (error) {\n",
              "        console.error('Error during call to suggestCharts:', error);\n",
              "      }\n",
              "      quickchartButtonEl.classList.remove('colab-df-spinner');\n",
              "      quickchartButtonEl.classList.add('colab-df-quickchart-complete');\n",
              "    }\n",
              "    (() => {\n",
              "      let quickchartButtonEl =\n",
              "        document.querySelector('#df-8896491c-33f6-4a76-aaf5-584b6b4e5738 button');\n",
              "      quickchartButtonEl.style.display =\n",
              "        google.colab.kernel.accessAllowed ? 'block' : 'none';\n",
              "    })();\n",
              "  </script>\n",
              "</div>\n",
              "\n",
              "    </div>\n",
              "  </div>\n"
            ],
            "application/vnd.google.colaboratory.intrinsic+json": {
              "type": "dataframe",
              "summary": "{\n  \"name\": \"pd\",\n  \"rows\": 6,\n  \"fields\": [\n    {\n      \"column\": \"color_blue\",\n      \"properties\": {\n        \"dtype\": \"number\",\n        \"std\": 0.5163977794943223,\n        \"min\": 0.0,\n        \"max\": 1.0,\n        \"num_unique_values\": 2,\n        \"samples\": [\n          1.0,\n          0.0\n        ],\n        \"semantic_type\": \"\",\n        \"description\": \"\"\n      }\n    },\n    {\n      \"column\": \"color_green\",\n      \"properties\": {\n        \"dtype\": \"number\",\n        \"std\": 0.5163977794943223,\n        \"min\": 0.0,\n        \"max\": 1.0,\n        \"num_unique_values\": 2,\n        \"samples\": [\n          1.0,\n          0.0\n        ],\n        \"semantic_type\": \"\",\n        \"description\": \"\"\n      }\n    },\n    {\n      \"column\": \"color_red\",\n      \"properties\": {\n        \"dtype\": \"number\",\n        \"std\": 0.5163977794943223,\n        \"min\": 0.0,\n        \"max\": 1.0,\n        \"num_unique_values\": 2,\n        \"samples\": [\n          0.0,\n          1.0\n        ],\n        \"semantic_type\": \"\",\n        \"description\": \"\"\n      }\n    }\n  ]\n}"
            }
          },
          "metadata": {},
          "execution_count": 42
        }
      ]
    },
    {
      "cell_type": "code",
      "source": [
        "# Label encoding\n",
        "import pandas as pd\n",
        "from sklearn.preprocessing import LabelEncoder\n",
        "df = pd.DataFrame({'color':['red','blue','green','green','red','blue']})\n",
        "encoder = LabelEncoder()\n",
        "df_encoded = encoder.fit_transform(df[['color']])\n",
        "df_encoded"
      ],
      "metadata": {
        "colab": {
          "base_uri": "https://localhost:8080/"
        },
        "id": "Lp48eYiGC07E",
        "outputId": "a8cd7a7e-a728-4b02-e200-5885385f8418"
      },
      "execution_count": null,
      "outputs": [
        {
          "output_type": "stream",
          "name": "stderr",
          "text": [
            "/usr/local/lib/python3.11/dist-packages/sklearn/preprocessing/_label.py:110: DataConversionWarning: A column-vector y was passed when a 1d array was expected. Please change the shape of y to (n_samples, ), for example using ravel().\n",
            "  y = column_or_1d(y, warn=True)\n"
          ]
        },
        {
          "output_type": "execute_result",
          "data": {
            "text/plain": [
              "array([2, 0, 1, 1, 2, 0])"
            ]
          },
          "metadata": {},
          "execution_count": 47
        }
      ]
    },
    {
      "cell_type": "code",
      "source": [
        "# Ordinal encoding\n",
        "import pandas as pd\n",
        "from sklearn.preprocessing import OrdinalEncoder\n",
        "df = pd.DataFrame({'color':['red','blue','green','green','red','blue']})\n",
        "encoder = OrdinalEncoder()\n",
        "df_encoded = encoder.fit_transform(df[['color']])\n",
        "df_encoded"
      ],
      "metadata": {
        "colab": {
          "base_uri": "https://localhost:8080/"
        },
        "id": "AFr7G1RvDqIR",
        "outputId": "d85bd0f0-8367-4546-df87-fc6291213beb"
      },
      "execution_count": null,
      "outputs": [
        {
          "output_type": "execute_result",
          "data": {
            "text/plain": [
              "array([[2.],\n",
              "       [0.],\n",
              "       [1.],\n",
              "       [1.],\n",
              "       [2.],\n",
              "       [0.]])"
            ]
          },
          "metadata": {},
          "execution_count": 48
        }
      ]
    },
    {
      "cell_type": "code",
      "source": [
        "# tARGET GUIDED encoding\n",
        "import pandas as pd\n",
        "from sklearn.preprocessing import TargetEncoder\n",
        "df = pd.DataFrame({'color':['red','blue','green','green','red','blue'],\n",
        "                    'price':[1,2,2,3,4,5]})\n",
        "m = df.groupby('color')['price'].mean()\n",
        "df['color_encoded']= df['color'].map(m)\n",
        "df"
      ],
      "metadata": {
        "colab": {
          "base_uri": "https://localhost:8080/",
          "height": 237
        },
        "id": "EV227595D7sr",
        "outputId": "f0b0e6a5-cd7b-4447-af53-7ecda4c7b90f"
      },
      "execution_count": null,
      "outputs": [
        {
          "output_type": "execute_result",
          "data": {
            "text/plain": [
              "   color  price  color_encoded\n",
              "0    red      1            2.5\n",
              "1   blue      2            3.5\n",
              "2  green      2            2.5\n",
              "3  green      3            2.5\n",
              "4    red      4            2.5\n",
              "5   blue      5            3.5"
            ],
            "text/html": [
              "\n",
              "  <div id=\"df-ebb6e8a2-6f43-494e-9c2d-82709dd8b3a3\" class=\"colab-df-container\">\n",
              "    <div>\n",
              "<style scoped>\n",
              "    .dataframe tbody tr th:only-of-type {\n",
              "        vertical-align: middle;\n",
              "    }\n",
              "\n",
              "    .dataframe tbody tr th {\n",
              "        vertical-align: top;\n",
              "    }\n",
              "\n",
              "    .dataframe thead th {\n",
              "        text-align: right;\n",
              "    }\n",
              "</style>\n",
              "<table border=\"1\" class=\"dataframe\">\n",
              "  <thead>\n",
              "    <tr style=\"text-align: right;\">\n",
              "      <th></th>\n",
              "      <th>color</th>\n",
              "      <th>price</th>\n",
              "      <th>color_encoded</th>\n",
              "    </tr>\n",
              "  </thead>\n",
              "  <tbody>\n",
              "    <tr>\n",
              "      <th>0</th>\n",
              "      <td>red</td>\n",
              "      <td>1</td>\n",
              "      <td>2.5</td>\n",
              "    </tr>\n",
              "    <tr>\n",
              "      <th>1</th>\n",
              "      <td>blue</td>\n",
              "      <td>2</td>\n",
              "      <td>3.5</td>\n",
              "    </tr>\n",
              "    <tr>\n",
              "      <th>2</th>\n",
              "      <td>green</td>\n",
              "      <td>2</td>\n",
              "      <td>2.5</td>\n",
              "    </tr>\n",
              "    <tr>\n",
              "      <th>3</th>\n",
              "      <td>green</td>\n",
              "      <td>3</td>\n",
              "      <td>2.5</td>\n",
              "    </tr>\n",
              "    <tr>\n",
              "      <th>4</th>\n",
              "      <td>red</td>\n",
              "      <td>4</td>\n",
              "      <td>2.5</td>\n",
              "    </tr>\n",
              "    <tr>\n",
              "      <th>5</th>\n",
              "      <td>blue</td>\n",
              "      <td>5</td>\n",
              "      <td>3.5</td>\n",
              "    </tr>\n",
              "  </tbody>\n",
              "</table>\n",
              "</div>\n",
              "    <div class=\"colab-df-buttons\">\n",
              "\n",
              "  <div class=\"colab-df-container\">\n",
              "    <button class=\"colab-df-convert\" onclick=\"convertToInteractive('df-ebb6e8a2-6f43-494e-9c2d-82709dd8b3a3')\"\n",
              "            title=\"Convert this dataframe to an interactive table.\"\n",
              "            style=\"display:none;\">\n",
              "\n",
              "  <svg xmlns=\"http://www.w3.org/2000/svg\" height=\"24px\" viewBox=\"0 -960 960 960\">\n",
              "    <path d=\"M120-120v-720h720v720H120Zm60-500h600v-160H180v160Zm220 220h160v-160H400v160Zm0 220h160v-160H400v160ZM180-400h160v-160H180v160Zm440 0h160v-160H620v160ZM180-180h160v-160H180v160Zm440 0h160v-160H620v160Z\"/>\n",
              "  </svg>\n",
              "    </button>\n",
              "\n",
              "  <style>\n",
              "    .colab-df-container {\n",
              "      display:flex;\n",
              "      gap: 12px;\n",
              "    }\n",
              "\n",
              "    .colab-df-convert {\n",
              "      background-color: #E8F0FE;\n",
              "      border: none;\n",
              "      border-radius: 50%;\n",
              "      cursor: pointer;\n",
              "      display: none;\n",
              "      fill: #1967D2;\n",
              "      height: 32px;\n",
              "      padding: 0 0 0 0;\n",
              "      width: 32px;\n",
              "    }\n",
              "\n",
              "    .colab-df-convert:hover {\n",
              "      background-color: #E2EBFA;\n",
              "      box-shadow: 0px 1px 2px rgba(60, 64, 67, 0.3), 0px 1px 3px 1px rgba(60, 64, 67, 0.15);\n",
              "      fill: #174EA6;\n",
              "    }\n",
              "\n",
              "    .colab-df-buttons div {\n",
              "      margin-bottom: 4px;\n",
              "    }\n",
              "\n",
              "    [theme=dark] .colab-df-convert {\n",
              "      background-color: #3B4455;\n",
              "      fill: #D2E3FC;\n",
              "    }\n",
              "\n",
              "    [theme=dark] .colab-df-convert:hover {\n",
              "      background-color: #434B5C;\n",
              "      box-shadow: 0px 1px 3px 1px rgba(0, 0, 0, 0.15);\n",
              "      filter: drop-shadow(0px 1px 2px rgba(0, 0, 0, 0.3));\n",
              "      fill: #FFFFFF;\n",
              "    }\n",
              "  </style>\n",
              "\n",
              "    <script>\n",
              "      const buttonEl =\n",
              "        document.querySelector('#df-ebb6e8a2-6f43-494e-9c2d-82709dd8b3a3 button.colab-df-convert');\n",
              "      buttonEl.style.display =\n",
              "        google.colab.kernel.accessAllowed ? 'block' : 'none';\n",
              "\n",
              "      async function convertToInteractive(key) {\n",
              "        const element = document.querySelector('#df-ebb6e8a2-6f43-494e-9c2d-82709dd8b3a3');\n",
              "        const dataTable =\n",
              "          await google.colab.kernel.invokeFunction('convertToInteractive',\n",
              "                                                    [key], {});\n",
              "        if (!dataTable) return;\n",
              "\n",
              "        const docLinkHtml = 'Like what you see? Visit the ' +\n",
              "          '<a target=\"_blank\" href=https://colab.research.google.com/notebooks/data_table.ipynb>data table notebook</a>'\n",
              "          + ' to learn more about interactive tables.';\n",
              "        element.innerHTML = '';\n",
              "        dataTable['output_type'] = 'display_data';\n",
              "        await google.colab.output.renderOutput(dataTable, element);\n",
              "        const docLink = document.createElement('div');\n",
              "        docLink.innerHTML = docLinkHtml;\n",
              "        element.appendChild(docLink);\n",
              "      }\n",
              "    </script>\n",
              "  </div>\n",
              "\n",
              "\n",
              "<div id=\"df-ab100338-033e-404f-959b-ccec98981f3a\">\n",
              "  <button class=\"colab-df-quickchart\" onclick=\"quickchart('df-ab100338-033e-404f-959b-ccec98981f3a')\"\n",
              "            title=\"Suggest charts\"\n",
              "            style=\"display:none;\">\n",
              "\n",
              "<svg xmlns=\"http://www.w3.org/2000/svg\" height=\"24px\"viewBox=\"0 0 24 24\"\n",
              "     width=\"24px\">\n",
              "    <g>\n",
              "        <path d=\"M19 3H5c-1.1 0-2 .9-2 2v14c0 1.1.9 2 2 2h14c1.1 0 2-.9 2-2V5c0-1.1-.9-2-2-2zM9 17H7v-7h2v7zm4 0h-2V7h2v10zm4 0h-2v-4h2v4z\"/>\n",
              "    </g>\n",
              "</svg>\n",
              "  </button>\n",
              "\n",
              "<style>\n",
              "  .colab-df-quickchart {\n",
              "      --bg-color: #E8F0FE;\n",
              "      --fill-color: #1967D2;\n",
              "      --hover-bg-color: #E2EBFA;\n",
              "      --hover-fill-color: #174EA6;\n",
              "      --disabled-fill-color: #AAA;\n",
              "      --disabled-bg-color: #DDD;\n",
              "  }\n",
              "\n",
              "  [theme=dark] .colab-df-quickchart {\n",
              "      --bg-color: #3B4455;\n",
              "      --fill-color: #D2E3FC;\n",
              "      --hover-bg-color: #434B5C;\n",
              "      --hover-fill-color: #FFFFFF;\n",
              "      --disabled-bg-color: #3B4455;\n",
              "      --disabled-fill-color: #666;\n",
              "  }\n",
              "\n",
              "  .colab-df-quickchart {\n",
              "    background-color: var(--bg-color);\n",
              "    border: none;\n",
              "    border-radius: 50%;\n",
              "    cursor: pointer;\n",
              "    display: none;\n",
              "    fill: var(--fill-color);\n",
              "    height: 32px;\n",
              "    padding: 0;\n",
              "    width: 32px;\n",
              "  }\n",
              "\n",
              "  .colab-df-quickchart:hover {\n",
              "    background-color: var(--hover-bg-color);\n",
              "    box-shadow: 0 1px 2px rgba(60, 64, 67, 0.3), 0 1px 3px 1px rgba(60, 64, 67, 0.15);\n",
              "    fill: var(--button-hover-fill-color);\n",
              "  }\n",
              "\n",
              "  .colab-df-quickchart-complete:disabled,\n",
              "  .colab-df-quickchart-complete:disabled:hover {\n",
              "    background-color: var(--disabled-bg-color);\n",
              "    fill: var(--disabled-fill-color);\n",
              "    box-shadow: none;\n",
              "  }\n",
              "\n",
              "  .colab-df-spinner {\n",
              "    border: 2px solid var(--fill-color);\n",
              "    border-color: transparent;\n",
              "    border-bottom-color: var(--fill-color);\n",
              "    animation:\n",
              "      spin 1s steps(1) infinite;\n",
              "  }\n",
              "\n",
              "  @keyframes spin {\n",
              "    0% {\n",
              "      border-color: transparent;\n",
              "      border-bottom-color: var(--fill-color);\n",
              "      border-left-color: var(--fill-color);\n",
              "    }\n",
              "    20% {\n",
              "      border-color: transparent;\n",
              "      border-left-color: var(--fill-color);\n",
              "      border-top-color: var(--fill-color);\n",
              "    }\n",
              "    30% {\n",
              "      border-color: transparent;\n",
              "      border-left-color: var(--fill-color);\n",
              "      border-top-color: var(--fill-color);\n",
              "      border-right-color: var(--fill-color);\n",
              "    }\n",
              "    40% {\n",
              "      border-color: transparent;\n",
              "      border-right-color: var(--fill-color);\n",
              "      border-top-color: var(--fill-color);\n",
              "    }\n",
              "    60% {\n",
              "      border-color: transparent;\n",
              "      border-right-color: var(--fill-color);\n",
              "    }\n",
              "    80% {\n",
              "      border-color: transparent;\n",
              "      border-right-color: var(--fill-color);\n",
              "      border-bottom-color: var(--fill-color);\n",
              "    }\n",
              "    90% {\n",
              "      border-color: transparent;\n",
              "      border-bottom-color: var(--fill-color);\n",
              "    }\n",
              "  }\n",
              "</style>\n",
              "\n",
              "  <script>\n",
              "    async function quickchart(key) {\n",
              "      const quickchartButtonEl =\n",
              "        document.querySelector('#' + key + ' button');\n",
              "      quickchartButtonEl.disabled = true;  // To prevent multiple clicks.\n",
              "      quickchartButtonEl.classList.add('colab-df-spinner');\n",
              "      try {\n",
              "        const charts = await google.colab.kernel.invokeFunction(\n",
              "            'suggestCharts', [key], {});\n",
              "      } catch (error) {\n",
              "        console.error('Error during call to suggestCharts:', error);\n",
              "      }\n",
              "      quickchartButtonEl.classList.remove('colab-df-spinner');\n",
              "      quickchartButtonEl.classList.add('colab-df-quickchart-complete');\n",
              "    }\n",
              "    (() => {\n",
              "      let quickchartButtonEl =\n",
              "        document.querySelector('#df-ab100338-033e-404f-959b-ccec98981f3a button');\n",
              "      quickchartButtonEl.style.display =\n",
              "        google.colab.kernel.accessAllowed ? 'block' : 'none';\n",
              "    })();\n",
              "  </script>\n",
              "</div>\n",
              "\n",
              "  <div id=\"id_638d4b3c-13db-4968-998b-395456da609f\">\n",
              "    <style>\n",
              "      .colab-df-generate {\n",
              "        background-color: #E8F0FE;\n",
              "        border: none;\n",
              "        border-radius: 50%;\n",
              "        cursor: pointer;\n",
              "        display: none;\n",
              "        fill: #1967D2;\n",
              "        height: 32px;\n",
              "        padding: 0 0 0 0;\n",
              "        width: 32px;\n",
              "      }\n",
              "\n",
              "      .colab-df-generate:hover {\n",
              "        background-color: #E2EBFA;\n",
              "        box-shadow: 0px 1px 2px rgba(60, 64, 67, 0.3), 0px 1px 3px 1px rgba(60, 64, 67, 0.15);\n",
              "        fill: #174EA6;\n",
              "      }\n",
              "\n",
              "      [theme=dark] .colab-df-generate {\n",
              "        background-color: #3B4455;\n",
              "        fill: #D2E3FC;\n",
              "      }\n",
              "\n",
              "      [theme=dark] .colab-df-generate:hover {\n",
              "        background-color: #434B5C;\n",
              "        box-shadow: 0px 1px 3px 1px rgba(0, 0, 0, 0.15);\n",
              "        filter: drop-shadow(0px 1px 2px rgba(0, 0, 0, 0.3));\n",
              "        fill: #FFFFFF;\n",
              "      }\n",
              "    </style>\n",
              "    <button class=\"colab-df-generate\" onclick=\"generateWithVariable('df')\"\n",
              "            title=\"Generate code using this dataframe.\"\n",
              "            style=\"display:none;\">\n",
              "\n",
              "  <svg xmlns=\"http://www.w3.org/2000/svg\" height=\"24px\"viewBox=\"0 0 24 24\"\n",
              "       width=\"24px\">\n",
              "    <path d=\"M7,19H8.4L18.45,9,17,7.55,7,17.6ZM5,21V16.75L18.45,3.32a2,2,0,0,1,2.83,0l1.4,1.43a1.91,1.91,0,0,1,.58,1.4,1.91,1.91,0,0,1-.58,1.4L9.25,21ZM18.45,9,17,7.55Zm-12,3A5.31,5.31,0,0,0,4.9,8.1,5.31,5.31,0,0,0,1,6.5,5.31,5.31,0,0,0,4.9,4.9,5.31,5.31,0,0,0,6.5,1,5.31,5.31,0,0,0,8.1,4.9,5.31,5.31,0,0,0,12,6.5,5.46,5.46,0,0,0,6.5,12Z\"/>\n",
              "  </svg>\n",
              "    </button>\n",
              "    <script>\n",
              "      (() => {\n",
              "      const buttonEl =\n",
              "        document.querySelector('#id_638d4b3c-13db-4968-998b-395456da609f button.colab-df-generate');\n",
              "      buttonEl.style.display =\n",
              "        google.colab.kernel.accessAllowed ? 'block' : 'none';\n",
              "\n",
              "      buttonEl.onclick = () => {\n",
              "        google.colab.notebook.generateWithVariable('df');\n",
              "      }\n",
              "      })();\n",
              "    </script>\n",
              "  </div>\n",
              "\n",
              "    </div>\n",
              "  </div>\n"
            ],
            "application/vnd.google.colaboratory.intrinsic+json": {
              "type": "dataframe",
              "variable_name": "df",
              "summary": "{\n  \"name\": \"df\",\n  \"rows\": 6,\n  \"fields\": [\n    {\n      \"column\": \"color\",\n      \"properties\": {\n        \"dtype\": \"string\",\n        \"num_unique_values\": 3,\n        \"samples\": [\n          \"red\",\n          \"blue\",\n          \"green\"\n        ],\n        \"semantic_type\": \"\",\n        \"description\": \"\"\n      }\n    },\n    {\n      \"column\": \"price\",\n      \"properties\": {\n        \"dtype\": \"number\",\n        \"std\": 1,\n        \"min\": 1,\n        \"max\": 5,\n        \"num_unique_values\": 5,\n        \"samples\": [\n          2,\n          5,\n          3\n        ],\n        \"semantic_type\": \"\",\n        \"description\": \"\"\n      }\n    },\n    {\n      \"column\": \"color_encoded\",\n      \"properties\": {\n        \"dtype\": \"number\",\n        \"std\": 0.5163977794943222,\n        \"min\": 2.5,\n        \"max\": 3.5,\n        \"num_unique_values\": 2,\n        \"samples\": [\n          3.5,\n          2.5\n        ],\n        \"semantic_type\": \"\",\n        \"description\": \"\"\n      }\n    }\n  ]\n}"
            }
          },
          "metadata": {},
          "execution_count": 52
        }
      ]
    },
    {
      "cell_type": "code",
      "source": [],
      "metadata": {
        "id": "VZxsVCQBEDfY"
      },
      "execution_count": null,
      "outputs": []
    }
  ]
}