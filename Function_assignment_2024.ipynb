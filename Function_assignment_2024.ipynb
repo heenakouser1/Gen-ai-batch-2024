{
  "nbformat": 4,
  "nbformat_minor": 0,
  "metadata": {
    "colab": {
      "provenance": [],
      "authorship_tag": "ABX9TyNayspDyKvdx6x+8sZ/yPWs",
      "include_colab_link": true
    },
    "kernelspec": {
      "name": "python3",
      "display_name": "Python 3"
    },
    "language_info": {
      "name": "python"
    }
  },
  "cells": [
    {
      "cell_type": "markdown",
      "metadata": {
        "id": "view-in-github",
        "colab_type": "text"
      },
      "source": [
        "<a href=\"https://colab.research.google.com/github/heenakouser1/Gen-ai-batch-2024/blob/main/Function_assignment_2024.ipynb\" target=\"_parent\"><img src=\"https://colab.research.google.com/assets/colab-badge.svg\" alt=\"Open In Colab\"/></a>"
      ]
    },
    {
      "cell_type": "markdown",
      "source": [
        "1. What is the difference between a function and a method in Python?"
      ],
      "metadata": {
        "id": "bdatSIy2Sta-"
      }
    },
    {
      "cell_type": "code",
      "execution_count": null,
      "metadata": {
        "colab": {
          "base_uri": "https://localhost:8080/"
        },
        "id": "pshQQWPcSo7R",
        "outputId": "5db3cdf2-25e8-43cf-a6d3-1b1e6fd81e50"
      },
      "outputs": [
        {
          "output_type": "execute_result",
          "data": {
            "text/plain": [
              "25"
            ]
          },
          "metadata": {},
          "execution_count": 1
        }
      ],
      "source": [
        "# Function is block of code use to perform a set of task repeatedly. Data passed to fucntion is explicitly passed\n",
        "def sq(n):\n",
        "  return n**2\n",
        "sq(5)"
      ]
    },
    {
      "cell_type": "code",
      "source": [
        "#Method is set of code used within the class. here data passed is implicitly passed.\n",
        "class Student:\n",
        "   pass\n",
        "student1 = Student()\n",
        "print(f\"Object Created: {student1}\")\n"
      ],
      "metadata": {
        "colab": {
          "base_uri": "https://localhost:8080/"
        },
        "id": "NpdM3IfrTLwt",
        "outputId": "74755289-74a7-4086-e04c-ab3e4906a29e"
      },
      "execution_count": null,
      "outputs": [
        {
          "output_type": "stream",
          "name": "stdout",
          "text": [
            "Object Created: <__main__.Student object at 0x7ec020133730>\n"
          ]
        }
      ]
    },
    {
      "cell_type": "markdown",
      "source": [
        " 2. Explain the concept of function arguments and parameters in Python."
      ],
      "metadata": {
        "id": "NpL2pUR9UbHR"
      }
    },
    {
      "cell_type": "code",
      "source": [
        "def sq(n):\n",
        "  return n**2\n",
        "sq(5)\n",
        "\n",
        "# n is parameter, which is placeholder for values being passed to function\n",
        "# 5 is argument/value which is being passed to function."
      ],
      "metadata": {
        "colab": {
          "base_uri": "https://localhost:8080/"
        },
        "id": "TWjJWKGQUZM1",
        "outputId": "46a821ad-95b4-481e-9a61-3cc3c7f0b35f"
      },
      "execution_count": null,
      "outputs": [
        {
          "output_type": "execute_result",
          "data": {
            "text/plain": [
              "25"
            ]
          },
          "metadata": {},
          "execution_count": 4
        }
      ]
    },
    {
      "cell_type": "code",
      "source": [
        "#Default argument - it is way to pass the set the value default to function\n",
        "def sq(n=5):\n",
        "  return n**2\n",
        "sq()\n"
      ],
      "metadata": {
        "colab": {
          "base_uri": "https://localhost:8080/"
        },
        "id": "YxJk-czrV8YR",
        "outputId": "edc17bab-9326-4269-d631-fa42af5b6c15"
      },
      "execution_count": null,
      "outputs": [
        {
          "output_type": "execute_result",
          "data": {
            "text/plain": [
              "25"
            ]
          },
          "metadata": {},
          "execution_count": 5
        }
      ]
    },
    {
      "cell_type": "code",
      "source": [
        "# Keyword argument: It is way to assign the value according to requirements\n",
        "def addition(x,y):\n",
        "  return x+y\n",
        "addition(x=2,y=3)"
      ],
      "metadata": {
        "colab": {
          "base_uri": "https://localhost:8080/"
        },
        "id": "02NY8k_lV_ou",
        "outputId": "0ec0d78c-ed51-4b67-c2e9-8fb38510154f"
      },
      "execution_count": null,
      "outputs": [
        {
          "output_type": "execute_result",
          "data": {
            "text/plain": [
              "5"
            ]
          },
          "metadata": {},
          "execution_count": 6
        }
      ]
    },
    {
      "cell_type": "code",
      "source": [
        "# Arbitary argument: it includes args or kwargs, way of taking series of input\n",
        "def maxs(*args):\n",
        "  return max(*args)\n",
        "maxs([1,2,3,4,5])"
      ],
      "metadata": {
        "colab": {
          "base_uri": "https://localhost:8080/"
        },
        "id": "5w3IMpEnWZEi",
        "outputId": "21544030-aa93-44d1-d068-3e082a805964"
      },
      "execution_count": null,
      "outputs": [
        {
          "output_type": "execute_result",
          "data": {
            "text/plain": [
              "5"
            ]
          },
          "metadata": {},
          "execution_count": 12
        }
      ]
    },
    {
      "cell_type": "markdown",
      "source": [
        "3.What are the different ways to define and call a function in Python"
      ],
      "metadata": {
        "id": "m6AlmOV1XCZU"
      }
    },
    {
      "cell_type": "code",
      "source": [
        "# define and Calling\n",
        "def hi():\n",
        "  return 'hi'\n",
        "\n",
        "hi()"
      ],
      "metadata": {
        "colab": {
          "base_uri": "https://localhost:8080/",
          "height": 36
        },
        "id": "wpLqT9k6Wxc3",
        "outputId": "c2f86f89-9452-4ee4-a6c0-51653392ec5f"
      },
      "execution_count": null,
      "outputs": [
        {
          "output_type": "execute_result",
          "data": {
            "text/plain": [
              "'hi'"
            ],
            "application/vnd.google.colaboratory.intrinsic+json": {
              "type": "string"
            }
          },
          "metadata": {},
          "execution_count": 14
        }
      ]
    },
    {
      "cell_type": "code",
      "source": [
        "# calling one function in another\n",
        "def main():\n",
        "  hi()\n",
        "def hi():\n",
        "  print(\"hi\")\n",
        "\n",
        "main()"
      ],
      "metadata": {
        "colab": {
          "base_uri": "https://localhost:8080/"
        },
        "id": "EbNlG5ZMYKHP",
        "outputId": "3cf7f013-5fd4-4257-b84e-b3c81766f7f1"
      },
      "execution_count": null,
      "outputs": [
        {
          "output_type": "stream",
          "name": "stdout",
          "text": [
            "hi\n"
          ]
        }
      ]
    },
    {
      "cell_type": "code",
      "source": [
        "# main at start\n",
        "def main():\n",
        "  hi()\n",
        "def hi():\n",
        "  print(\"hi\")\n",
        "if __name__ == \"__main__\":\n",
        "  main()"
      ],
      "metadata": {
        "colab": {
          "base_uri": "https://localhost:8080/"
        },
        "id": "a1mfiu1YYanx",
        "outputId": "34c908be-3d1e-4dc7-8e68-af0f5f4ea0eb"
      },
      "execution_count": null,
      "outputs": [
        {
          "output_type": "stream",
          "name": "stdout",
          "text": [
            "hi\n"
          ]
        }
      ]
    },
    {
      "cell_type": "markdown",
      "source": [
        "4. What is the purpose of the `return` statement in a Python function"
      ],
      "metadata": {
        "id": "sIhMGOWHZIAj"
      }
    },
    {
      "cell_type": "code",
      "source": [
        "# Return statement if used to return the value from function.\n",
        "def sq(n):\n",
        "  return n**2\n",
        "sq(5)"
      ],
      "metadata": {
        "colab": {
          "base_uri": "https://localhost:8080/"
        },
        "id": "fjTr5P_6ZLqz",
        "outputId": "10e2ee59-a47c-4eac-f9bc-4477c1a25aa5"
      },
      "execution_count": null,
      "outputs": [
        {
          "output_type": "execute_result",
          "data": {
            "text/plain": [
              "25"
            ]
          },
          "metadata": {},
          "execution_count": 22
        }
      ]
    },
    {
      "cell_type": "markdown",
      "source": [
        "5.What are iterators in Python and how do they differ from iterables?"
      ],
      "metadata": {
        "id": "BGH1y1_RZqXT"
      }
    },
    {
      "cell_type": "code",
      "source": [
        "#Iterator is an object, which is used to iterate over an iterable object using the __next__() method\n",
        "#Iterables is an object that one can iterate over. It generates an Iterator when passed to iter() method\n",
        "# Every iterator is also an iterable, but not every iterable is an iterator in Python.\n",
        "\n",
        "list1 = [\"a\",\"b\",\"c\"]\n",
        "l = iter(list1)"
      ],
      "metadata": {
        "id": "BajWfWy0Zb9c"
      },
      "execution_count": null,
      "outputs": []
    },
    {
      "cell_type": "code",
      "source": [
        "next(l)"
      ],
      "metadata": {
        "colab": {
          "base_uri": "https://localhost:8080/",
          "height": 36
        },
        "id": "eLq1rkhLbnbg",
        "outputId": "981ee4c4-38cf-4158-f54a-7dfbec00e302"
      },
      "execution_count": null,
      "outputs": [
        {
          "output_type": "execute_result",
          "data": {
            "text/plain": [
              "'a'"
            ],
            "application/vnd.google.colaboratory.intrinsic+json": {
              "type": "string"
            }
          },
          "metadata": {},
          "execution_count": 27
        }
      ]
    },
    {
      "cell_type": "markdown",
      "source": [
        "6.Explain the concept of generators in Python and how they are defined"
      ],
      "metadata": {
        "id": "eKmNkfA0bxtC"
      }
    },
    {
      "cell_type": "code",
      "source": [
        "# Generators are used to return the values at a given time using yeild keyword\n",
        "def fib(n):\n",
        "  a = 0\n",
        "  b = 1\n",
        "  for i in range(n):\n",
        "    yield a\n",
        "    a,b = b,a+b\n",
        "list(fib(5))\n"
      ],
      "metadata": {
        "colab": {
          "base_uri": "https://localhost:8080/"
        },
        "id": "XKVJHkL-bpTF",
        "outputId": "974cba2b-7ea9-4d45-90ac-92180ef99dee"
      },
      "execution_count": null,
      "outputs": [
        {
          "output_type": "execute_result",
          "data": {
            "text/plain": [
              "[0, 1, 1, 2, 3]"
            ]
          },
          "metadata": {},
          "execution_count": 44
        }
      ]
    },
    {
      "cell_type": "markdown",
      "source": [
        "7.What are the advantages of using generators over regular functions"
      ],
      "metadata": {
        "id": "JJC_AIoZgTGo"
      }
    },
    {
      "cell_type": "code",
      "source": [
        "#Generators are use yield to return the value a given time without holding the values,\n",
        "# where regular fucntion keep a hold of values and return the output one after other\n"
      ],
      "metadata": {
        "id": "uGHeLw4aedCd"
      },
      "execution_count": null,
      "outputs": []
    },
    {
      "cell_type": "markdown",
      "source": [
        "8.What is a lambda function in Python and when is it typically used"
      ],
      "metadata": {
        "id": "u3hUvu5dgzeJ"
      }
    },
    {
      "cell_type": "code",
      "source": [
        "# Lambda function are generally used when we want to reduce the number steps written in regular functions\n",
        "\n",
        "def sq(n):\n",
        "  return n**2\n",
        "sq(5)"
      ],
      "metadata": {
        "colab": {
          "base_uri": "https://localhost:8080/"
        },
        "id": "OHX_t6Nzg1Uc",
        "outputId": "78d08278-0da5-43ae-fe04-83a2c347d642"
      },
      "execution_count": null,
      "outputs": [
        {
          "output_type": "execute_result",
          "data": {
            "text/plain": [
              "25"
            ]
          },
          "metadata": {},
          "execution_count": 5
        }
      ]
    },
    {
      "cell_type": "code",
      "source": [
        "# lambda\n",
        "l = lambda n:n**2\n",
        "l(5)"
      ],
      "metadata": {
        "colab": {
          "base_uri": "https://localhost:8080/"
        },
        "id": "53wqQRqahDC4",
        "outputId": "39c5e1cf-2bec-4a0f-c816-9247420a6543"
      },
      "execution_count": null,
      "outputs": [
        {
          "output_type": "execute_result",
          "data": {
            "text/plain": [
              "25"
            ]
          },
          "metadata": {},
          "execution_count": 6
        }
      ]
    },
    {
      "cell_type": "markdown",
      "source": [
        "9.Explain the purpose and usage of the `map()` function in Pytho"
      ],
      "metadata": {
        "id": "6bp2lsgphUhh"
      }
    },
    {
      "cell_type": "code",
      "source": [
        "# map function is used to return the output by mapping the function code to all given inputs.\n",
        "\n",
        "l = [1,2,3,4,5]\n",
        "list(map(lambda l:l**2,l))"
      ],
      "metadata": {
        "colab": {
          "base_uri": "https://localhost:8080/"
        },
        "id": "RZ9PAoSJhMFI",
        "outputId": "a8f862a2-740b-4601-e48b-065b7e6a0e46"
      },
      "execution_count": null,
      "outputs": [
        {
          "output_type": "execute_result",
          "data": {
            "text/plain": [
              "[1, 4, 9, 16, 25]"
            ]
          },
          "metadata": {},
          "execution_count": 7
        }
      ]
    },
    {
      "cell_type": "markdown",
      "source": [
        "10. What is the difference between `map()`, `reduce()`, and `filter()` functions in Python"
      ],
      "metadata": {
        "id": "EJ8giJmDhn-J"
      }
    },
    {
      "cell_type": "code",
      "source": [
        "# map function is used to return the values in series by mapping the logic of function to each and every value in the input\n",
        "# map taken 2 values i.e: map(function, arguments)\n",
        "\n",
        "l = [1,2,3,4,5]\n",
        "list(map(lambda l:l**2,l))\n"
      ],
      "metadata": {
        "colab": {
          "base_uri": "https://localhost:8080/"
        },
        "id": "rXf_8AfJhm9u",
        "outputId": "c56130ad-2e24-4012-93e9-e1787e350e94"
      },
      "execution_count": null,
      "outputs": [
        {
          "output_type": "execute_result",
          "data": {
            "text/plain": [
              "[1, 4, 9, 16, 25]"
            ]
          },
          "metadata": {},
          "execution_count": 8
        }
      ]
    },
    {
      "cell_type": "code",
      "source": [
        "#reduce function is used to reduce the given value to return only one single value\n",
        "# reduce takes 2 value i:e, reduce(function ,l)\n",
        "from functools import reduce\n",
        "l = [1,2,3,3,5,6,7,7]\n",
        "reduce(lambda x,y:x+y,l)"
      ],
      "metadata": {
        "colab": {
          "base_uri": "https://localhost:8080/"
        },
        "id": "rEH_Pr6zhkf4",
        "outputId": "98799195-35ed-4489-fea0-4995e5d8cb90"
      },
      "execution_count": null,
      "outputs": [
        {
          "output_type": "execute_result",
          "data": {
            "text/plain": [
              "34"
            ]
          },
          "metadata": {},
          "execution_count": 10
        }
      ]
    },
    {
      "cell_type": "code",
      "source": [
        "#filter function is used to return only those values which satisfy the filter condition.\n",
        "l = [1,2,3,4,5,6,7]\n",
        "list(filter(lambda l:l%2==0,l))"
      ],
      "metadata": {
        "colab": {
          "base_uri": "https://localhost:8080/"
        },
        "id": "FZ0Qwg-WiaHB",
        "outputId": "c39522b3-5a4b-420a-eb11-7a60971e7146"
      },
      "execution_count": null,
      "outputs": [
        {
          "output_type": "execute_result",
          "data": {
            "text/plain": [
              "[2, 4, 6]"
            ]
          },
          "metadata": {},
          "execution_count": 11
        }
      ]
    },
    {
      "cell_type": "markdown",
      "source": [
        "11. Using pen & Paper write the internal mechanism for sum operation using  reduce function on this given\n",
        "list:[47,11,42,13]"
      ],
      "metadata": {
        "id": "ZROFm3AHi6v5"
      }
    },
    {
      "cell_type": "code",
      "source": [
        "list1 = [47,11,42,13]\n",
        "reduce(lambda x,y :x+y,list1)"
      ],
      "metadata": {
        "colab": {
          "base_uri": "https://localhost:8080/"
        },
        "id": "CvNyqiRZi40K",
        "outputId": "c3be67a0-f5cc-4a5d-f0d4-0594d520f6e9"
      },
      "execution_count": null,
      "outputs": [
        {
          "output_type": "execute_result",
          "data": {
            "text/plain": [
              "113"
            ]
          },
          "metadata": {},
          "execution_count": 12
        }
      ]
    },
    {
      "cell_type": "code",
      "source": [
        "# first operation:    x = 47, y = 11 gives ---> x = 58 , y = 42\n",
        "# second operation:    x = 58, y = 42 gives ----> x = 100 , y = 13\n",
        "# third operation :    x = 100, y = 13 gives ----> x = 113"
      ],
      "metadata": {
        "id": "5iY4QYJijLjS"
      },
      "execution_count": null,
      "outputs": []
    }
  ]
}