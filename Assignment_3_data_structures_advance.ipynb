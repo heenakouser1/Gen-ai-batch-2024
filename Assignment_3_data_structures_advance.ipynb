{
  "nbformat": 4,
  "nbformat_minor": 0,
  "metadata": {
    "colab": {
      "provenance": [],
      "authorship_tag": "ABX9TyMrtZzKv4OVJX+TJ8kF7vAz",
      "include_colab_link": true
    },
    "kernelspec": {
      "name": "python3",
      "display_name": "Python 3"
    },
    "language_info": {
      "name": "python"
    }
  },
  "cells": [
    {
      "cell_type": "markdown",
      "metadata": {
        "id": "view-in-github",
        "colab_type": "text"
      },
      "source": [
        "<a href=\"https://colab.research.google.com/github/heenakouser1/Gen-ai-batch-2024/blob/main/Assignment_3_data_structures_advance.ipynb\" target=\"_parent\"><img src=\"https://colab.research.google.com/assets/colab-badge.svg\" alt=\"Open In Colab\"/></a>"
      ]
    },
    {
      "cell_type": "markdown",
      "source": [
        "1. Write a code to reverse a string"
      ],
      "metadata": {
        "id": "-2p2dlVaUR8x"
      }
    },
    {
      "cell_type": "code",
      "execution_count": 2,
      "metadata": {
        "colab": {
          "base_uri": "https://localhost:8080/",
          "height": 36
        },
        "id": "g_3tc6EHT8Pa",
        "outputId": "3494ba05-e693-41ba-e303-68da1d88c77a"
      },
      "outputs": [
        {
          "output_type": "execute_result",
          "data": {
            "text/plain": [
              "'sllikswp'"
            ],
            "application/vnd.google.colaboratory.intrinsic+json": {
              "type": "string"
            }
          },
          "metadata": {},
          "execution_count": 2
        }
      ],
      "source": [
        "s = \"pwskills\"\n",
        "s[::-1]"
      ]
    },
    {
      "cell_type": "code",
      "source": [
        "for i in range((len(s)-1),-1,-1):\n",
        "  print(s[i],end='')"
      ],
      "metadata": {
        "colab": {
          "base_uri": "https://localhost:8080/"
        },
        "id": "mDEAR_yqUaz-",
        "outputId": "af1f204a-9281-4238-9b07-7fbcfa969aa1"
      },
      "execution_count": 3,
      "outputs": [
        {
          "output_type": "stream",
          "name": "stdout",
          "text": [
            "sllikswp"
          ]
        }
      ]
    },
    {
      "cell_type": "markdown",
      "source": [
        "2 Write a code to count the number of vowels in a string"
      ],
      "metadata": {
        "id": "xicmrY5pVex2"
      }
    },
    {
      "cell_type": "code",
      "source": [
        "s = 'pwskills data science'\n",
        "count = 0\n",
        "for i in s:\n",
        "  if i in 'aeiou':\n",
        "\n",
        "    count = count+1\n",
        "print(count)"
      ],
      "metadata": {
        "colab": {
          "base_uri": "https://localhost:8080/"
        },
        "id": "dTJANYz3U29A",
        "outputId": "cd1ba8cd-4077-441f-fd4f-a9e87ab59615"
      },
      "execution_count": 4,
      "outputs": [
        {
          "output_type": "stream",
          "name": "stdout",
          "text": [
            "6\n"
          ]
        }
      ]
    },
    {
      "cell_type": "markdown",
      "source": [
        " 3 Write a code to check if a given string is a palindrome or not"
      ],
      "metadata": {
        "id": "Z6Gv-Ul_WyOT"
      }
    },
    {
      "cell_type": "code",
      "source": [
        "s = 'madam'\n",
        "if s == s[::-1]:\n",
        "  print('palindrome')\n",
        "else:\n",
        "  print('not palindrome')"
      ],
      "metadata": {
        "colab": {
          "base_uri": "https://localhost:8080/"
        },
        "id": "PLmvcoIpWHlC",
        "outputId": "bc9db39d-9023-40fb-e65f-754b1ee6eadf"
      },
      "execution_count": 5,
      "outputs": [
        {
          "output_type": "stream",
          "name": "stdout",
          "text": [
            "palindrome\n"
          ]
        }
      ]
    },
    {
      "cell_type": "markdown",
      "source": [
        "4 Write a code to check if two given strings are anagrams of each other"
      ],
      "metadata": {
        "id": "gfZRtIrTYemy"
      }
    },
    {
      "cell_type": "code",
      "source": [
        "s1 = 'rasp'\n",
        "s2 = 'spar'\n",
        "for i in s1:\n",
        "  if i in s2:\n",
        "    print('anagrams')\n",
        "    break\n",
        "else:\n",
        "  print('not anagrams')"
      ],
      "metadata": {
        "colab": {
          "base_uri": "https://localhost:8080/"
        },
        "id": "r0GxC3NHWzeb",
        "outputId": "67758602-d501-4444-cbed-2f16a7c7351f"
      },
      "execution_count": 81,
      "outputs": [
        {
          "output_type": "stream",
          "name": "stdout",
          "text": [
            "anagrams\n"
          ]
        }
      ]
    },
    {
      "cell_type": "markdown",
      "source": [
        "5 Write a code to find all occurrences of a given substring within another string"
      ],
      "metadata": {
        "id": "4n-klEVSaCqQ"
      }
    },
    {
      "cell_type": "code",
      "source": [
        "s1 = \"pwskills pw\"\n",
        "s2 = \"pw\"\n",
        "count = 0\n",
        "if s2 in s1:\n",
        "  count = count+1\n",
        "print(count)"
      ],
      "metadata": {
        "colab": {
          "base_uri": "https://localhost:8080/"
        },
        "id": "M1WHblrnY3Fh",
        "outputId": "51112bbc-e099-49be-b53b-51ad18f235a0"
      },
      "execution_count": 7,
      "outputs": [
        {
          "output_type": "stream",
          "name": "stdout",
          "text": [
            "1\n"
          ]
        }
      ]
    },
    {
      "cell_type": "markdown",
      "source": [
        "6. Write a code to perform basic string compression using the counts of repeated characters"
      ],
      "metadata": {
        "id": "VF-_qAQgsk_w"
      }
    },
    {
      "cell_type": "code",
      "source": [
        "s = 'Tbaaaaaaa'\n",
        "compress = \"\"\n",
        "count = 1\n",
        "for i in range(1,len(s)):\n",
        "  if s[i]==s[i-1]:\n",
        "    count = count+1\n",
        "  else:\n",
        "    compress = compress + s[i-1] +str(count)\n",
        "    count = 1\n",
        "compress = compress + s[-1] +str(count)\n",
        "print(s if len(compress) > len(s) else compress)"
      ],
      "metadata": {
        "id": "aoO0onr4ant_",
        "colab": {
          "base_uri": "https://localhost:8080/"
        },
        "outputId": "66ac17f4-401e-40da-9571-84655cd199f2"
      },
      "execution_count": 62,
      "outputs": [
        {
          "output_type": "stream",
          "name": "stdout",
          "text": [
            "T1b1a7\n"
          ]
        }
      ]
    },
    {
      "cell_type": "markdown",
      "source": [
        "7. Write a code to determine if a string has all unique characters"
      ],
      "metadata": {
        "id": "9-_iOWnZIZkY"
      }
    },
    {
      "cell_type": "code",
      "source": [
        "s = 'aabbcc'\n",
        "for i in range(1,len(s)):\n",
        "  if s[i] == s[i-1]:\n",
        "    print('not unique')\n",
        "    break\n",
        "else:\n",
        "  print('unique')\n",
        ""
      ],
      "metadata": {
        "colab": {
          "base_uri": "https://localhost:8080/"
        },
        "id": "dMxzxCdFGmT4",
        "outputId": "da51636e-a79e-447a-f93a-21cbbb8fa1a3"
      },
      "execution_count": 69,
      "outputs": [
        {
          "output_type": "stream",
          "name": "stdout",
          "text": [
            "not unique\n"
          ]
        }
      ]
    },
    {
      "cell_type": "markdown",
      "source": [
        "8. Write a code to convert a given string to uppercase or lowercas"
      ],
      "metadata": {
        "id": "tGNnFwMwJe4S"
      }
    },
    {
      "cell_type": "code",
      "source": [
        "s = 'pwskills'\n",
        "s.upper()"
      ],
      "metadata": {
        "colab": {
          "base_uri": "https://localhost:8080/",
          "height": 36
        },
        "id": "jnvgKdH-IbFx",
        "outputId": "63866fe1-d567-4698-bf81-32436fd0f084"
      },
      "execution_count": 70,
      "outputs": [
        {
          "output_type": "execute_result",
          "data": {
            "text/plain": [
              "'PWSKILLS'"
            ],
            "application/vnd.google.colaboratory.intrinsic+json": {
              "type": "string"
            }
          },
          "metadata": {},
          "execution_count": 70
        }
      ]
    },
    {
      "cell_type": "code",
      "source": [
        "s = 'PWSKILLS'\n",
        "s.lower()"
      ],
      "metadata": {
        "colab": {
          "base_uri": "https://localhost:8080/",
          "height": 36
        },
        "id": "yXc_WfUYJgUS",
        "outputId": "0b30e209-d9e7-4a7c-c739-b26a42c83a13"
      },
      "execution_count": 71,
      "outputs": [
        {
          "output_type": "execute_result",
          "data": {
            "text/plain": [
              "'pwskills'"
            ],
            "application/vnd.google.colaboratory.intrinsic+json": {
              "type": "string"
            }
          },
          "metadata": {},
          "execution_count": 71
        }
      ]
    },
    {
      "cell_type": "markdown",
      "source": [
        "9.Write a code to count the number of words in a string"
      ],
      "metadata": {
        "id": "KiEzR0tMJqbV"
      }
    },
    {
      "cell_type": "code",
      "source": [
        "s = 'pwskills data science'\n",
        "count = 0\n",
        "for i in s.split():\n",
        "  count = count+1\n",
        "print(count)\n"
      ],
      "metadata": {
        "colab": {
          "base_uri": "https://localhost:8080/"
        },
        "id": "SAVNJnnIJoav",
        "outputId": "bb3f6b38-3a74-46c9-dbbf-f6fc88e905f9"
      },
      "execution_count": 72,
      "outputs": [
        {
          "output_type": "stream",
          "name": "stdout",
          "text": [
            "3\n"
          ]
        }
      ]
    },
    {
      "cell_type": "markdown",
      "source": [
        "10.Write a code to concatenate two strings without using the + operator"
      ],
      "metadata": {
        "id": "QeW-9KvxKFiv"
      }
    },
    {
      "cell_type": "code",
      "source": [
        "s1 = 'pwskills'\n",
        "s2 = 'data science'\n",
        "s3 = ' '.join([s1,s2])\n",
        "print(s3)"
      ],
      "metadata": {
        "colab": {
          "base_uri": "https://localhost:8080/"
        },
        "id": "vc8WDAz_KCu2",
        "outputId": "ad4770ef-9597-4864-f3a6-58ba5342146c"
      },
      "execution_count": 80,
      "outputs": [
        {
          "output_type": "stream",
          "name": "stdout",
          "text": [
            "pwskills data science\n"
          ]
        }
      ]
    },
    {
      "cell_type": "markdown",
      "source": [
        "11.Write a code to remove all occurrences of a specific element from a list"
      ],
      "metadata": {
        "id": "I9z88a6lLFPk"
      }
    },
    {
      "cell_type": "code",
      "source": [
        "l = [1,2,3,3,4,5,6]\n",
        "l1 = []\n",
        "for i in l:\n",
        "  if i ==3:\n",
        "    continue\n",
        "  else:\n",
        "    l1.append(i)\n",
        "print(l1)"
      ],
      "metadata": {
        "colab": {
          "base_uri": "https://localhost:8080/"
        },
        "id": "XV7utHGzKGdN",
        "outputId": "6c007b4b-e4a7-4b0e-dbd6-4c858ec43a48"
      },
      "execution_count": 200,
      "outputs": [
        {
          "output_type": "stream",
          "name": "stdout",
          "text": [
            "[1, 2, 4, 5, 6]\n"
          ]
        }
      ]
    },
    {
      "cell_type": "markdown",
      "source": [
        "12. Implement a code to find the second largest number in a given list of integers"
      ],
      "metadata": {
        "id": "6Qk-i2rCNtw0"
      }
    },
    {
      "cell_type": "code",
      "source": [
        "l = [1,2,3,4,89,100,200]\n",
        "l.sort()\n",
        "l[-2]"
      ],
      "metadata": {
        "colab": {
          "base_uri": "https://localhost:8080/"
        },
        "id": "0tE_R6B4MqIL",
        "outputId": "22def02e-f5e8-421b-88f4-c5dc6c526be3"
      },
      "execution_count": 201,
      "outputs": [
        {
          "output_type": "execute_result",
          "data": {
            "text/plain": [
              "100"
            ]
          },
          "metadata": {},
          "execution_count": 201
        }
      ]
    },
    {
      "cell_type": "markdown",
      "source": [
        "13. Create a code to count the occurrences of each element in a list and return a dictionary with elements as\n",
        "keys and their counts as values"
      ],
      "metadata": {
        "id": "cvlWMFNHP39y"
      }
    },
    {
      "cell_type": "code",
      "source": [
        "l = [1,2,3,3,3,4,5]\n",
        "count = 0\n",
        "dict1 = {}\n",
        "for i in range(0,len(l)):\n",
        "  if l[i] == l[i-1]:\n",
        "    count = count+1\n",
        "    dict1[l[i]]=count\n",
        "  else:\n",
        "    count = 1\n",
        "\n",
        "print(dict1)"
      ],
      "metadata": {
        "colab": {
          "base_uri": "https://localhost:8080/"
        },
        "id": "HTcZxM_CN8xd",
        "outputId": "5bc43134-3ba8-43f7-945e-b3a6afbdc25c"
      },
      "execution_count": 244,
      "outputs": [
        {
          "output_type": "stream",
          "name": "stdout",
          "text": [
            "{3: 3}\n"
          ]
        }
      ]
    },
    {
      "cell_type": "markdown",
      "source": [
        "14 Write a code to reverse a list in-place without using any built-in reverse function"
      ],
      "metadata": {
        "id": "29QIznnyRT-a"
      }
    },
    {
      "cell_type": "code",
      "source": [
        "l = [1,2,3,4,5]\n",
        "l[::-1]"
      ],
      "metadata": {
        "colab": {
          "base_uri": "https://localhost:8080/"
        },
        "id": "jx-oCv-KRCil",
        "outputId": "c34daeb9-69c0-4c9d-cac8-99dad842fd57"
      },
      "execution_count": 112,
      "outputs": [
        {
          "output_type": "execute_result",
          "data": {
            "text/plain": [
              "[5, 4, 3, 2, 1]"
            ]
          },
          "metadata": {},
          "execution_count": 112
        }
      ]
    },
    {
      "cell_type": "markdown",
      "source": [
        "15.Implement a code to find and remove duplicates from a list while preserving the original order of\n",
        "elements"
      ],
      "metadata": {
        "id": "Rxscjv5-Rhlt"
      }
    },
    {
      "cell_type": "code",
      "source": [
        "l = [1,2,3,4,4,5,6]\n",
        "l1=[]\n",
        "l1=l.copy()\n",
        "for i in range(0,(len(l1)-1)):\n",
        "\n",
        "  if l1[i] == l1[i-1]:\n",
        "\n",
        "    l1.remove(l1[i])\n",
        "  else:\n",
        "    continue\n",
        "print(l1,'copied list')\n",
        "\n",
        "print(l,'original list')\n"
      ],
      "metadata": {
        "colab": {
          "base_uri": "https://localhost:8080/"
        },
        "id": "QW2qFnrZRVGv",
        "outputId": "1bc9ff81-c52c-4e79-ea24-cb373a95cf51"
      },
      "execution_count": 242,
      "outputs": [
        {
          "output_type": "stream",
          "name": "stdout",
          "text": [
            "[1, 2, 3, 4, 5, 6] copied list\n",
            "[1, 2, 3, 4, 4, 5, 6] original list\n"
          ]
        }
      ]
    },
    {
      "cell_type": "markdown",
      "source": [
        "16.Create a code to check if a given list is sorted (either in ascending or descending order) or not"
      ],
      "metadata": {
        "id": "eYVzQDmxTote"
      }
    },
    {
      "cell_type": "code",
      "source": [
        "l = [1,2,3,4,5,100,200,5,6,88]\n",
        "l1 = l.copy()\n",
        "l1.sort()\n",
        "if l == l1:\n",
        "  print('sorted')\n",
        "else:\n",
        "  print('not sorted')"
      ],
      "metadata": {
        "colab": {
          "base_uri": "https://localhost:8080/"
        },
        "id": "w8CqJPYBRiUc",
        "outputId": "8163416e-dac9-441a-f96f-971dcfb2fe62"
      },
      "execution_count": 205,
      "outputs": [
        {
          "output_type": "stream",
          "name": "stdout",
          "text": [
            "not sorted\n"
          ]
        }
      ]
    },
    {
      "cell_type": "markdown",
      "source": [
        "13.Write a code to merge two sorted lists into a single sorted lis"
      ],
      "metadata": {
        "id": "NDRXJZd7T7sm"
      }
    },
    {
      "cell_type": "code",
      "source": [
        "l1 = [1,2,44,5,7]\n",
        "l2 = [1,1,1000,111]\n",
        "l1.sort()\n",
        "sorted(l2)\n",
        "l3 = l1+l2\n",
        "l3.sort()\n",
        "print(l3)\n"
      ],
      "metadata": {
        "colab": {
          "base_uri": "https://localhost:8080/"
        },
        "id": "eEGCUVGqT3hZ",
        "outputId": "d02cb042-564f-4ce2-f17e-8f3f10fe4e5c"
      },
      "execution_count": 146,
      "outputs": [
        {
          "output_type": "stream",
          "name": "stdout",
          "text": [
            "[1, 1, 1, 2, 5, 7, 44, 111, 1000]\n"
          ]
        }
      ]
    },
    {
      "cell_type": "markdown",
      "source": [
        "18. Implement a code to find the intersection of two given lists"
      ],
      "metadata": {
        "id": "nHyOft5wU3uB"
      }
    },
    {
      "cell_type": "code",
      "source": [
        "l1 = [1,2,3,4,5]\n",
        "l2 = [1,2,3,55]\n",
        "l3 = []\n",
        "for i in l1:\n",
        "  if i in l2:\n",
        "    l3.append(i)\n",
        "  else:\n",
        "    continue\n",
        "\n",
        "print(l3)"
      ],
      "metadata": {
        "colab": {
          "base_uri": "https://localhost:8080/"
        },
        "id": "ElSlU74RUqNr",
        "outputId": "d677a163-f78d-4d88-c645-f85bb0b42a05"
      },
      "execution_count": 206,
      "outputs": [
        {
          "output_type": "stream",
          "name": "stdout",
          "text": [
            "[1, 2, 3]\n"
          ]
        }
      ]
    },
    {
      "cell_type": "markdown",
      "source": [
        "19.Create a code to find the union of two lists without duplicate"
      ],
      "metadata": {
        "id": "6hLdYPVoVMZA"
      }
    },
    {
      "cell_type": "code",
      "source": [
        "list1 = [1,2,3,4,5]\n",
        "list2 = [3]\n",
        "list3 = list1 + list2\n",
        "list4 = list3.copy()\n",
        "for i in list4:\n",
        "  if list4.count(i) > 1:\n",
        "    list4.remove(i)\n",
        "  else:\n",
        "    continue\n",
        "print('combined list',list3)\n",
        "print('after duplicates removed',list4)"
      ],
      "metadata": {
        "colab": {
          "base_uri": "https://localhost:8080/"
        },
        "id": "8kwDVcheVIQ5",
        "outputId": "5d97dd45-f657-4578-da36-5a2ca04c8b9f"
      },
      "execution_count": 240,
      "outputs": [
        {
          "output_type": "stream",
          "name": "stdout",
          "text": [
            "combined list [1, 2, 3, 4, 5, 3]\n",
            "after duplicates removed [1, 2, 4, 5, 3]\n"
          ]
        }
      ]
    },
    {
      "cell_type": "markdown",
      "source": [
        "20. write a code to shuffle a given list randomly without using any built-in shuffle functions"
      ],
      "metadata": {
        "id": "dGagjQG3fmiT"
      }
    },
    {
      "cell_type": "code",
      "source": [
        "\n",
        "import random\n",
        "l1 = [1, 2, 3, 4, 5, 6, 7, 8, 9]\n",
        "l3 = []\n",
        "for i in range(len(l1)-1,0,-1):\n",
        "  j = random.randint(0,i)\n",
        "  l1[i],l1[j] = l1[j],l1[i]\n",
        "  l3.append(l1[i])\n",
        "print('shuffled list ',l3)"
      ],
      "metadata": {
        "colab": {
          "base_uri": "https://localhost:8080/"
        },
        "id": "tc3FcRb9erAs",
        "outputId": "4d52ee04-1940-4cac-eac0-4a030b9ac044"
      },
      "execution_count": 269,
      "outputs": [
        {
          "output_type": "stream",
          "name": "stdout",
          "text": [
            "shuffled list  [1, 9, 4, 5, 7, 8, 6, 3]\n"
          ]
        }
      ]
    },
    {
      "cell_type": "markdown",
      "source": [
        "21. Write a code that takes two tuples as input and returns a new tuple containing elements that are\n",
        "common to both input tuples"
      ],
      "metadata": {
        "id": "HUXZ9P8aj6R7"
      }
    },
    {
      "cell_type": "code",
      "source": [
        "t1 = (1,2,3,4,5)\n",
        "t2 = (1,2,4)\n",
        "t3 = ()\n",
        "for i in t1:\n",
        "  if i in t2:\n",
        "    t3 = t3 + (i,)\n",
        "  else:\n",
        "    continue\n",
        "print(t3)"
      ],
      "metadata": {
        "colab": {
          "base_uri": "https://localhost:8080/"
        },
        "id": "yImIJmHLgDNg",
        "outputId": "33dd4002-a3fd-41ed-c2f7-16190c7943e4"
      },
      "execution_count": 272,
      "outputs": [
        {
          "output_type": "stream",
          "name": "stdout",
          "text": [
            "(1, 2, 4)\n"
          ]
        }
      ]
    },
    {
      "cell_type": "markdown",
      "source": [
        "22. Create a code that prompts the user to enter two sets of integers separated by commas. Then, print the\n",
        "intersection of these two sets"
      ],
      "metadata": {
        "id": "JCN5fqwGkon5"
      }
    },
    {
      "cell_type": "code",
      "source": [
        "s1 = input(\"enter the sets 1 separated by comma\")\n",
        "s2 = input(\"enter the sets 2 separated by comma\")\n",
        "s3 = set(s1.split(',')) & set(s2.split(','))"
      ],
      "metadata": {
        "colab": {
          "base_uri": "https://localhost:8080/"
        },
        "id": "SIT74oBEkU-6",
        "outputId": "7bfac4a5-5531-4e94-cdae-25cb483d4dcd"
      },
      "execution_count": 278,
      "outputs": [
        {
          "output_type": "stream",
          "name": "stdout",
          "text": [
            "enter the sets 1 separated by comma1,2,3,4,5,6\n",
            "enter the sets 2 separated by comma1,2,34,5,6\n",
            "1,2,3,4,5,6\n",
            "1,2,34,5,6\n"
          ]
        }
      ]
    },
    {
      "cell_type": "code",
      "source": [
        "s3"
      ],
      "metadata": {
        "colab": {
          "base_uri": "https://localhost:8080/"
        },
        "id": "G0MWyWYbk8pZ",
        "outputId": "b8ca6cc2-32c1-45fa-979f-34adf4ccae78"
      },
      "execution_count": 282,
      "outputs": [
        {
          "output_type": "execute_result",
          "data": {
            "text/plain": [
              "{'1', '2', '5', '6'}"
            ]
          },
          "metadata": {},
          "execution_count": 282
        }
      ]
    },
    {
      "cell_type": "markdown",
      "source": [
        "23.Write a code to concatenate two tuples. The function should take two tuples as input and return a new\n",
        "tuple containing elements from both input tuples."
      ],
      "metadata": {
        "id": "M2RwsbI_mFkE"
      }
    },
    {
      "cell_type": "code",
      "source": [
        "tuple1 = (1,2,4,5)\n",
        "tuple2 = (1,2,3,4)\n",
        "tuple3 = tuple1 + tuple2\n",
        "print(tuple3)"
      ],
      "metadata": {
        "colab": {
          "base_uri": "https://localhost:8080/"
        },
        "id": "a2DoWwIhlu-p",
        "outputId": "86cf4d68-3d5e-4c97-93fd-6f632cb16170"
      },
      "execution_count": 284,
      "outputs": [
        {
          "output_type": "stream",
          "name": "stdout",
          "text": [
            "(1, 2, 4, 5, 1, 2, 3, 4)\n"
          ]
        }
      ]
    },
    {
      "cell_type": "markdown",
      "source": [
        "24.Develop a code that prompts the user to input two sets of strings. Then, print the elements that are\n",
        "present in the first set but not in the second set&"
      ],
      "metadata": {
        "id": "hGT-kvExmg_i"
      }
    },
    {
      "cell_type": "code",
      "source": [
        "s1 = input(\"enter the sets 1 separated by comma\")\n",
        "s2 = input(\"enter the sets 2 separated by comma\")\n",
        "\n",
        "s3 = set(s1.split(',')) - set(s2.split(','))\n",
        "print(s3)"
      ],
      "metadata": {
        "colab": {
          "base_uri": "https://localhost:8080/"
        },
        "id": "CtJnEKPzmH7O",
        "outputId": "8a544354-244a-495e-8ead-5e8c83827923"
      },
      "execution_count": 287,
      "outputs": [
        {
          "output_type": "stream",
          "name": "stdout",
          "text": [
            "enter the sets 1 separated by comma\"pw\",\"skills\"\n",
            "enter the sets 2 separated by comma\"pw\"\n",
            "{'\"skills\"'}\n"
          ]
        }
      ]
    },
    {
      "cell_type": "markdown",
      "source": [
        "25 Create a code that takes a tuple and two integers as input. The function should return a new tuple\n",
        "containing elements from the original tuple within the specified range of indices"
      ],
      "metadata": {
        "id": "Chz3_He9my7W"
      }
    },
    {
      "cell_type": "code",
      "source": [
        "tuple1 = input(\"enter the first tuple\")\n",
        "I1 = int(input(\"enter the first index\"))\n",
        "I2 = int(input(\"enter the second index\"))\n",
        "if len(tuple1) >= I2:\n",
        "  tuple2= tuple1[I1:I2]\n",
        "  print(tuple2)\n",
        "else:\n",
        "  print('index out of range')\n",
        "\n"
      ],
      "metadata": {
        "colab": {
          "base_uri": "https://localhost:8080/"
        },
        "id": "x3MU4yXjmxYb",
        "outputId": "ce05fc5b-dd3a-469b-fccb-25dfde8c280e"
      },
      "execution_count": 297,
      "outputs": [
        {
          "output_type": "stream",
          "name": "stdout",
          "text": [
            "enter the first tuple1,2,3\n",
            "enter the first index0\n",
            "enter the second index1\n",
            "1\n"
          ]
        }
      ]
    },
    {
      "cell_type": "markdown",
      "source": [
        "26. Write a code that prompts the user to input two sets of characters. Then, print the union of these two sets"
      ],
      "metadata": {
        "id": "uOfczI6Ktuf6"
      }
    },
    {
      "cell_type": "code",
      "source": [
        "s1 = input(\"enter the set1 separated by comma\")\n",
        "s2 = input(\"enter the set2 separated by comma\")\n",
        "s3 = set(s1.split(',')) | set(s2.split(','))\n",
        "print(s3)"
      ],
      "metadata": {
        "colab": {
          "base_uri": "https://localhost:8080/"
        },
        "id": "YZ-mm4Zqnwn3",
        "outputId": "e0214c81-563a-4e37-f7ae-bd3cdd0eb2e3"
      },
      "execution_count": 298,
      "outputs": [
        {
          "output_type": "stream",
          "name": "stdout",
          "text": [
            "enter the set1 separated by comma'a','b','b'\n",
            "enter the set2 separated by comma'a','c'\n",
            "{\"'a'\", \"'b'\", \"'c'\"}\n"
          ]
        }
      ]
    },
    {
      "cell_type": "markdown",
      "source": [
        "27.Develop a code that takes a tuple of integers as input. The function should return the maximum and\n",
        "minimum values from the tuple using tuple unpackin"
      ],
      "metadata": {
        "id": "I8ew7DaDt_w8"
      }
    },
    {
      "cell_type": "code",
      "source": [
        "tup1 = (1,2,3)\n",
        "t1,t2,t3 = tup1\n",
        "print('max',max(t1,t2,t3))\n",
        "print('min',min(t1,t2,t3))\n"
      ],
      "metadata": {
        "colab": {
          "base_uri": "https://localhost:8080/"
        },
        "id": "ax1pYoTWtxHS",
        "outputId": "1d16ad22-0568-4fcb-8a8b-030cf36b0c11"
      },
      "execution_count": 305,
      "outputs": [
        {
          "output_type": "stream",
          "name": "stdout",
          "text": [
            "max 3\n",
            "min 1\n"
          ]
        }
      ]
    },
    {
      "cell_type": "markdown",
      "source": [
        "28 Create a code that defines two sets of integers. Then, print the union, intersection, and difference of these\n",
        "two sets&"
      ],
      "metadata": {
        "id": "Iiul2u-Lu2dY"
      }
    },
    {
      "cell_type": "code",
      "source": [
        "s1 = {1,2,3,4,5}\n",
        "s2 = {4,5,6,7,8}\n",
        "print('union',s1 | s2)\n",
        "print('difference',s1 - s2)\n",
        "print('intersection',s1 & s2)"
      ],
      "metadata": {
        "colab": {
          "base_uri": "https://localhost:8080/"
        },
        "id": "fGnX8dfAuMzZ",
        "outputId": "bb9b3234-3798-46c5-ec85-3cebfb33a660"
      },
      "execution_count": 306,
      "outputs": [
        {
          "output_type": "stream",
          "name": "stdout",
          "text": [
            "union {1, 2, 3, 4, 5, 6, 7, 8}\n",
            "difference {1, 2, 3}\n",
            "intersection {4, 5}\n"
          ]
        }
      ]
    },
    {
      "cell_type": "markdown",
      "source": [
        "29 Write a code that takes a tuple and an element as input. The function should return the count of\n",
        "occurrences of the given element in the tuple"
      ],
      "metadata": {
        "id": "P9jRYAT_vJvV"
      }
    },
    {
      "cell_type": "code",
      "source": [
        "t1 = input(\"enter the tuples elemnets\")\n",
        "print(tuple(t1.split(',')))\n",
        "\n",
        "e1 = input(\"enter the element\")\n",
        "t1.count(e1)\n"
      ],
      "metadata": {
        "colab": {
          "base_uri": "https://localhost:8080/"
        },
        "id": "iaEqF-2QvIT8",
        "outputId": "9f86879f-c042-41d8-d168-c3f2dd074685"
      },
      "execution_count": 319,
      "outputs": [
        {
          "name": "stdout",
          "output_type": "stream",
          "text": [
            "enter the tuples elemnets1,2,3,4,4\n",
            "('1', '2', '3', '4', '4')\n",
            "enter the element4\n"
          ]
        },
        {
          "output_type": "execute_result",
          "data": {
            "text/plain": [
              "2"
            ]
          },
          "metadata": {},
          "execution_count": 319
        }
      ]
    },
    {
      "cell_type": "markdown",
      "source": [
        "30.Develop a code that prompts the user to input two sets of strings. Then, print the symmetric difference of\n",
        "these two sets"
      ],
      "metadata": {
        "id": "C1U4w0h0xedB"
      }
    },
    {
      "cell_type": "code",
      "source": [
        "s1 = input(\"enter the set1 separated by comma\")\n",
        "s2 = input(\"enter the set2 separated by comma\")\n",
        "s3 = set(s1.split(',')) ^ set(s2.split(','))\n",
        "print(s3)"
      ],
      "metadata": {
        "colab": {
          "base_uri": "https://localhost:8080/"
        },
        "id": "1PaNNonCvi8p",
        "outputId": "691ba260-79a8-4c0d-cfba-4f1e6d47cee8"
      },
      "execution_count": 320,
      "outputs": [
        {
          "output_type": "stream",
          "name": "stdout",
          "text": [
            "enter the set1 separated by comma\"pw\",\"skills\",\"data\"\n",
            "enter the set2 separated by comma\"pw\",\"science\"\n",
            "{'\"science\"', '\"skills\"', '\"data\"'}\n"
          ]
        }
      ]
    },
    {
      "cell_type": "markdown",
      "source": [
        "31.Write a code that takes a list of words as input and returns a dictionary where the keys are unique words\n",
        "and the values are the frequencies of those words in the input list"
      ],
      "metadata": {
        "id": "rk3Fv7qtxu8H"
      }
    },
    {
      "cell_type": "code",
      "source": [
        "l = ['pw','pw','skills','data','science']\n",
        "dict1 = {}\n",
        "for i in l:\n",
        "  dict1[i]= l.count(i)\n",
        "print(dict1)"
      ],
      "metadata": {
        "colab": {
          "base_uri": "https://localhost:8080/"
        },
        "id": "8cgQYFrLxnMa",
        "outputId": "6b2717fc-f171-4cf9-efdf-9cafeb836304"
      },
      "execution_count": 321,
      "outputs": [
        {
          "output_type": "stream",
          "name": "stdout",
          "text": [
            "{'pw': 2, 'skills': 1, 'data': 1, 'science': 1}\n"
          ]
        }
      ]
    },
    {
      "cell_type": "markdown",
      "source": [
        "32.Write a code that takes two dictionaries as input and merges them into a single dictionary. If there are\n",
        "common keys, the values should be added together"
      ],
      "metadata": {
        "id": "pL87LJ87yXfu"
      }
    },
    {
      "cell_type": "code",
      "source": [
        "dict1 = {\"name\":\"pwskills\",\"duration\":2}\n",
        "dict2 = {\"name\":\"data\"}\n",
        "for i in dict2:\n",
        "  if i in dict1:\n",
        "    dict1[i] = dict1[i] + dict2[i]\n",
        "  else:\n",
        "    dict1[i] = dict2[i]\n",
        "print(dict1)"
      ],
      "metadata": {
        "colab": {
          "base_uri": "https://localhost:8080/"
        },
        "id": "5PwML6Z7yPdj",
        "outputId": "e7b001e3-25f1-4fed-933d-7e169231d064"
      },
      "execution_count": 323,
      "outputs": [
        {
          "output_type": "stream",
          "name": "stdout",
          "text": [
            "{'name': 'pwskillsdata', 'duration': 2}\n"
          ]
        }
      ]
    },
    {
      "cell_type": "markdown",
      "source": [
        "33. Write a code to access a value in a nested dictionary. The function should take the dictionary and a list of\n",
        "keys as input, and return the corresponding value. If any of the keys do not exist in the dictionary, the\n",
        "function should return None"
      ],
      "metadata": {
        "id": "j3nbJHMu0F2C"
      }
    },
    {
      "cell_type": "code",
      "source": [
        "dict1 = {\"Institue\":{\"name\":\"pwskills\"},\n",
        "         \"course details\":{\"name of course\":\"data science\",\"eligibility\":\"all\",\"duration\":5}}\n",
        "list1 = input(\"enter the keys separated by comma\")\n",
        "list2 = list1.split(',')\n",
        "list2"
      ],
      "metadata": {
        "colab": {
          "base_uri": "https://localhost:8080/"
        },
        "id": "Z1l3ElsgyVwR",
        "outputId": "dcee20fc-a25a-447a-8476-6192486f2473"
      },
      "execution_count": 357,
      "outputs": [
        {
          "name": "stdout",
          "output_type": "stream",
          "text": [
            "enter the keys separated by commaname\n"
          ]
        },
        {
          "output_type": "execute_result",
          "data": {
            "text/plain": [
              "['name']"
            ]
          },
          "metadata": {},
          "execution_count": 357
        }
      ]
    },
    {
      "cell_type": "code",
      "source": [
        "for i in dict1.keys():\n",
        "  if i in list2:\n",
        "    print(dict1[i])\n",
        "  else:\n",
        "    print(None)"
      ],
      "metadata": {
        "colab": {
          "base_uri": "https://localhost:8080/"
        },
        "id": "UdkyR8mM2Hms",
        "outputId": "3f54a05f-c3a1-4f55-d54e-5c5946799b1e"
      },
      "execution_count": 363,
      "outputs": [
        {
          "output_type": "stream",
          "name": "stdout",
          "text": [
            "pwskills\n"
          ]
        }
      ]
    },
    {
      "cell_type": "markdown",
      "source": [
        "34. Write a code that takes a dictionary as input and returns a sorted version of it based on the values. You\n",
        "can choose whether to sort in ascending or descending orde"
      ],
      "metadata": {
        "id": "1jGSVY895eHH"
      }
    },
    {
      "cell_type": "code",
      "source": [
        "dict1 = {\"name\":\"pwskills\",\"duration\":2,'elig': 'all'}\n",
        "print(\"before sorting\",dict1)\n",
        "\n",
        "sorted_items = sorted(dict1.items(), key=lambda item: (isinstance(item[1], int), item[1]))\n",
        "\n",
        "dict2 = dict(sorted_items)\n",
        "\n",
        "print(\"after sorting\",dict2)"
      ],
      "metadata": {
        "colab": {
          "base_uri": "https://localhost:8080/"
        },
        "id": "glUG5wwp_BqP",
        "outputId": "5fef6655-9270-4b41-80ac-9509e4080afd"
      },
      "execution_count": 395,
      "outputs": [
        {
          "output_type": "stream",
          "name": "stdout",
          "text": [
            "before sorting {'name': 'pwskills', 'duration': 2, 'elig': 'all'}\n",
            "after sorting {'elig': 'all', 'name': 'pwskills', 'duration': 2}\n"
          ]
        }
      ]
    },
    {
      "cell_type": "markdown",
      "source": [
        "35 Write a code that inverts a dictionary, swapping keys and values. Ensure that the inverted dictionary\n",
        "correctly handles cases where multiple keys have the same value by storing the keys as a list in the\n",
        "inverted dictionary"
      ],
      "metadata": {
        "id": "z9nTAP6U_uM9"
      }
    },
    {
      "cell_type": "code",
      "source": [
        "input_dict = {\"name\":\"pwskills\",\"duration\":2,'elig': 'all',\"name\":\"dsz\"}\n",
        "inverted_dict = {}\n",
        "for key, value in input_dict.items():\n",
        "    if value in inverted_dict:\n",
        "\n",
        "        inverted_dict[value].append(key) if type(inverted_dict[value]) == list else inverted_dict.update({value: [inverted_dict[value], key]})\n",
        "    else:\n",
        "\n",
        "        inverted_dict[value] = key\n",
        "\n",
        "print(inverted_dict)"
      ],
      "metadata": {
        "colab": {
          "base_uri": "https://localhost:8080/"
        },
        "id": "KzjZ5kVD_YWW",
        "outputId": "b8abee55-079f-494b-877c-4f07ddbaf706"
      },
      "execution_count": 399,
      "outputs": [
        {
          "output_type": "stream",
          "name": "stdout",
          "text": [
            "{'dsz': 'name', 2: 'duration', 'all': 'elig'}\n"
          ]
        }
      ]
    },
    {
      "cell_type": "code",
      "source": [],
      "metadata": {
        "id": "9CSwXkz0_2ru"
      },
      "execution_count": null,
      "outputs": []
    }
  ]
}