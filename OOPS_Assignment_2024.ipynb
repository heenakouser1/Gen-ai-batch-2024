{
  "nbformat": 4,
  "nbformat_minor": 0,
  "metadata": {
    "colab": {
      "provenance": [],
      "authorship_tag": "ABX9TyOebScVUQwW+vm2docAd1OP",
      "include_colab_link": true
    },
    "kernelspec": {
      "name": "python3",
      "display_name": "Python 3"
    },
    "language_info": {
      "name": "python"
    }
  },
  "cells": [
    {
      "cell_type": "markdown",
      "metadata": {
        "id": "view-in-github",
        "colab_type": "text"
      },
      "source": [
        "<a href=\"https://colab.research.google.com/github/heenakouser1/Gen-ai-batch-2024/blob/main/OOPS_Assignment_2024.ipynb\" target=\"_parent\"><img src=\"https://colab.research.google.com/assets/colab-badge.svg\" alt=\"Open In Colab\"/></a>"
      ]
    },
    {
      "cell_type": "markdown",
      "source": [
        "1. What are the five key concepts of Object-Oriented Programming (OOP)"
      ],
      "metadata": {
        "id": "wFxeYx97H1ze"
      }
    },
    {
      "cell_type": "code",
      "execution_count": null,
      "metadata": {
        "id": "uc5VN2soHCd4"
      },
      "outputs": [],
      "source": [
        "#OOPS is object oriented programming. It Has following concepts\n",
        "# Creating classes and objects\n",
        "# Inheritence\n",
        "# Abstraction\n",
        "# Polymorphsim\n",
        "# Encapsulation"
      ]
    },
    {
      "cell_type": "markdown",
      "source": [
        "2. Write a Python class for a `Car` with attributes for `make`, `model`, and `year`. Include a method to display\n",
        "the car's information"
      ],
      "metadata": {
        "id": "m2B1YLLhI6IC"
      }
    },
    {
      "cell_type": "code",
      "source": [
        "class Car:\n",
        "  def __init__(self,make,model,year):\n",
        "    self.make = make\n",
        "    self.model = model\n",
        "    self.year = year\n",
        "  def display(self):\n",
        "    print(\"Car make:\",self.make,\"car model:\", self.model,\"car year:\",self.year)\n"
      ],
      "metadata": {
        "id": "5BafwaWRI8us"
      },
      "execution_count": null,
      "outputs": []
    },
    {
      "cell_type": "code",
      "source": [
        "c = Car(\"Toyota\",\"camry\",\"2019\")"
      ],
      "metadata": {
        "id": "b1IfE7VrJS1C"
      },
      "execution_count": null,
      "outputs": []
    },
    {
      "cell_type": "code",
      "source": [
        "c.display()"
      ],
      "metadata": {
        "colab": {
          "base_uri": "https://localhost:8080/"
        },
        "id": "u-ZvLX68Jh0x",
        "outputId": "ce680c98-f48c-4456-affe-5834c88a650a"
      },
      "execution_count": null,
      "outputs": [
        {
          "output_type": "stream",
          "name": "stdout",
          "text": [
            "Car make: Toyota car model: camry car year: 2019\n"
          ]
        }
      ]
    },
    {
      "cell_type": "markdown",
      "source": [
        "3. Explain the difference between instance methods and class methods. Provide an example of each"
      ],
      "metadata": {
        "id": "2HuTuWtLJuGV"
      }
    },
    {
      "cell_type": "code",
      "source": [
        "# Class method:\n",
        "# They are associated directly with class.\n",
        "# They can be called directly using the class name.\n",
        "# They use \"cls \" as arugment to denote it belomg to class method\n",
        "\n",
        "# Instance method:\n",
        "# They are associated with the objects\n",
        "# This can be called once the objects is craeted\n",
        "# They require the self, once the external argument is used"
      ],
      "metadata": {
        "id": "XuVxZw1SJjAn"
      },
      "execution_count": null,
      "outputs": []
    },
    {
      "cell_type": "markdown",
      "source": [
        "4. How does Python implement method overloading? Give an exampl"
      ],
      "metadata": {
        "id": "ou0tt2akKi4q"
      }
    },
    {
      "cell_type": "code",
      "source": [
        "# In Python , method overloading can happen during the polymorphism process.\n",
        "\n",
        "class Vehicle:\n",
        "  def cardetails(self):\n",
        "    print(\" this has only self details\")\n",
        "  def cardetails(self,name=\"\"):\n",
        "    print(\" this has name details with self\")\n",
        "  def cardetails(self,name=\"\",model=\"\"):\n",
        "    print(\" this has name , model details with self\")"
      ],
      "metadata": {
        "id": "QL2jFl-YKhO9"
      },
      "execution_count": null,
      "outputs": []
    },
    {
      "cell_type": "code",
      "source": [
        "v1 = Vehicle()"
      ],
      "metadata": {
        "id": "3lffO8vEKeND"
      },
      "execution_count": null,
      "outputs": []
    },
    {
      "cell_type": "code",
      "source": [
        "v1.cardetails()"
      ],
      "metadata": {
        "colab": {
          "base_uri": "https://localhost:8080/"
        },
        "id": "RCF2f2luLFTp",
        "outputId": "813e8fc9-9f65-46fb-efcc-35a7103e9abe"
      },
      "execution_count": null,
      "outputs": [
        {
          "output_type": "stream",
          "name": "stdout",
          "text": [
            " this has name , model details with self\n"
          ]
        }
      ]
    },
    {
      "cell_type": "code",
      "source": [
        "v1.cardetails(\"Toyota\")"
      ],
      "metadata": {
        "id": "YxcxnqsmLGww",
        "colab": {
          "base_uri": "https://localhost:8080/"
        },
        "outputId": "42085689-da51-468b-b045-411274550cac"
      },
      "execution_count": null,
      "outputs": [
        {
          "output_type": "stream",
          "name": "stdout",
          "text": [
            " this has name , model details with self\n"
          ]
        }
      ]
    },
    {
      "cell_type": "code",
      "source": [
        "v1.cardetails(\"Toyota\",\"Camry\")"
      ],
      "metadata": {
        "colab": {
          "base_uri": "https://localhost:8080/"
        },
        "id": "kp6U3L1bMgHS",
        "outputId": "7ecec16f-8874-4be2-a163-2479a8b98480"
      },
      "execution_count": null,
      "outputs": [
        {
          "output_type": "stream",
          "name": "stdout",
          "text": [
            " this has name , model details with self\n"
          ]
        }
      ]
    },
    {
      "cell_type": "code",
      "source": [
        "# Another case is in class method: class method has ability to overload the original __init__ method of class\n",
        "\n",
        "class Vehicle:\n",
        "  def __init__(self,name):\n",
        "    self.name = name\n",
        "  @classmethod\n",
        "  def cardetails(cls,name1):\n",
        "    print(\"name of car is :\",name1)"
      ],
      "metadata": {
        "id": "_D9bsL6NMhrI"
      },
      "execution_count": null,
      "outputs": []
    },
    {
      "cell_type": "code",
      "source": [
        "v = Vehicle(\"Toyota\")\n",
        "v.cardetails(\"Suzuki\")"
      ],
      "metadata": {
        "colab": {
          "base_uri": "https://localhost:8080/"
        },
        "id": "r1MziTPaM4N0",
        "outputId": "88bee638-8a45-4923-b8b8-36cb75abff6e"
      },
      "execution_count": null,
      "outputs": [
        {
          "output_type": "stream",
          "name": "stdout",
          "text": [
            "name of car is : Suzuki\n"
          ]
        }
      ]
    },
    {
      "cell_type": "markdown",
      "source": [
        "5. What are the three types of access modifiers in Python? How are they denoted"
      ],
      "metadata": {
        "id": "34motWKhNPXz"
      }
    },
    {
      "cell_type": "code",
      "source": [
        "# Encapsulation is to hide the code related information.\n",
        "#They are 3 types of access modifiers in python used as part of encapsulation.\n",
        "# Public\n",
        "# Private\n",
        "# Protected\n"
      ],
      "metadata": {
        "id": "jC7-5xOHNBH-"
      },
      "execution_count": null,
      "outputs": []
    },
    {
      "cell_type": "code",
      "source": [
        "# Public\n",
        "class Vehicle:\n",
        "  def __init__(self, name):\n",
        "    self.name = name\n",
        "  def details(self):\n",
        "    print(\" name of car is \", self.name)\n",
        "v = Vehicle(\"Toyota\")\n",
        "v.details()"
      ],
      "metadata": {
        "colab": {
          "base_uri": "https://localhost:8080/"
        },
        "id": "yEKkTpoAN9LT",
        "outputId": "9fb29dde-f079-454e-830f-a86c1ec7c24f"
      },
      "execution_count": null,
      "outputs": [
        {
          "output_type": "stream",
          "name": "stdout",
          "text": [
            " name of car is  Toyota\n"
          ]
        }
      ]
    },
    {
      "cell_type": "code",
      "source": [
        "v.name = \"Suzuki\""
      ],
      "metadata": {
        "id": "fJG6w9xROapo"
      },
      "execution_count": null,
      "outputs": []
    },
    {
      "cell_type": "code",
      "source": [
        "v.details()"
      ],
      "metadata": {
        "colab": {
          "base_uri": "https://localhost:8080/"
        },
        "id": "JZUKmJKmOqeU",
        "outputId": "ca66f8c8-4258-4e9c-c001-9628efff1ea3"
      },
      "execution_count": null,
      "outputs": [
        {
          "output_type": "stream",
          "name": "stdout",
          "text": [
            " name of car is  Suzuki\n"
          ]
        }
      ]
    },
    {
      "cell_type": "code",
      "source": [
        "# private\n",
        "class Vehicle:\n",
        "  def __init__(self, name):\n",
        "    self.__name = name\n",
        "  def details(self):\n",
        "    print(\" name of car is \", self.__name)\n",
        "v = Vehicle(\"Toyota\")\n",
        "v.details()"
      ],
      "metadata": {
        "colab": {
          "base_uri": "https://localhost:8080/"
        },
        "id": "s-CWyJDMOrq8",
        "outputId": "d70b82f4-86e9-4d3d-ff42-b9601bc108bf"
      },
      "execution_count": null,
      "outputs": [
        {
          "output_type": "stream",
          "name": "stdout",
          "text": [
            " name of car is  Toyota\n"
          ]
        }
      ]
    },
    {
      "cell_type": "code",
      "source": [
        "v.name"
      ],
      "metadata": {
        "colab": {
          "base_uri": "https://localhost:8080/",
          "height": 146
        },
        "id": "sNNW1_3JOzYH",
        "outputId": "2cf21b3c-9a8c-400c-99e0-44a7efb8d668"
      },
      "execution_count": null,
      "outputs": [
        {
          "output_type": "error",
          "ename": "AttributeError",
          "evalue": "'Vehicle' object has no attribute 'name'",
          "traceback": [
            "\u001b[0;31m---------------------------------------------------------------------------\u001b[0m",
            "\u001b[0;31mAttributeError\u001b[0m                            Traceback (most recent call last)",
            "\u001b[0;32m<ipython-input-55-eca9e9f8cd18>\u001b[0m in \u001b[0;36m<cell line: 1>\u001b[0;34m()\u001b[0m\n\u001b[0;32m----> 1\u001b[0;31m \u001b[0mv\u001b[0m\u001b[0;34m.\u001b[0m\u001b[0mname\u001b[0m\u001b[0;34m\u001b[0m\u001b[0;34m\u001b[0m\u001b[0m\n\u001b[0m",
            "\u001b[0;31mAttributeError\u001b[0m: 'Vehicle' object has no attribute 'name'"
          ]
        }
      ]
    },
    {
      "cell_type": "code",
      "source": [
        "v.__name"
      ],
      "metadata": {
        "colab": {
          "base_uri": "https://localhost:8080/",
          "height": 146
        },
        "id": "Z66uImcDO2g7",
        "outputId": "cabc7f12-623f-4e53-c699-bbb4be2e11e3"
      },
      "execution_count": null,
      "outputs": [
        {
          "output_type": "error",
          "ename": "AttributeError",
          "evalue": "'Vehicle' object has no attribute '__name'",
          "traceback": [
            "\u001b[0;31m---------------------------------------------------------------------------\u001b[0m",
            "\u001b[0;31mAttributeError\u001b[0m                            Traceback (most recent call last)",
            "\u001b[0;32m<ipython-input-56-9abf84a75bad>\u001b[0m in \u001b[0;36m<cell line: 1>\u001b[0;34m()\u001b[0m\n\u001b[0;32m----> 1\u001b[0;31m \u001b[0mv\u001b[0m\u001b[0;34m.\u001b[0m\u001b[0m__name\u001b[0m\u001b[0;34m\u001b[0m\u001b[0;34m\u001b[0m\u001b[0m\n\u001b[0m",
            "\u001b[0;31mAttributeError\u001b[0m: 'Vehicle' object has no attribute '__name'"
          ]
        }
      ]
    },
    {
      "cell_type": "code",
      "source": [
        "v._Vehicle__name   # When you know the structure of program then only teh private variable can be accessed"
      ],
      "metadata": {
        "colab": {
          "base_uri": "https://localhost:8080/",
          "height": 36
        },
        "id": "RnTgHo98O4d2",
        "outputId": "e898d0f3-fb9c-4502-bd38-41e727d12566"
      },
      "execution_count": null,
      "outputs": [
        {
          "output_type": "execute_result",
          "data": {
            "text/plain": [
              "'Toyota'"
            ],
            "application/vnd.google.colaboratory.intrinsic+json": {
              "type": "string"
            }
          },
          "metadata": {},
          "execution_count": 57
        }
      ]
    },
    {
      "cell_type": "code",
      "source": [
        "v._Vehicle__name = \"Suzuki\""
      ],
      "metadata": {
        "id": "f3P68vftPbfD"
      },
      "execution_count": null,
      "outputs": []
    },
    {
      "cell_type": "code",
      "source": [
        "v.details()"
      ],
      "metadata": {
        "colab": {
          "base_uri": "https://localhost:8080/"
        },
        "id": "_z-XRbcPPg96",
        "outputId": "8626b1e5-5295-44ca-9a02-5bd4e51d3760"
      },
      "execution_count": null,
      "outputs": [
        {
          "output_type": "stream",
          "name": "stdout",
          "text": [
            " name of car is  Suzuki\n"
          ]
        }
      ]
    },
    {
      "cell_type": "code",
      "source": [
        "# Protected\n",
        "class Vehicle:\n",
        "  def __init__(self, name):\n",
        "    self._name = name\n",
        "  def details(self):\n",
        "    print(\" name of car is \", self._name)\n",
        "v = Vehicle(\"Toyota\")\n",
        "v.details()"
      ],
      "metadata": {
        "colab": {
          "base_uri": "https://localhost:8080/"
        },
        "id": "aFuIMcWJO8Br",
        "outputId": "aec92c99-cec0-4ffe-b63e-30c695b1dfa0"
      },
      "execution_count": null,
      "outputs": [
        {
          "output_type": "stream",
          "name": "stdout",
          "text": [
            " name of car is  Toyota\n"
          ]
        }
      ]
    },
    {
      "cell_type": "code",
      "source": [
        "v.name"
      ],
      "metadata": {
        "colab": {
          "base_uri": "https://localhost:8080/",
          "height": 146
        },
        "id": "JNCqL79bPJWj",
        "outputId": "473b8ac9-d56d-49b9-ecf0-bfd6363c06d0"
      },
      "execution_count": null,
      "outputs": [
        {
          "output_type": "error",
          "ename": "AttributeError",
          "evalue": "'Vehicle' object has no attribute 'name'",
          "traceback": [
            "\u001b[0;31m---------------------------------------------------------------------------\u001b[0m",
            "\u001b[0;31mAttributeError\u001b[0m                            Traceback (most recent call last)",
            "\u001b[0;32m<ipython-input-50-eca9e9f8cd18>\u001b[0m in \u001b[0;36m<cell line: 1>\u001b[0;34m()\u001b[0m\n\u001b[0;32m----> 1\u001b[0;31m \u001b[0mv\u001b[0m\u001b[0;34m.\u001b[0m\u001b[0mname\u001b[0m\u001b[0;34m\u001b[0m\u001b[0;34m\u001b[0m\u001b[0m\n\u001b[0m",
            "\u001b[0;31mAttributeError\u001b[0m: 'Vehicle' object has no attribute 'name'"
          ]
        }
      ]
    },
    {
      "cell_type": "code",
      "source": [
        "v._name"
      ],
      "metadata": {
        "colab": {
          "base_uri": "https://localhost:8080/",
          "height": 36
        },
        "id": "u_6hd9o5PMos",
        "outputId": "6e2af4d0-a0c0-4fa0-ab60-fcd9f5133eca"
      },
      "execution_count": null,
      "outputs": [
        {
          "output_type": "execute_result",
          "data": {
            "text/plain": [
              "'Toyota'"
            ],
            "application/vnd.google.colaboratory.intrinsic+json": {
              "type": "string"
            }
          },
          "metadata": {},
          "execution_count": 51
        }
      ]
    },
    {
      "cell_type": "code",
      "source": [
        "v._name = \"suzuki\""
      ],
      "metadata": {
        "id": "l0XIGULvPOLV"
      },
      "execution_count": null,
      "outputs": []
    },
    {
      "cell_type": "code",
      "source": [
        "v.details()"
      ],
      "metadata": {
        "colab": {
          "base_uri": "https://localhost:8080/"
        },
        "id": "y75RQFWEPRo4",
        "outputId": "49f76455-bb99-466b-ce1a-82ea3bd671e1"
      },
      "execution_count": null,
      "outputs": [
        {
          "output_type": "stream",
          "name": "stdout",
          "text": [
            " name of car is  suzuki\n"
          ]
        }
      ]
    },
    {
      "cell_type": "markdown",
      "source": [
        "6. Describe the five types of inheritance in Python. Provide a simple example of multiple inheritanc"
      ],
      "metadata": {
        "id": "yk5OXL2TPlUP"
      }
    },
    {
      "cell_type": "code",
      "source": [
        "# Inheritance : It is process of inheriting the properties of parent class to child class\n",
        "# Multilevel : It is process of inheriting the properties of first class to second class, then from second class to third class\n",
        "# multiple :It is process of inheriting the properties of 2 parent class to sinlge child class\n",
        "# hieararchy :It is process of inheriting the properties of single parent class to 2 child class\n",
        "# hybrid : It is process of inheriting the properties of parent class to 2 child class, combining both child classes to further single subclass"
      ],
      "metadata": {
        "id": "v_JfLoPBPS0I"
      },
      "execution_count": null,
      "outputs": []
    },
    {
      "cell_type": "code",
      "source": [
        "# Multiple inheritance:\n",
        "class Father:\n",
        "  def details(self):\n",
        "    print(\"parent father class\")\n",
        "class Mother:\n",
        "  def details(self):\n",
        "    print(\"parent mother class\")\n",
        "\n",
        "class Child(Father, Mother):\n",
        "  def Cdetails(self):\n",
        "    print(\"child class\")\n",
        "\n",
        "c = Child()\n",
        "c.details()   # When both father and mother has same method, then diamond problem occurs,\n",
        "            #   which can be solved by MRO. It takes that method first, depending on which parent class is first"
      ],
      "metadata": {
        "id": "shJoLyjXQGIS",
        "colab": {
          "base_uri": "https://localhost:8080/"
        },
        "outputId": "d37a7d75-27ba-4417-cfcd-592a7bcdf15f"
      },
      "execution_count": 65,
      "outputs": [
        {
          "output_type": "stream",
          "name": "stdout",
          "text": [
            "parent father class\n"
          ]
        }
      ]
    },
    {
      "cell_type": "markdown",
      "source": [
        "7. What is the Method Resolution Order (MRO) in Python? How can you retrieve it programmatically"
      ],
      "metadata": {
        "id": "cN_EPK4CTt_c"
      }
    },
    {
      "cell_type": "code",
      "source": [
        "# When both father and mother has same method, then diamond problem occurs,\n",
        "#   which can be solved by MRO. It takes that method first, depending on which parent class is first\n",
        "\n",
        "# Multiple inheritance:\n",
        "class Father:\n",
        "  def details(self):\n",
        "    print(\"parent father class\")\n",
        "class Mother:\n",
        "  def details(self):\n",
        "    print(\"parent mother class\")\n",
        "\n",
        "class Child(Father, Mother):\n",
        "  def Cdetails(self):\n",
        "    print(\"child class\")\n",
        "\n",
        "c = Child()\n",
        "c.details()   #Here Father parent is given first so it picks up that first\n",
        ""
      ],
      "metadata": {
        "id": "tLCFUU7GRyEI",
        "colab": {
          "base_uri": "https://localhost:8080/"
        },
        "outputId": "f87d1d5b-4068-486e-842b-a162289bbcef"
      },
      "execution_count": 66,
      "outputs": [
        {
          "output_type": "stream",
          "name": "stdout",
          "text": [
            "parent father class\n"
          ]
        }
      ]
    },
    {
      "cell_type": "markdown",
      "source": [
        "8. Create an abstract base class `Shape` with an abstract method `area()`. Then create two subclasses\n",
        "`Circle` and `Rectangle` that implement the `area()` method"
      ],
      "metadata": {
        "id": "pQ8b_WFNT-jW"
      }
    },
    {
      "cell_type": "code",
      "source": [
        "import abc\n",
        "class Shape:\n",
        "  @abc.abstractmethod\n",
        "  def area():\n",
        "    print(\"display area\")"
      ],
      "metadata": {
        "id": "bMX-dJezT8-2"
      },
      "execution_count": 67,
      "outputs": []
    },
    {
      "cell_type": "code",
      "source": [
        "class Circle:\n",
        "  def area(self,radius):\n",
        "    print(\"area of circle\", 3.14 * radius * radius)\n",
        "class Rectangle:\n",
        "  def area(self,length,breadth):\n",
        "    print(\"area of rectangle\",length * breadth)"
      ],
      "metadata": {
        "id": "TQIkDiAUUYMW"
      },
      "execution_count": 68,
      "outputs": []
    },
    {
      "cell_type": "code",
      "source": [
        "c = Circle()\n",
        "c.area(5)"
      ],
      "metadata": {
        "colab": {
          "base_uri": "https://localhost:8080/"
        },
        "id": "O7uqXjboU6Kg",
        "outputId": "1ef61e37-9773-45a2-a504-8b5cd3fc74fb"
      },
      "execution_count": 69,
      "outputs": [
        {
          "output_type": "stream",
          "name": "stdout",
          "text": [
            "area of circle 78.5\n"
          ]
        }
      ]
    },
    {
      "cell_type": "code",
      "source": [
        "r = Rectangle()\n",
        "r.area(5,6)"
      ],
      "metadata": {
        "colab": {
          "base_uri": "https://localhost:8080/"
        },
        "id": "vJEXkrovU7rt",
        "outputId": "e4a45068-6518-4b41-bf52-6aab0f6d749a"
      },
      "execution_count": 70,
      "outputs": [
        {
          "output_type": "stream",
          "name": "stdout",
          "text": [
            "area of rectangle 30\n"
          ]
        }
      ]
    },
    {
      "cell_type": "markdown",
      "source": [
        "9. Demonstrate polymorphism by creating a function that can work with different shape objects to calculate\n",
        "and print their areas"
      ],
      "metadata": {
        "id": "9SF6QddLVDEO"
      }
    },
    {
      "cell_type": "code",
      "source": [
        "def area(shape,*args):\n",
        "  if shape.upper() == \"CIRCLE\":\n",
        "    print(\"shape of circle is\",3.14 *args[0] * args[0])\n",
        "  elif shape.upper() ==  \"RECTANGLE\":\n",
        "    print(\"area of rectangle is:\", args[0] * args[1])\n",
        "  else:\n",
        "    print(\"invalid shape\")"
      ],
      "metadata": {
        "id": "8-mMSM5UVAcA"
      },
      "execution_count": 74,
      "outputs": []
    },
    {
      "cell_type": "code",
      "source": [
        "area(\"circle\",5)"
      ],
      "metadata": {
        "colab": {
          "base_uri": "https://localhost:8080/"
        },
        "id": "kDB_qfigWBju",
        "outputId": "0f9bbc1c-e141-4b9b-e7cd-ce47ff97fbe9"
      },
      "execution_count": 75,
      "outputs": [
        {
          "output_type": "stream",
          "name": "stdout",
          "text": [
            "shape of circle is 78.5\n"
          ]
        }
      ]
    },
    {
      "cell_type": "code",
      "source": [
        "area(\"traingle\",3,4,5)"
      ],
      "metadata": {
        "colab": {
          "base_uri": "https://localhost:8080/"
        },
        "id": "pfM8lqT3WHoj",
        "outputId": "0dc0d1bf-0f41-456f-b97b-84dcf2ad855a"
      },
      "execution_count": 76,
      "outputs": [
        {
          "output_type": "stream",
          "name": "stdout",
          "text": [
            "invalid shape\n"
          ]
        }
      ]
    },
    {
      "cell_type": "markdown",
      "source": [
        "10. Implement encapsulation in a `BankAccount` class with private attributes for `balance` and\n",
        "`account_number`. Include methods for deposit, withdrawal, and balance inquiry."
      ],
      "metadata": {
        "id": "QxSjeeV-WO7x"
      }
    },
    {
      "cell_type": "code",
      "source": [
        "class BankAccount:\n",
        "  def __init__(self,balance,account_number):\n",
        "    self.__balance = balance\n",
        "    self.__account_number = account_number\n",
        "  def deposit(self,amount):\n",
        "    self.__balance = self.__balance + amount\n",
        "    print(\" the avaliable balance after deposit\",self.__balance)\n",
        "  def withdrawal(self,amount):\n",
        "    self.__balance = self.__balance - amount\n",
        "    print(\"the avaliable balance after withdraw\",self.__balance)\n",
        "  def balance_inquiry(self):\n",
        "    print(\"the avaliable balance is\", self.__balance)"
      ],
      "metadata": {
        "id": "ebjKSoH2WLS2"
      },
      "execution_count": 83,
      "outputs": []
    },
    {
      "cell_type": "code",
      "source": [
        "b1 = BankAccount(1000,123456789)"
      ],
      "metadata": {
        "id": "fiH4CfY8XUeo"
      },
      "execution_count": 84,
      "outputs": []
    },
    {
      "cell_type": "code",
      "source": [
        "b1.balance_inquiry()"
      ],
      "metadata": {
        "colab": {
          "base_uri": "https://localhost:8080/"
        },
        "id": "s5zttd4FXfTV",
        "outputId": "8777de8e-c5f0-4beb-dc44-e9b80e403e75"
      },
      "execution_count": 85,
      "outputs": [
        {
          "output_type": "stream",
          "name": "stdout",
          "text": [
            "the avaliable balance is 1000\n"
          ]
        }
      ]
    },
    {
      "cell_type": "code",
      "source": [
        "b1.deposit(200)"
      ],
      "metadata": {
        "colab": {
          "base_uri": "https://localhost:8080/"
        },
        "id": "SYjn5grfXYWp",
        "outputId": "e8ea777a-bb2b-4958-8e86-94aa1f940e97"
      },
      "execution_count": 86,
      "outputs": [
        {
          "output_type": "stream",
          "name": "stdout",
          "text": [
            " the avaliable balance after deposit 1200\n"
          ]
        }
      ]
    },
    {
      "cell_type": "code",
      "source": [
        "b1.withdrawal(200)"
      ],
      "metadata": {
        "colab": {
          "base_uri": "https://localhost:8080/"
        },
        "id": "ZPyV_ZNjXaXC",
        "outputId": "0a57f05d-4481-4b9f-cd8f-78a923e4eab1"
      },
      "execution_count": 87,
      "outputs": [
        {
          "output_type": "stream",
          "name": "stdout",
          "text": [
            "the avaliable balance after withdraw 1000\n"
          ]
        }
      ]
    },
    {
      "cell_type": "markdown",
      "source": [
        "11. Write a class that overrides the `__str__` and `__add__` magic methods. What will these methods allow\n",
        "you to do"
      ],
      "metadata": {
        "id": "_8WzM3L7Xr2y"
      }
    },
    {
      "cell_type": "code",
      "source": [
        "class Vehicle:\n",
        "\n",
        "  def __str__(self):\n",
        "    return \"this is str method\"\n",
        "  def __init__(self):\n",
        "    print(\" theis is self method\")"
      ],
      "metadata": {
        "id": "dOG_N-mUXoNx"
      },
      "execution_count": 111,
      "outputs": []
    },
    {
      "cell_type": "code",
      "source": [
        "Vehicle()"
      ],
      "metadata": {
        "colab": {
          "base_uri": "https://localhost:8080/"
        },
        "id": "LjSBrcz1X_6J",
        "outputId": "9ff9a91e-4e47-439b-d281-b0b611d05662"
      },
      "execution_count": 112,
      "outputs": [
        {
          "output_type": "stream",
          "name": "stdout",
          "text": [
            " theis is self method\n"
          ]
        },
        {
          "output_type": "execute_result",
          "data": {
            "text/plain": [
              "<__main__.Vehicle at 0x7d7d45d6bdc0>"
            ]
          },
          "metadata": {},
          "execution_count": 112
        }
      ]
    },
    {
      "cell_type": "code",
      "source": [
        "v = Vehicle()"
      ],
      "metadata": {
        "colab": {
          "base_uri": "https://localhost:8080/"
        },
        "id": "YrhUn7pkYCT7",
        "outputId": "867a5f19-7414-46da-81c2-2a5c421559fd"
      },
      "execution_count": 113,
      "outputs": [
        {
          "output_type": "stream",
          "name": "stdout",
          "text": [
            " theis is self method\n"
          ]
        }
      ]
    },
    {
      "cell_type": "code",
      "source": [
        "print(Vehicle())"
      ],
      "metadata": {
        "colab": {
          "base_uri": "https://localhost:8080/"
        },
        "id": "bASxDEpjYxRT",
        "outputId": "07875534-9cdd-4f7a-e631-a0a3f148ccec"
      },
      "execution_count": 114,
      "outputs": [
        {
          "output_type": "stream",
          "name": "stdout",
          "text": [
            " theis is self method\n",
            "this is str method\n"
          ]
        }
      ]
    },
    {
      "cell_type": "code",
      "source": [
        "class Vehicle:\n",
        "  def __add__(self):\n",
        "    print(\"this is add method\")\n",
        "  def __init__(self):\n",
        "    print(\" theis is self method\")"
      ],
      "metadata": {
        "id": "1U0Ou-vPYTeG"
      },
      "execution_count": 121,
      "outputs": []
    },
    {
      "cell_type": "code",
      "source": [
        "Vehicle()"
      ],
      "metadata": {
        "colab": {
          "base_uri": "https://localhost:8080/"
        },
        "id": "8ZCApaOJYYg3",
        "outputId": "6c8b7216-4c1d-4e3b-f049-e92fb0ecf75f"
      },
      "execution_count": 122,
      "outputs": [
        {
          "output_type": "stream",
          "name": "stdout",
          "text": [
            " theis is self method\n"
          ]
        },
        {
          "output_type": "execute_result",
          "data": {
            "text/plain": [
              "<__main__.Vehicle at 0x7d7d462fc250>"
            ]
          },
          "metadata": {},
          "execution_count": 122
        }
      ]
    },
    {
      "cell_type": "code",
      "source": [
        "print(Vehicle())"
      ],
      "metadata": {
        "colab": {
          "base_uri": "https://localhost:8080/"
        },
        "id": "JuaStAiwYbkf",
        "outputId": "f554193d-98d4-4566-8408-c4717220558e"
      },
      "execution_count": 123,
      "outputs": [
        {
          "output_type": "stream",
          "name": "stdout",
          "text": [
            " theis is self method\n",
            "<__main__.Vehicle object at 0x7d7d462fde40>\n"
          ]
        }
      ]
    },
    {
      "cell_type": "markdown",
      "source": [
        "12. Create a decorator that measures and prints the execution time of a function"
      ],
      "metadata": {
        "id": "Uj_y0SiOZU2S"
      }
    },
    {
      "cell_type": "code",
      "source": [
        "import time\n",
        "class My_decorator:\n",
        "  def __init__(self,func):\n",
        "    self.func = func\n",
        "  def __call__(self):\n",
        "    start = time.time()\n",
        "    self.func()\n",
        "    end = time.time()\n",
        "    print(\"execution time is\",end-start)"
      ],
      "metadata": {
        "id": "P-On8z2VZKOD"
      },
      "execution_count": 136,
      "outputs": []
    },
    {
      "cell_type": "code",
      "source": [
        "@My_decorator\n",
        "def addnumbers():\n",
        "    print(\"add of no\",5+3)"
      ],
      "metadata": {
        "id": "Nqxr9cUvanJ4"
      },
      "execution_count": 137,
      "outputs": []
    },
    {
      "cell_type": "code",
      "source": [
        "addnumbers()"
      ],
      "metadata": {
        "colab": {
          "base_uri": "https://localhost:8080/"
        },
        "id": "tuEQ6FBKcYh_",
        "outputId": "a15eebaf-cea4-476f-8495-1a51dd104d26"
      },
      "execution_count": 138,
      "outputs": [
        {
          "output_type": "stream",
          "name": "stdout",
          "text": [
            "add of no 8\n",
            "execution time is 0.0010516643524169922\n"
          ]
        }
      ]
    },
    {
      "cell_type": "code",
      "source": [
        "def mydecorator(func):\n",
        "  def wrapper():\n",
        "    start = time.time()\n",
        "    func()\n",
        "    end = time.time()\n",
        "    print(\"execution time is\",end-start)\n",
        "  return wrapper"
      ],
      "metadata": {
        "id": "WcFdt-2fcaBK"
      },
      "execution_count": 143,
      "outputs": []
    },
    {
      "cell_type": "code",
      "source": [
        "@mydecorator\n",
        "def addnumber():\n",
        "  print(\"add\",5+3)\n",
        "addnumber()"
      ],
      "metadata": {
        "colab": {
          "base_uri": "https://localhost:8080/"
        },
        "id": "G3dEtBbyc9-9",
        "outputId": "d884cfc3-bf32-4a64-e977-69414835f4a0"
      },
      "execution_count": 144,
      "outputs": [
        {
          "output_type": "stream",
          "name": "stdout",
          "text": [
            "add 8\n",
            "execution time is 0.0017495155334472656\n"
          ]
        }
      ]
    },
    {
      "cell_type": "markdown",
      "source": [
        "13. Explain the concept of the Diamond Problem in multiple inheritance. How does Python resolve it"
      ],
      "metadata": {
        "id": "SXyr71ZAdmA9"
      }
    },
    {
      "cell_type": "code",
      "source": [
        "# When both father and mother has same method, then diamond problem occurs,\n",
        "#   which can be solved by MRO. It takes that method first, depending on which parent class is first\n",
        "# Python simply conside the MRO process and goes according to it\n",
        "\n",
        "\n",
        "# Multiple inheritance:\n",
        "class Father:\n",
        "  def details(self):\n",
        "    print(\"parent father class\")\n",
        "class Mother:\n",
        "  def details(self):\n",
        "    print(\"parent mother class\")\n",
        "\n",
        "class Child(Father, Mother):\n",
        "  def Cdetails(self):\n",
        "    print(\"child class\")\n",
        "\n",
        "c = Child()\n",
        "c.details()   #Here Father parent is given first so it picks up that first\n",
        ""
      ],
      "metadata": {
        "colab": {
          "base_uri": "https://localhost:8080/"
        },
        "id": "fHpR_o_SdFYy",
        "outputId": "b91544dd-3b82-4047-a2e9-d2ec4522fb75"
      },
      "execution_count": 146,
      "outputs": [
        {
          "output_type": "stream",
          "name": "stdout",
          "text": [
            "parent father class\n"
          ]
        }
      ]
    },
    {
      "cell_type": "markdown",
      "source": [
        "14. Write a class method that keeps track of the number of instances created from a class"
      ],
      "metadata": {
        "id": "gWXJ-V0Sd0qJ"
      }
    },
    {
      "cell_type": "code",
      "source": [
        "class Mainclass:\n",
        "  total_object = 0\n",
        "  def __init__(self):\n",
        "    print(\"this is init method\")\n",
        "\n",
        "  @classmethod\n",
        "  def cal(cls):\n",
        "    Mainclass.total_object = Mainclass.total_object + 1\n",
        "\n",
        "    print(\"this is class method\",Mainclass.total_object)"
      ],
      "metadata": {
        "id": "_i5T3EaJdt5C"
      },
      "execution_count": 147,
      "outputs": []
    },
    {
      "cell_type": "code",
      "source": [
        "m = Mainclass()"
      ],
      "metadata": {
        "colab": {
          "base_uri": "https://localhost:8080/"
        },
        "id": "aIlMe1A_essl",
        "outputId": "67a6357d-3a1e-41f4-c4a3-0b58d96bbcc7"
      },
      "execution_count": 148,
      "outputs": [
        {
          "output_type": "stream",
          "name": "stdout",
          "text": [
            "this is init method\n"
          ]
        }
      ]
    },
    {
      "cell_type": "code",
      "source": [
        "Mainclass.cal()"
      ],
      "metadata": {
        "colab": {
          "base_uri": "https://localhost:8080/"
        },
        "id": "kMEx9c9aevDe",
        "outputId": "70fd489e-27d6-48f3-d885-f24186870fe6"
      },
      "execution_count": 150,
      "outputs": [
        {
          "output_type": "stream",
          "name": "stdout",
          "text": [
            "this is class method 1\n"
          ]
        }
      ]
    },
    {
      "cell_type": "code",
      "source": [
        "m1 = Mainclass()"
      ],
      "metadata": {
        "colab": {
          "base_uri": "https://localhost:8080/"
        },
        "id": "9s3lLG0uexXe",
        "outputId": "b7a6e911-56cc-4acc-ae52-623fd53db1f7"
      },
      "execution_count": 151,
      "outputs": [
        {
          "output_type": "stream",
          "name": "stdout",
          "text": [
            "this is init method\n"
          ]
        }
      ]
    },
    {
      "cell_type": "code",
      "source": [
        "Mainclass.cal()"
      ],
      "metadata": {
        "colab": {
          "base_uri": "https://localhost:8080/"
        },
        "id": "95B2UATne3GV",
        "outputId": "d1d1a037-ef0f-4338-9c72-424d67908a2d"
      },
      "execution_count": 152,
      "outputs": [
        {
          "output_type": "stream",
          "name": "stdout",
          "text": [
            "this is class method 2\n"
          ]
        }
      ]
    },
    {
      "cell_type": "code",
      "source": [
        "m3 = Mainclass()"
      ],
      "metadata": {
        "colab": {
          "base_uri": "https://localhost:8080/"
        },
        "id": "l6afdLaze4za",
        "outputId": "6598392b-7733-4c11-87fe-a8f4f8c5da4f"
      },
      "execution_count": 153,
      "outputs": [
        {
          "output_type": "stream",
          "name": "stdout",
          "text": [
            "this is init method\n"
          ]
        }
      ]
    },
    {
      "cell_type": "code",
      "source": [
        "Mainclass.cal()"
      ],
      "metadata": {
        "colab": {
          "base_uri": "https://localhost:8080/"
        },
        "id": "S6A1504Oe8SO",
        "outputId": "5dedec85-6656-4491-e659-8ee3082d58be"
      },
      "execution_count": 154,
      "outputs": [
        {
          "output_type": "stream",
          "name": "stdout",
          "text": [
            "this is class method 3\n"
          ]
        }
      ]
    },
    {
      "cell_type": "markdown",
      "source": [
        "15. Implement a static method in a class that checks if a given year is a leap year"
      ],
      "metadata": {
        "id": "ZyFPPWDZfChx"
      }
    },
    {
      "cell_type": "code",
      "source": [
        "class Leap:\n",
        "  def __init__(self,year):\n",
        "    self.year = year\n",
        "\n",
        "  @staticmethod\n",
        "  def leapyear(year):\n",
        "    if year % 4 == 0:\n",
        "      print(\"leap year\")\n",
        "    else:\n",
        "      print(\"not a leap year\")"
      ],
      "metadata": {
        "id": "abYiqvhge-l-"
      },
      "execution_count": 161,
      "outputs": []
    },
    {
      "cell_type": "code",
      "source": [
        "Leap.leapyear(2020)"
      ],
      "metadata": {
        "colab": {
          "base_uri": "https://localhost:8080/"
        },
        "id": "VM8-sX8LfSD0",
        "outputId": "f219b633-a79f-4042-9b90-db3fe67329aa"
      },
      "execution_count": 163,
      "outputs": [
        {
          "output_type": "stream",
          "name": "stdout",
          "text": [
            "leap year\n"
          ]
        }
      ]
    },
    {
      "cell_type": "code",
      "source": [
        "Leap.leapyear(2021)"
      ],
      "metadata": {
        "colab": {
          "base_uri": "https://localhost:8080/"
        },
        "id": "X93OLlw_fXQ4",
        "outputId": "2881dcad-ed48-446e-deff-af8a43c90b87"
      },
      "execution_count": 164,
      "outputs": [
        {
          "output_type": "stream",
          "name": "stdout",
          "text": [
            "not a leap year\n"
          ]
        }
      ]
    },
    {
      "cell_type": "code",
      "source": [],
      "metadata": {
        "id": "zYJMuk6XfsWr"
      },
      "execution_count": null,
      "outputs": []
    }
  ]
}