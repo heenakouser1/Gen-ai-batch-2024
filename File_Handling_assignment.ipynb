{
  "nbformat": 4,
  "nbformat_minor": 0,
  "metadata": {
    "colab": {
      "provenance": [],
      "include_colab_link": true
    },
    "kernelspec": {
      "name": "python3",
      "display_name": "Python 3"
    },
    "language_info": {
      "name": "python"
    }
  },
  "cells": [
    {
      "cell_type": "markdown",
      "metadata": {
        "id": "view-in-github",
        "colab_type": "text"
      },
      "source": [
        "<a href=\"https://colab.research.google.com/github/heenakouser1/Gen-ai-batch-2024/blob/main/File_Handling_assignment.ipynb\" target=\"_parent\"><img src=\"https://colab.research.google.com/assets/colab-badge.svg\" alt=\"Open In Colab\"/></a>"
      ]
    },
    {
      "cell_type": "markdown",
      "source": [
        "1. What is the difference between interpreted and compiled languages"
      ],
      "metadata": {
        "id": "bF6sgHZzIOzS"
      }
    },
    {
      "cell_type": "markdown",
      "source": [
        "Complied language:\n",
        "A compiled language is a programming language whose implementations are typically compilers and not interpreters.\n",
        "In this language, once the program is compiled it is expressed in the instructions of the target machine.\n",
        "There are at least two steps to get from source code to execution.\n",
        "In this language, compiled programs run faster than interpreted programs.\n",
        "In this language, compilation errors prevent the code from compiling.\n",
        "The code of compiled language can be executed directly by the computer CPU.\n",
        "This language delivers better performance.\n",
        "Example of compiled language – C, C++, C#, CLEO, COBOL, etc.\n",
        "\n",
        "Interpreted Language:\n",
        "An interpreted language is a programming language whose implementations execute instructions\n",
        "directly and freely, without previously compiling a program into machine-language instructions.\n",
        "While in this language, the instructions are not directly executed by the target machine.\n",
        "There is only one step to get from source code to execution.\n",
        "While in this language, interpreted programs can be modified while the program is running.\n",
        "In this languages, all the debugging occurs at run-time."
      ],
      "metadata": {
        "id": "frEOD4kZJMVy"
      }
    },
    {
      "cell_type": "markdown",
      "source": [
        "2. What is exception handling in Python"
      ],
      "metadata": {
        "id": "NW2XnhmGJPKh"
      }
    },
    {
      "cell_type": "markdown",
      "source": [
        "Error in Python can be of two types i.e. Syntax errors and Exceptions. Errors are problems in a program due to which the program will stop the execution. On the other hand, exceptions are raised when some internal events occur which change the normal flow of the program."
      ],
      "metadata": {
        "id": "1R7KIINCJc9p"
      }
    },
    {
      "cell_type": "markdown",
      "source": [
        "3 What is the purpose of the finally block in exception handling"
      ],
      "metadata": {
        "id": "jpadMO8LJm3j"
      }
    },
    {
      "cell_type": "markdown",
      "source": [
        "It is used to execute code after the try-catch blocks, regardless of whether an exception occurred. Purpose: Perform cleanup operations, such as closing files, releasing memory, or disconnecting from a database."
      ],
      "metadata": {
        "id": "bZEpm2giJm6K"
      }
    },
    {
      "cell_type": "markdown",
      "source": [
        "4 What is logging in Python"
      ],
      "metadata": {
        "id": "RJr4pIasJm82"
      }
    },
    {
      "cell_type": "markdown",
      "source": [
        "Logging is a means of tracking events that happen when some software runs. Logging is important for software developing, debugging, and running. If you don’t have any logging record and your program crashes, there are very few chances that you detect the cause of the problem. And if you detect the cause, it will consume a lot of time. With logging, you can leave a trail of breadcrumbs so that if something goes wrong, we can determine the cause of the problem."
      ],
      "metadata": {
        "id": "B0u8hbamJm_l"
      }
    },
    {
      "cell_type": "markdown",
      "source": [
        "5 What is the significance of the __del__ method in Python"
      ],
      "metadata": {
        "id": "a-AlayAGJnCL"
      }
    },
    {
      "cell_type": "markdown",
      "source": [
        "The __del__ method helps ensure that resources such as file handles, network connections, and database connections are released automatically when an object is destroyed. This can prevent resource leaks and enhance the stability of your applications."
      ],
      "metadata": {
        "id": "hu_ffVJzJnE4"
      }
    },
    {
      "cell_type": "markdown",
      "source": [
        "6 What is the difference between import and from ... import in Python"
      ],
      "metadata": {
        "id": "4l0cC5OhJnHj"
      }
    },
    {
      "cell_type": "markdown",
      "source": [
        " import imports an entire code library. from import imports a specific member or members of the library"
      ],
      "metadata": {
        "id": "F5vlY7Q9JnKl"
      }
    },
    {
      "cell_type": "markdown",
      "source": [
        "7 How can you handle multiple exceptions in Python0"
      ],
      "metadata": {
        "id": "LEQJO_k3JnMx"
      }
    },
    {
      "cell_type": "markdown",
      "source": [
        "Given a piece of code that can throw any of several different exceptions, and one needs to account for all of the potential exceptions that could be raised without creating duplicate code or long, meandering code passages.\n",
        "\n",
        "If you can handle different exceptions all using a single block of code, they can be grouped together in a tuple"
      ],
      "metadata": {
        "id": "fIQfeuJTJnPR"
      }
    },
    {
      "cell_type": "markdown",
      "source": [
        "8 What is the purpose of the with statement when handling files in Python"
      ],
      "metadata": {
        "id": "4hxdq6wDJnR4"
      }
    },
    {
      "cell_type": "markdown",
      "source": [
        "with statement is used in exception handling to make the code cleaner and much more readable. It simplifies the management of common resources like file streams\n",
        "With statement do not need a explicitly file close statement to close the file"
      ],
      "metadata": {
        "id": "bDLyLLqpJnUi"
      }
    },
    {
      "cell_type": "markdown",
      "source": [
        "9 What is the difference between multithreading and multiprocessing0"
      ],
      "metadata": {
        "id": "iqv_zzvxJnXa"
      }
    },
    {
      "cell_type": "markdown",
      "source": [
        "Multiprocessing:\n",
        "In Multiprocessing, CPUs are added for increasing computing power.\n",
        "In Multiprocessing, Many processes are executed simultaneously.\n",
        "Multiprocessing are classified into Symmetric and Asymmetric.\n",
        "In Multiprocessing, Process creation is a time-consuming process.\n",
        "In Multiprocessing, every process owned a separate address space.\n",
        "\n",
        "Multithreading:\n",
        "While In Multithreading, many threads are created of a single process for increasing computing power.\n",
        "While in multithreading, many threads of a process are executed simultaneously.\n",
        "While Multithreading is not classified in any categories.\n",
        "While in Multithreading, process creation is according to economical.\n",
        "While in Multithreading, a common address space is shared by all the threads."
      ],
      "metadata": {
        "id": "kKu1cpo6JnaP"
      }
    },
    {
      "cell_type": "markdown",
      "source": [
        "10 What are the advantages of using logging in a program"
      ],
      "metadata": {
        "id": "-IIL44S5JndW"
      }
    },
    {
      "cell_type": "markdown",
      "source": [
        "If you don’t have any logging record and your program crashes, there are very few chances that you detect the cause of the problem. And if you detect the cause, it will consume a lot of time. With logging, you can leave a trail of breadcrumbs so that if something goes wrong, we can determine the cause of the problem."
      ],
      "metadata": {
        "id": "iGJKJvjPJngY"
      }
    },
    {
      "cell_type": "markdown",
      "source": [
        "11 What is memory management in Python"
      ],
      "metadata": {
        "id": "ZKxstQTGNarL"
      }
    },
    {
      "cell_type": "markdown",
      "source": [
        " Memory allocation can be defined as allocating a block of space in the computer memory to a program. In Python memory allocation and deallocation method is automatic as the Python developers created a garbage collector for Python so that the user does not have to do manual garbage collection."
      ],
      "metadata": {
        "id": "YYQPaKEFNaun"
      }
    },
    {
      "cell_type": "markdown",
      "source": [
        "12 What are the basic steps involved in exception handling in Python"
      ],
      "metadata": {
        "id": "e1xZukSONa3w"
      }
    },
    {
      "cell_type": "markdown",
      "source": [
        "Try and except statements:\n",
        " are used to catch and handle exceptions in Python. Statements that can raise exceptions are wrapped inside the try block and the statements that handle the exception are written inside except block.\n",
        "\n",
        "Else:\n",
        "Python, you can also use the else clause on the try-except block which must be present after all the except clauses. The code enters the else block only if the try clause does not raise an exception.\n",
        "\n",
        "Finally:\n",
        "Python provides a keyword finally, which is always executed after the try and except blocks. The final block always executes after the normal termination of the try block or after the try block terminates due to some exception. The code within the finally block is always executed.\n"
      ],
      "metadata": {
        "id": "RDffSJRWNa6j"
      }
    },
    {
      "cell_type": "markdown",
      "source": [
        "14 Why is memory management important in Python0"
      ],
      "metadata": {
        "id": "22zAqzg2Na9d"
      }
    },
    {
      "cell_type": "markdown",
      "source": [
        "Understanding Memory allocation is important to any software developer as writing efficient code means writing a memory-efficient code. Memory allocation can be defined as allocating a block of space in the computer memory to a program. In Python memory allocation and deallocation method is automatic as the Python developers created a garbage collector for Python so that the user does not have to do manual garbage collection."
      ],
      "metadata": {
        "id": "BhVephhbNbAF"
      }
    },
    {
      "cell_type": "markdown",
      "source": [
        "15 What is the role of try and except in exception handling"
      ],
      "metadata": {
        "id": "BJVQrIBKNbC_"
      }
    },
    {
      "cell_type": "markdown",
      "source": [
        "Try and except statements: are used to catch and handle exceptions in Python. Statements that can raise exceptions are wrapped inside the try block and the statements that handle the exception are written inside except block."
      ],
      "metadata": {
        "id": "UXOVTfQONbGT"
      }
    },
    {
      "cell_type": "markdown",
      "source": [
        "16 How does Python's garbage collection system work"
      ],
      "metadata": {
        "id": "KhIhdPJAPw0Y"
      }
    },
    {
      "cell_type": "markdown",
      "source": [
        "Garbage collection is Python’s way of automatically managing memory, ensuring that your applications runs smoothly by freeing up memory that is no longer in use. In simpler terms, it is like having an invisible janitor who cleans up after your code, disposing of objects that are no longer needed."
      ],
      "metadata": {
        "id": "g4h1VVIvPw3C"
      }
    },
    {
      "cell_type": "markdown",
      "source": [
        "17 What is the purpose of the else block in exception handling"
      ],
      "metadata": {
        "id": "q_eOeBVtPw6A"
      }
    },
    {
      "cell_type": "markdown",
      "source": [
        "Else: Python, you can also use the else clause on the try-except block which must be present after all the except clauses. The code enters the else block only if the try clause does not raise an exception."
      ],
      "metadata": {
        "id": "rxbb69DLPw8m"
      }
    },
    {
      "cell_type": "markdown",
      "source": [
        "17 What are the common logging levels in Python"
      ],
      "metadata": {
        "id": "dYK_VeF7Pw_F"
      }
    },
    {
      "cell_type": "markdown",
      "source": [
        "Logging levels:\n",
        "NOSET,\n",
        "DEBUG,\n",
        "INFO,\n",
        "WARNING,\n",
        "ERROR,\n",
        "CRITICAL"
      ],
      "metadata": {
        "id": "BAlUv67hPxB8"
      }
    },
    {
      "cell_type": "markdown",
      "source": [
        "18 What is the difference between os.fork() and multiprocessing in Python"
      ],
      "metadata": {
        "id": "Ts9li5QLPxEo"
      }
    },
    {
      "cell_type": "markdown",
      "source": [
        "The only real difference between the os.fork and multiprocessing.Process has portability and library overhead, since os.fork is not supported in windows. multiprocessing framework is included to make multiprocessing p\n",
        "rocess work."
      ],
      "metadata": {
        "id": "u2h68GkLPxHF"
      }
    },
    {
      "cell_type": "markdown",
      "source": [
        "19 What is the importance of closing a file in Python"
      ],
      "metadata": {
        "id": "PXUv4F72PxKj"
      }
    },
    {
      "cell_type": "markdown",
      "source": [
        "It simplifies the management of common resources like file streams"
      ],
      "metadata": {
        "id": "dtZsK_VmRaa_"
      }
    },
    {
      "cell_type": "markdown",
      "source": [
        "20 What is the difference between file.read() and file.readline() in Python"
      ],
      "metadata": {
        "id": "Bvb10ExeRadt"
      }
    },
    {
      "cell_type": "markdown",
      "source": [
        "The `read ()` method will read the entire content of the file or stream if no argument is provided, returning a string. On the other hand, the `readline ()` method reads a single line up to the newline character (`n`) and returns it as a string."
      ],
      "metadata": {
        "id": "NBgEwyZ1Rag6"
      }
    },
    {
      "cell_type": "markdown",
      "source": [
        "21 What is the logging module in Python used for"
      ],
      "metadata": {
        "id": "6yS6raD_Raj4"
      }
    },
    {
      "cell_type": "markdown",
      "source": [
        "Logging in Python lets you record important information about your program’s execution. You use the built-in logging module to capture logs, which provide insights into application flow, errors, and usage patterns. With Python logging, you can create and configure loggers, set log levels, and format log messages without installing additional packages. You can also generate log files to store records for later analysis."
      ],
      "metadata": {
        "id": "4y9pKq5QRal9"
      }
    },
    {
      "cell_type": "markdown",
      "source": [
        "22 What is the os module in Python used for in file handling0"
      ],
      "metadata": {
        "id": "BRYiwmjrRao2"
      }
    },
    {
      "cell_type": "markdown",
      "source": [
        "Handling the Current Working Directory,\n",
        "Creating a Directory,\n",
        "Listing out Files and Directories with Python,\n",
        "Deleting Directory or Files using Python"
      ],
      "metadata": {
        "id": "A69tE2tARaro"
      }
    },
    {
      "cell_type": "markdown",
      "source": [
        "23 What are the challenges associated with memory management in Python"
      ],
      "metadata": {
        "id": "w2F3vZtoRavH"
      }
    },
    {
      "cell_type": "markdown",
      "source": [
        "Fragmentation,\n",
        "Memory leaks"
      ],
      "metadata": {
        "id": "Wx860lEQS9eh"
      }
    },
    {
      "cell_type": "markdown",
      "source": [
        "24 How do you raise an exception manually in Python"
      ],
      "metadata": {
        "id": "RTMAgr1yS9iV"
      }
    },
    {
      "cell_type": "code",
      "source": [
        "# custom exception: raise the exception at user end\n",
        "def sq(n):\n",
        "  raise square(n*n)\n",
        "\n",
        "\n",
        "class square(Exception):\n",
        "  def __init__(self,n):\n",
        "    self.n = n\n",
        "    super().__init__(f\"value is {n}\")\n",
        "\n",
        "\n",
        "try:\n",
        "  sq(5)\n",
        "except Exception as e:\n",
        "  print(e)"
      ],
      "metadata": {
        "colab": {
          "base_uri": "https://localhost:8080/"
        },
        "id": "sWPwoaspUSuI",
        "outputId": "23c834bf-9f37-4468-89f1-f4eaf62ff74a"
      },
      "execution_count": null,
      "outputs": [
        {
          "output_type": "stream",
          "name": "stdout",
          "text": [
            "value is 25\n"
          ]
        }
      ]
    },
    {
      "cell_type": "markdown",
      "source": [
        "25 Why is it important to use multithreading in certain applications"
      ],
      "metadata": {
        "id": "ab_IPRlfS9lW"
      }
    },
    {
      "cell_type": "markdown",
      "source": [
        "Multithreading is a crucial concept in modern computing that allows multiple threads to execute concurrently, enabling more efficient utilization of system resources. By breaking down tasks into smaller threads, applications can achieve higher performance, better responsiveness, and enhanced scalability. Whether it’s handling multiple user requests or performing complex operations in parallel, multithreading is an essential technique in both single-processor and multi-processor systems. This article explores the key benefits of multithreading and how it contributes to optimizing program execution."
      ],
      "metadata": {
        "id": "K2welJZIS9os"
      }
    },
    {
      "cell_type": "markdown",
      "source": [
        "### Practical Questions"
      ],
      "metadata": {
        "id": "yt_WouLOWubp"
      }
    },
    {
      "cell_type": "markdown",
      "source": [
        "1 How can you open a file for writing in Python and write a string to it"
      ],
      "metadata": {
        "id": "8YcrHJKnW12y"
      }
    },
    {
      "cell_type": "code",
      "source": [
        "with open('f1.txt', 'w') as f:\n",
        "  f.write(\"\"\"PW Skills is the result of a continual effort to exponentially increase the employability\n",
        "              of every Indian, irrespective of their socioeconomic status. With accessibility and affordability\n",
        "              being the support structure of high-quality, industry-relevant courses, PW Skills aims to empower\n",
        "              professionals and students alike to either jumpstart\n",
        "              their careers or leverage existing skills with new, future-driven upgrades that will help them realise their full potential\"\"\")"
      ],
      "metadata": {
        "id": "zCSl6wEUS7Ai"
      },
      "execution_count": null,
      "outputs": []
    },
    {
      "cell_type": "markdown",
      "source": [
        "2 Write a Python program to read the contents of a file and print each lineF"
      ],
      "metadata": {
        "id": "MKTHFdiTrmfE"
      }
    },
    {
      "cell_type": "code",
      "source": [
        "with open('f1.txt','r') as f:\n",
        "  print(f.read())"
      ],
      "metadata": {
        "id": "qL13mYeRpQfX",
        "colab": {
          "base_uri": "https://localhost:8080/"
        },
        "outputId": "816874f6-aff9-4ec5-95e4-85422c02ba32"
      },
      "execution_count": null,
      "outputs": [
        {
          "output_type": "stream",
          "name": "stdout",
          "text": [
            "PW Skills is the result of a continual effort to exponentially increase the employability \n",
            "              of every Indian, irrespective of their socioeconomic status. With accessibility and affordability \n",
            "              being the support structure of high-quality, industry-relevant courses, PW Skills aims to empower \n",
            "              professionals and students alike to either jumpstart\n",
            "              their careers or leverage existing skills with new, future-driven upgrades that will help them realise their full potential\n"
          ]
        }
      ]
    },
    {
      "cell_type": "markdown",
      "source": [
        "3 How would you handle a case where the file doesn't exist while trying to open it for reading"
      ],
      "metadata": {
        "id": "SHztr83ns0bK"
      }
    },
    {
      "cell_type": "code",
      "source": [
        "try:\n",
        "  with open('f2.txt','r') as f:\n",
        "    print(f.read())\n",
        "except FileNotFoundError as e:\n",
        "  print(e)"
      ],
      "metadata": {
        "id": "UnW-0LHTrUqz",
        "colab": {
          "base_uri": "https://localhost:8080/"
        },
        "outputId": "3b877c4e-cd77-4d0a-febc-d47846833baf"
      },
      "execution_count": null,
      "outputs": [
        {
          "output_type": "stream",
          "name": "stdout",
          "text": [
            "[Errno 2] No such file or directory: 'f2.txt'\n"
          ]
        }
      ]
    },
    {
      "cell_type": "markdown",
      "source": [
        "4 Write a Python script that reads from one file and writes its content to another fileF"
      ],
      "metadata": {
        "id": "c8secZ-0tJU6"
      }
    },
    {
      "cell_type": "code",
      "source": [
        "try:\n",
        "  with open('f1.txt','r') as f1:\n",
        "    f1_data = f1.read()\n",
        "  with open('f2.txt','w') as f2:\n",
        "    f2.write(f1_data)\n",
        "    print(\"data to be written on f2 file: \",f1_data)\n",
        "except FileNotFoundError as e:\n",
        "  print(e)"
      ],
      "metadata": {
        "colab": {
          "base_uri": "https://localhost:8080/"
        },
        "id": "wjQTiPKqtHJX",
        "outputId": "8804921c-7a02-4e82-efea-22ac05fb9416"
      },
      "execution_count": null,
      "outputs": [
        {
          "output_type": "stream",
          "name": "stdout",
          "text": [
            "data to be written on f2 file:  PW Skills is the result of a continual effort to exponentially increase the employability \n",
            "              of every Indian, irrespective of their socioeconomic status. With accessibility and affordability \n",
            "              being the support structure of high-quality, industry-relevant courses, PW Skills aims to empower \n",
            "              professionals and students alike to either jumpstart\n",
            "              their careers or leverage existing skills with new, future-driven upgrades that will help them realise their full potential\n"
          ]
        }
      ]
    },
    {
      "cell_type": "markdown",
      "source": [
        "5How would you catch and handle division by zero error in Python\u001f"
      ],
      "metadata": {
        "id": "y3QsnpQVt_ir"
      }
    },
    {
      "cell_type": "code",
      "source": [
        "try:\n",
        "  5/0\n",
        "except ZeroDivisionError as e:\n",
        "  print(e)"
      ],
      "metadata": {
        "colab": {
          "base_uri": "https://localhost:8080/"
        },
        "id": "9rnQZwYJtoMj",
        "outputId": "0ee5bfa5-1aa1-4791-e315-2b54c7002569"
      },
      "execution_count": null,
      "outputs": [
        {
          "output_type": "stream",
          "name": "stdout",
          "text": [
            "division by zero\n"
          ]
        }
      ]
    },
    {
      "cell_type": "markdown",
      "source": [
        "6.  Write a Python program that logs an error message to a log file when a division by zero exception occursF"
      ],
      "metadata": {
        "id": "fRQDaXGNuMQ_"
      }
    },
    {
      "cell_type": "code",
      "source": [
        "import logging\n",
        "logging.basicConfig(filename = 'error.log', level = logging.ERROR)\n",
        "\n",
        "\n",
        "try:\n",
        "  5/0\n",
        "except Exception as e:\n",
        "  logging.error(f\"error is {e}\")"
      ],
      "metadata": {
        "colab": {
          "base_uri": "https://localhost:8080/"
        },
        "id": "7WKg4H01uKwr",
        "outputId": "87b56d57-0544-4d01-c6a0-58129bc9d996"
      },
      "execution_count": null,
      "outputs": [
        {
          "output_type": "stream",
          "name": "stderr",
          "text": [
            "ERROR:root:error is division by zero\n"
          ]
        }
      ]
    },
    {
      "cell_type": "markdown",
      "source": [
        "7 How do you log information at different levels (INFO, ERROR, WARNING) in Python using the logging module\u001f"
      ],
      "metadata": {
        "id": "7RmNNdYOupzs"
      }
    },
    {
      "cell_type": "code",
      "source": [
        "import logging\n",
        "logging.basicConfig(filename = 'logfile.log',level = logging.DEBUG)\n",
        "\n",
        "\n",
        "def test():\n",
        "  try:\n",
        "    if 'a' in ['a','b']:\n",
        "      print(\"yes a is there\")\n",
        "      logging.info(\"this is avaliablt to start the process\")\n",
        "      if 'c' in ['a','b']:\n",
        "        print(\"yes\")\n",
        "      else:\n",
        "        logging.error(\"this is error\")\n",
        "    else:\n",
        "      logging.warning(\"this is warning that there is no a\")\n",
        "  except Exception as e:\n",
        "    logging.error(f\"error is {e}\")\n",
        "\n",
        "\n",
        "test()"
      ],
      "metadata": {
        "colab": {
          "base_uri": "https://localhost:8080/"
        },
        "id": "c4_ifKzqutGl",
        "outputId": "f877c3d9-0629-4ebe-d0c4-cc51878ede99"
      },
      "execution_count": null,
      "outputs": [
        {
          "output_type": "stream",
          "name": "stderr",
          "text": [
            "ERROR:root:this is error\n"
          ]
        },
        {
          "output_type": "stream",
          "name": "stdout",
          "text": [
            "yes a is there\n"
          ]
        }
      ]
    },
    {
      "cell_type": "markdown",
      "source": [
        "8 Write a program to handle a file opening error using exception handling"
      ],
      "metadata": {
        "id": "FmXXUyg8yEF9"
      }
    },
    {
      "cell_type": "code",
      "source": [
        "try:\n",
        "  with open('f3.txt','r') as f:\n",
        "    print(f.read())\n",
        "except FileNotFoundError as e:\n",
        "  print(e)"
      ],
      "metadata": {
        "colab": {
          "base_uri": "https://localhost:8080/"
        },
        "id": "CB5Sv8Anu-23",
        "outputId": "117088ad-0aa2-41bb-8f0c-b3eb5fd30272"
      },
      "execution_count": null,
      "outputs": [
        {
          "output_type": "stream",
          "name": "stdout",
          "text": [
            "[Errno 2] No such file or directory: 'f3.txt'\n"
          ]
        }
      ]
    },
    {
      "cell_type": "markdown",
      "source": [
        "9. F How can you read a file line by line and store its content in a list in Python"
      ],
      "metadata": {
        "id": "n1jUhyKuyL4S"
      }
    },
    {
      "cell_type": "code",
      "source": [
        "try:\n",
        "  with open('f2.txt','r') as f:\n",
        "    list1 = f.readlines()\n",
        "    print(list1)\n",
        "except FileNotFoundError as e:\n",
        "  print(e)"
      ],
      "metadata": {
        "colab": {
          "base_uri": "https://localhost:8080/"
        },
        "id": "4lD9aXdDyKXq",
        "outputId": "6fc15a16-1925-4599-852f-b7fd6a127395"
      },
      "execution_count": null,
      "outputs": [
        {
          "output_type": "stream",
          "name": "stdout",
          "text": [
            "['PW Skills is the result of a continual effort to exponentially increase the employability \\n', '              of every Indian, irrespective of their socioeconomic status. With accessibility and affordability \\n', '              being the support structure of high-quality, industry-relevant courses, PW Skills aims to empower \\n', '              professionals and students alike to either jumpstart\\n', '              their careers or leverage existing skills with new, future-driven upgrades that will help them realise their full potential']\n"
          ]
        }
      ]
    },
    {
      "cell_type": "markdown",
      "source": [
        "10. How can you append data to an existing file in Python"
      ],
      "metadata": {
        "id": "F_VRoWiBybis"
      }
    },
    {
      "cell_type": "code",
      "source": [
        "try:\n",
        "  with open('f2.txt','a') as f:\n",
        "    f.write(\"this is appended data\")\n",
        "  with open('f2.txt','r') as f:\n",
        "    print(f.read())\n",
        "except FileNotFoundError as e:\n",
        "  print(e)"
      ],
      "metadata": {
        "colab": {
          "base_uri": "https://localhost:8080/"
        },
        "id": "KDyFJW-fyUH9",
        "outputId": "adba8490-78e6-459b-d764-b7844cd31d2c"
      },
      "execution_count": null,
      "outputs": [
        {
          "output_type": "stream",
          "name": "stdout",
          "text": [
            "PW Skills is the result of a continual effort to exponentially increase the employability \n",
            "              of every Indian, irrespective of their socioeconomic status. With accessibility and affordability \n",
            "              being the support structure of high-quality, industry-relevant courses, PW Skills aims to empower \n",
            "              professionals and students alike to either jumpstart\n",
            "              their careers or leverage existing skills with new, future-driven upgrades that will help them realise their full potentialthis is appended datathis is appended datathis is appended data\n"
          ]
        }
      ]
    },
    {
      "cell_type": "markdown",
      "source": [
        "11 Write a Python program that uses a try-except block to handle an error when attempting to access a\n",
        "dictionary key that doesn't exist"
      ],
      "metadata": {
        "id": "DCbA2Wdby66p"
      }
    },
    {
      "cell_type": "code",
      "source": [
        "try:\n",
        "  d = {'a':1,'b':2}\n",
        "  if 'c' in d.keys():\n",
        "    print(\" present\")\n",
        "except KeyError as e:\n",
        "  print(e)\n",
        "else:\n",
        "  print(\"no error\")"
      ],
      "metadata": {
        "colab": {
          "base_uri": "https://localhost:8080/"
        },
        "id": "nNzzrGLNzUOs",
        "outputId": "29761281-3a5d-48c2-d5cf-71da2a49d62e"
      },
      "execution_count": null,
      "outputs": [
        {
          "output_type": "stream",
          "name": "stdout",
          "text": [
            "no error\n"
          ]
        }
      ]
    },
    {
      "cell_type": "markdown",
      "source": [
        "12 Write a program that demonstrates using multiple except blocks to handle different types of exception"
      ],
      "metadata": {
        "id": "PgucAk0a1lHo"
      }
    },
    {
      "cell_type": "code",
      "source": [
        "try:\n",
        "  5/0\n",
        "except FileNotFoundError as e:\n",
        "  print(e)\n",
        "except ZeroDivisionError as e:\n",
        "  print(e)"
      ],
      "metadata": {
        "colab": {
          "base_uri": "https://localhost:8080/"
        },
        "id": "RrjMoOA51dnQ",
        "outputId": "3540af62-57c6-4728-d825-38622632f4ef"
      },
      "execution_count": null,
      "outputs": [
        {
          "output_type": "stream",
          "name": "stdout",
          "text": [
            "division by zero\n"
          ]
        }
      ]
    },
    {
      "cell_type": "markdown",
      "source": [
        "13 How would you check if a file exists before attempting to read it in Python\u001f"
      ],
      "metadata": {
        "id": "-WahDGAi2-iZ"
      }
    },
    {
      "cell_type": "code",
      "source": [
        "try:\n",
        "  with open('f4.txt','r') as f:\n",
        "    list1 = f.readlines()\n",
        "    print(list1)\n",
        "except FileNotFoundError as e:\n",
        "  print(e)"
      ],
      "metadata": {
        "colab": {
          "base_uri": "https://localhost:8080/"
        },
        "id": "PFJQP3Sx2AZ7",
        "outputId": "1f5d831e-25b5-4b38-9ff1-976bce5fdea1"
      },
      "execution_count": null,
      "outputs": [
        {
          "output_type": "stream",
          "name": "stdout",
          "text": [
            "[Errno 2] No such file or directory: 'f4.txt'\n"
          ]
        }
      ]
    },
    {
      "cell_type": "markdown",
      "source": [
        "14 Write a program that uses the logging module to log both informational and error message"
      ],
      "metadata": {
        "id": "7G6fDFCy3X7V"
      }
    },
    {
      "cell_type": "code",
      "source": [
        "import logging\n",
        "\n",
        "\n",
        "def test():\n",
        "  logging.info(\"program started \")\n",
        "try:\n",
        "  5/0\n",
        "except Exception as e:\n",
        "  logging.error(f\"error is {e}\")\n",
        "\n",
        "if __name__ == '__main__':\n",
        "  logging.basicConfig(filename='error1.log',level = logging.INFO)\n",
        "  test()\n",
        "\n",
        "  logging.shutdown()"
      ],
      "metadata": {
        "colab": {
          "base_uri": "https://localhost:8080/"
        },
        "id": "3Otva7ki3WiM",
        "outputId": "db957c86-3da7-4b99-a7f4-1207968c816a"
      },
      "execution_count": null,
      "outputs": [
        {
          "output_type": "stream",
          "name": "stderr",
          "text": [
            "ERROR:root:error is division by zero\n"
          ]
        }
      ]
    },
    {
      "cell_type": "markdown",
      "source": [
        "15 Write a Python program that prints the content of a file and handles the case when the file is empt"
      ],
      "metadata": {
        "id": "UAV-YHax5tE5"
      }
    },
    {
      "cell_type": "code",
      "source": [
        "try:\n",
        "  with open('f3.txt','r') as f3:\n",
        "    content = f3.read()\n",
        "    if content:\n",
        "      print(\"content\")\n",
        "    else:\n",
        "      print(\"file is empty\")\n",
        "\n",
        "except Exception as e:\n",
        "  print(e)"
      ],
      "metadata": {
        "colab": {
          "base_uri": "https://localhost:8080/"
        },
        "id": "Z-0Shxbt4xiY",
        "outputId": "19c8225c-1850-4afa-808c-b6d16cdd7dea"
      },
      "execution_count": 91,
      "outputs": [
        {
          "output_type": "stream",
          "name": "stdout",
          "text": [
            "file is empty\n"
          ]
        }
      ]
    },
    {
      "cell_type": "markdown",
      "source": [
        "16 Demonstrate how to use memory profiling to check the memory usage of a small program"
      ],
      "metadata": {
        "id": "vucvPNmp7DHj"
      }
    },
    {
      "cell_type": "code",
      "source": [
        "!pip install memory_profiler==0.61.0"
      ],
      "metadata": {
        "colab": {
          "base_uri": "https://localhost:8080/"
        },
        "id": "ZZzNL4Cn67I-",
        "outputId": "e5b72595-d93f-4a25-e357-d59354bd6637"
      },
      "execution_count": null,
      "outputs": [
        {
          "output_type": "stream",
          "name": "stdout",
          "text": [
            "Collecting memory_profiler==0.61.0\n",
            "  Downloading memory_profiler-0.61.0-py3-none-any.whl.metadata (20 kB)\n",
            "Requirement already satisfied: psutil in /usr/local/lib/python3.10/dist-packages (from memory_profiler==0.61.0) (5.9.5)\n",
            "Downloading memory_profiler-0.61.0-py3-none-any.whl (31 kB)\n",
            "Installing collected packages: memory_profiler\n",
            "Successfully installed memory_profiler-0.61.0\n"
          ]
        }
      ]
    },
    {
      "cell_type": "code",
      "source": [
        "%load_ext memory_profiler\n",
        "%memit my_function()\n",
        "\n",
        "from memory_profiler import profile\n",
        "\n",
        "@profile\n",
        "def my_function():\n",
        "    a = [1] * (10 ** 6)  # Create a large list\n",
        "    b = [2] * (2 * 10 ** 7)  # Create an even larger list\n",
        "    del b  # Delete to observe memory release\n",
        "    return a\n",
        "\n",
        "\n",
        "my_function()\n",
        "\n"
      ],
      "metadata": {
        "colab": {
          "base_uri": "https://localhost:8080/"
        },
        "id": "hhLoZzKr7QO3",
        "outputId": "92a06c7b-fe9a-4ab7-9d1b-f3b52d7d559a"
      },
      "execution_count": null,
      "outputs": [
        {
          "output_type": "stream",
          "name": "stderr",
          "text": [
            "\n",
            "PYDEV DEBUGGER WARNING:\n",
            "sys.settrace() should not be used when the debugger is being used.\n",
            "This may cause the debugger to stop working correctly.\n",
            "If this is needed, please check: \n",
            "http://pydev.blogspot.com/2007/06/why-cant-pydev-debugger-work-with.html\n",
            "to see how to restore the debug tracing back correctly.\n",
            "Call Location:\n",
            "  File \"/usr/local/lib/python3.10/dist-packages/memory_profiler.py\", line 847, in enable\n",
            "    sys.settrace(self.trace_memory_usage)\n",
            "\n",
            "\n",
            "PYDEV DEBUGGER WARNING:\n",
            "sys.settrace() should not be used when the debugger is being used.\n",
            "This may cause the debugger to stop working correctly.\n",
            "If this is needed, please check: \n",
            "http://pydev.blogspot.com/2007/06/why-cant-pydev-debugger-work-with.html\n",
            "to see how to restore the debug tracing back correctly.\n",
            "Call Location:\n",
            "  File \"/usr/local/lib/python3.10/dist-packages/memory_profiler.py\", line 850, in disable\n",
            "    sys.settrace(self._original_trace_function)\n",
            "\n"
          ]
        },
        {
          "output_type": "stream",
          "name": "stdout",
          "text": [
            "peak memory: 260.77 MiB, increment: 126.24 MiB\n",
            "ERROR: Could not find file <ipython-input-62-559f2fde1697>\n",
            "NOTE: %mprun can only be used on functions defined in physical files, and not in the IPython environment.\n"
          ]
        },
        {
          "output_type": "execute_result",
          "data": {
            "text/plain": [
              "[1,\n",
              " 1,\n",
              " 1,\n",
              " 1,\n",
              " 1,\n",
              " 1,\n",
              " 1,\n",
              " 1,\n",
              " 1,\n",
              " 1,\n",
              " 1,\n",
              " 1,\n",
              " 1,\n",
              " 1,\n",
              " 1,\n",
              " 1,\n",
              " 1,\n",
              " 1,\n",
              " 1,\n",
              " 1,\n",
              " 1,\n",
              " 1,\n",
              " 1,\n",
              " 1,\n",
              " 1,\n",
              " 1,\n",
              " 1,\n",
              " 1,\n",
              " 1,\n",
              " 1,\n",
              " 1,\n",
              " 1,\n",
              " 1,\n",
              " 1,\n",
              " 1,\n",
              " 1,\n",
              " 1,\n",
              " 1,\n",
              " 1,\n",
              " 1,\n",
              " 1,\n",
              " 1,\n",
              " 1,\n",
              " 1,\n",
              " 1,\n",
              " 1,\n",
              " 1,\n",
              " 1,\n",
              " 1,\n",
              " 1,\n",
              " 1,\n",
              " 1,\n",
              " 1,\n",
              " 1,\n",
              " 1,\n",
              " 1,\n",
              " 1,\n",
              " 1,\n",
              " 1,\n",
              " 1,\n",
              " 1,\n",
              " 1,\n",
              " 1,\n",
              " 1,\n",
              " 1,\n",
              " 1,\n",
              " 1,\n",
              " 1,\n",
              " 1,\n",
              " 1,\n",
              " 1,\n",
              " 1,\n",
              " 1,\n",
              " 1,\n",
              " 1,\n",
              " 1,\n",
              " 1,\n",
              " 1,\n",
              " 1,\n",
              " 1,\n",
              " 1,\n",
              " 1,\n",
              " 1,\n",
              " 1,\n",
              " 1,\n",
              " 1,\n",
              " 1,\n",
              " 1,\n",
              " 1,\n",
              " 1,\n",
              " 1,\n",
              " 1,\n",
              " 1,\n",
              " 1,\n",
              " 1,\n",
              " 1,\n",
              " 1,\n",
              " 1,\n",
              " 1,\n",
              " 1,\n",
              " 1,\n",
              " 1,\n",
              " 1,\n",
              " 1,\n",
              " 1,\n",
              " 1,\n",
              " 1,\n",
              " 1,\n",
              " 1,\n",
              " 1,\n",
              " 1,\n",
              " 1,\n",
              " 1,\n",
              " 1,\n",
              " 1,\n",
              " 1,\n",
              " 1,\n",
              " 1,\n",
              " 1,\n",
              " 1,\n",
              " 1,\n",
              " 1,\n",
              " 1,\n",
              " 1,\n",
              " 1,\n",
              " 1,\n",
              " 1,\n",
              " 1,\n",
              " 1,\n",
              " 1,\n",
              " 1,\n",
              " 1,\n",
              " 1,\n",
              " 1,\n",
              " 1,\n",
              " 1,\n",
              " 1,\n",
              " 1,\n",
              " 1,\n",
              " 1,\n",
              " 1,\n",
              " 1,\n",
              " 1,\n",
              " 1,\n",
              " 1,\n",
              " 1,\n",
              " 1,\n",
              " 1,\n",
              " 1,\n",
              " 1,\n",
              " 1,\n",
              " 1,\n",
              " 1,\n",
              " 1,\n",
              " 1,\n",
              " 1,\n",
              " 1,\n",
              " 1,\n",
              " 1,\n",
              " 1,\n",
              " 1,\n",
              " 1,\n",
              " 1,\n",
              " 1,\n",
              " 1,\n",
              " 1,\n",
              " 1,\n",
              " 1,\n",
              " 1,\n",
              " 1,\n",
              " 1,\n",
              " 1,\n",
              " 1,\n",
              " 1,\n",
              " 1,\n",
              " 1,\n",
              " 1,\n",
              " 1,\n",
              " 1,\n",
              " 1,\n",
              " 1,\n",
              " 1,\n",
              " 1,\n",
              " 1,\n",
              " 1,\n",
              " 1,\n",
              " 1,\n",
              " 1,\n",
              " 1,\n",
              " 1,\n",
              " 1,\n",
              " 1,\n",
              " 1,\n",
              " 1,\n",
              " 1,\n",
              " 1,\n",
              " 1,\n",
              " 1,\n",
              " 1,\n",
              " 1,\n",
              " 1,\n",
              " 1,\n",
              " 1,\n",
              " 1,\n",
              " 1,\n",
              " 1,\n",
              " 1,\n",
              " 1,\n",
              " 1,\n",
              " 1,\n",
              " 1,\n",
              " 1,\n",
              " 1,\n",
              " 1,\n",
              " 1,\n",
              " 1,\n",
              " 1,\n",
              " 1,\n",
              " 1,\n",
              " 1,\n",
              " 1,\n",
              " 1,\n",
              " 1,\n",
              " 1,\n",
              " 1,\n",
              " 1,\n",
              " 1,\n",
              " 1,\n",
              " 1,\n",
              " 1,\n",
              " 1,\n",
              " 1,\n",
              " 1,\n",
              " 1,\n",
              " 1,\n",
              " 1,\n",
              " 1,\n",
              " 1,\n",
              " 1,\n",
              " 1,\n",
              " 1,\n",
              " 1,\n",
              " 1,\n",
              " 1,\n",
              " 1,\n",
              " 1,\n",
              " 1,\n",
              " 1,\n",
              " 1,\n",
              " 1,\n",
              " 1,\n",
              " 1,\n",
              " 1,\n",
              " 1,\n",
              " 1,\n",
              " 1,\n",
              " 1,\n",
              " 1,\n",
              " 1,\n",
              " 1,\n",
              " 1,\n",
              " 1,\n",
              " 1,\n",
              " 1,\n",
              " 1,\n",
              " 1,\n",
              " 1,\n",
              " 1,\n",
              " 1,\n",
              " 1,\n",
              " 1,\n",
              " 1,\n",
              " 1,\n",
              " 1,\n",
              " 1,\n",
              " 1,\n",
              " 1,\n",
              " 1,\n",
              " 1,\n",
              " 1,\n",
              " 1,\n",
              " 1,\n",
              " 1,\n",
              " 1,\n",
              " 1,\n",
              " 1,\n",
              " 1,\n",
              " 1,\n",
              " 1,\n",
              " 1,\n",
              " 1,\n",
              " 1,\n",
              " 1,\n",
              " 1,\n",
              " 1,\n",
              " 1,\n",
              " 1,\n",
              " 1,\n",
              " 1,\n",
              " 1,\n",
              " 1,\n",
              " 1,\n",
              " 1,\n",
              " 1,\n",
              " 1,\n",
              " 1,\n",
              " 1,\n",
              " 1,\n",
              " 1,\n",
              " 1,\n",
              " 1,\n",
              " 1,\n",
              " 1,\n",
              " 1,\n",
              " 1,\n",
              " 1,\n",
              " 1,\n",
              " 1,\n",
              " 1,\n",
              " 1,\n",
              " 1,\n",
              " 1,\n",
              " 1,\n",
              " 1,\n",
              " 1,\n",
              " 1,\n",
              " 1,\n",
              " 1,\n",
              " 1,\n",
              " 1,\n",
              " 1,\n",
              " 1,\n",
              " 1,\n",
              " 1,\n",
              " 1,\n",
              " 1,\n",
              " 1,\n",
              " 1,\n",
              " 1,\n",
              " 1,\n",
              " 1,\n",
              " 1,\n",
              " 1,\n",
              " 1,\n",
              " 1,\n",
              " 1,\n",
              " 1,\n",
              " 1,\n",
              " 1,\n",
              " 1,\n",
              " 1,\n",
              " 1,\n",
              " 1,\n",
              " 1,\n",
              " 1,\n",
              " 1,\n",
              " 1,\n",
              " 1,\n",
              " 1,\n",
              " 1,\n",
              " 1,\n",
              " 1,\n",
              " 1,\n",
              " 1,\n",
              " 1,\n",
              " 1,\n",
              " 1,\n",
              " 1,\n",
              " 1,\n",
              " 1,\n",
              " 1,\n",
              " 1,\n",
              " 1,\n",
              " 1,\n",
              " 1,\n",
              " 1,\n",
              " 1,\n",
              " 1,\n",
              " 1,\n",
              " 1,\n",
              " 1,\n",
              " 1,\n",
              " 1,\n",
              " 1,\n",
              " 1,\n",
              " 1,\n",
              " 1,\n",
              " 1,\n",
              " 1,\n",
              " 1,\n",
              " 1,\n",
              " 1,\n",
              " 1,\n",
              " 1,\n",
              " 1,\n",
              " 1,\n",
              " 1,\n",
              " 1,\n",
              " 1,\n",
              " 1,\n",
              " 1,\n",
              " 1,\n",
              " 1,\n",
              " 1,\n",
              " 1,\n",
              " 1,\n",
              " 1,\n",
              " 1,\n",
              " 1,\n",
              " 1,\n",
              " 1,\n",
              " 1,\n",
              " 1,\n",
              " 1,\n",
              " 1,\n",
              " 1,\n",
              " 1,\n",
              " 1,\n",
              " 1,\n",
              " 1,\n",
              " 1,\n",
              " 1,\n",
              " 1,\n",
              " 1,\n",
              " 1,\n",
              " 1,\n",
              " 1,\n",
              " 1,\n",
              " 1,\n",
              " 1,\n",
              " 1,\n",
              " 1,\n",
              " 1,\n",
              " 1,\n",
              " 1,\n",
              " 1,\n",
              " 1,\n",
              " 1,\n",
              " 1,\n",
              " 1,\n",
              " 1,\n",
              " 1,\n",
              " 1,\n",
              " 1,\n",
              " 1,\n",
              " 1,\n",
              " 1,\n",
              " 1,\n",
              " 1,\n",
              " 1,\n",
              " 1,\n",
              " 1,\n",
              " 1,\n",
              " 1,\n",
              " 1,\n",
              " 1,\n",
              " 1,\n",
              " 1,\n",
              " 1,\n",
              " 1,\n",
              " 1,\n",
              " 1,\n",
              " 1,\n",
              " 1,\n",
              " 1,\n",
              " 1,\n",
              " 1,\n",
              " 1,\n",
              " 1,\n",
              " 1,\n",
              " 1,\n",
              " 1,\n",
              " 1,\n",
              " 1,\n",
              " 1,\n",
              " 1,\n",
              " 1,\n",
              " 1,\n",
              " 1,\n",
              " 1,\n",
              " 1,\n",
              " 1,\n",
              " 1,\n",
              " 1,\n",
              " 1,\n",
              " 1,\n",
              " 1,\n",
              " 1,\n",
              " 1,\n",
              " 1,\n",
              " 1,\n",
              " 1,\n",
              " 1,\n",
              " 1,\n",
              " 1,\n",
              " 1,\n",
              " 1,\n",
              " 1,\n",
              " 1,\n",
              " 1,\n",
              " 1,\n",
              " 1,\n",
              " 1,\n",
              " 1,\n",
              " 1,\n",
              " 1,\n",
              " 1,\n",
              " 1,\n",
              " 1,\n",
              " 1,\n",
              " 1,\n",
              " 1,\n",
              " 1,\n",
              " 1,\n",
              " 1,\n",
              " 1,\n",
              " 1,\n",
              " 1,\n",
              " 1,\n",
              " 1,\n",
              " 1,\n",
              " 1,\n",
              " 1,\n",
              " 1,\n",
              " 1,\n",
              " 1,\n",
              " 1,\n",
              " 1,\n",
              " 1,\n",
              " 1,\n",
              " 1,\n",
              " 1,\n",
              " 1,\n",
              " 1,\n",
              " 1,\n",
              " 1,\n",
              " 1,\n",
              " 1,\n",
              " 1,\n",
              " 1,\n",
              " 1,\n",
              " 1,\n",
              " 1,\n",
              " 1,\n",
              " 1,\n",
              " 1,\n",
              " 1,\n",
              " 1,\n",
              " 1,\n",
              " 1,\n",
              " 1,\n",
              " 1,\n",
              " 1,\n",
              " 1,\n",
              " 1,\n",
              " 1,\n",
              " 1,\n",
              " 1,\n",
              " 1,\n",
              " 1,\n",
              " 1,\n",
              " 1,\n",
              " 1,\n",
              " 1,\n",
              " 1,\n",
              " 1,\n",
              " 1,\n",
              " 1,\n",
              " 1,\n",
              " 1,\n",
              " 1,\n",
              " 1,\n",
              " 1,\n",
              " 1,\n",
              " 1,\n",
              " 1,\n",
              " 1,\n",
              " 1,\n",
              " 1,\n",
              " 1,\n",
              " 1,\n",
              " 1,\n",
              " 1,\n",
              " 1,\n",
              " 1,\n",
              " 1,\n",
              " 1,\n",
              " 1,\n",
              " 1,\n",
              " 1,\n",
              " 1,\n",
              " 1,\n",
              " 1,\n",
              " 1,\n",
              " 1,\n",
              " 1,\n",
              " 1,\n",
              " 1,\n",
              " 1,\n",
              " 1,\n",
              " 1,\n",
              " 1,\n",
              " 1,\n",
              " 1,\n",
              " 1,\n",
              " 1,\n",
              " 1,\n",
              " 1,\n",
              " 1,\n",
              " 1,\n",
              " 1,\n",
              " 1,\n",
              " 1,\n",
              " 1,\n",
              " 1,\n",
              " 1,\n",
              " 1,\n",
              " 1,\n",
              " 1,\n",
              " 1,\n",
              " 1,\n",
              " 1,\n",
              " 1,\n",
              " 1,\n",
              " 1,\n",
              " 1,\n",
              " 1,\n",
              " 1,\n",
              " 1,\n",
              " 1,\n",
              " 1,\n",
              " 1,\n",
              " 1,\n",
              " 1,\n",
              " 1,\n",
              " 1,\n",
              " 1,\n",
              " 1,\n",
              " 1,\n",
              " 1,\n",
              " 1,\n",
              " 1,\n",
              " 1,\n",
              " 1,\n",
              " 1,\n",
              " 1,\n",
              " 1,\n",
              " 1,\n",
              " 1,\n",
              " 1,\n",
              " 1,\n",
              " 1,\n",
              " 1,\n",
              " 1,\n",
              " 1,\n",
              " 1,\n",
              " 1,\n",
              " 1,\n",
              " 1,\n",
              " 1,\n",
              " 1,\n",
              " 1,\n",
              " 1,\n",
              " 1,\n",
              " 1,\n",
              " 1,\n",
              " 1,\n",
              " 1,\n",
              " 1,\n",
              " 1,\n",
              " 1,\n",
              " 1,\n",
              " 1,\n",
              " 1,\n",
              " 1,\n",
              " 1,\n",
              " 1,\n",
              " 1,\n",
              " 1,\n",
              " 1,\n",
              " 1,\n",
              " 1,\n",
              " 1,\n",
              " 1,\n",
              " 1,\n",
              " 1,\n",
              " 1,\n",
              " 1,\n",
              " 1,\n",
              " 1,\n",
              " 1,\n",
              " 1,\n",
              " 1,\n",
              " 1,\n",
              " 1,\n",
              " 1,\n",
              " 1,\n",
              " 1,\n",
              " 1,\n",
              " 1,\n",
              " 1,\n",
              " 1,\n",
              " 1,\n",
              " 1,\n",
              " 1,\n",
              " 1,\n",
              " 1,\n",
              " 1,\n",
              " 1,\n",
              " 1,\n",
              " 1,\n",
              " 1,\n",
              " 1,\n",
              " 1,\n",
              " 1,\n",
              " 1,\n",
              " 1,\n",
              " 1,\n",
              " 1,\n",
              " 1,\n",
              " 1,\n",
              " 1,\n",
              " 1,\n",
              " 1,\n",
              " 1,\n",
              " 1,\n",
              " 1,\n",
              " 1,\n",
              " 1,\n",
              " 1,\n",
              " 1,\n",
              " 1,\n",
              " 1,\n",
              " 1,\n",
              " 1,\n",
              " 1,\n",
              " 1,\n",
              " 1,\n",
              " 1,\n",
              " 1,\n",
              " 1,\n",
              " 1,\n",
              " 1,\n",
              " 1,\n",
              " 1,\n",
              " 1,\n",
              " 1,\n",
              " 1,\n",
              " 1,\n",
              " 1,\n",
              " 1,\n",
              " 1,\n",
              " 1,\n",
              " 1,\n",
              " 1,\n",
              " 1,\n",
              " 1,\n",
              " 1,\n",
              " 1,\n",
              " 1,\n",
              " 1,\n",
              " 1,\n",
              " 1,\n",
              " 1,\n",
              " 1,\n",
              " 1,\n",
              " 1,\n",
              " 1,\n",
              " 1,\n",
              " 1,\n",
              " 1,\n",
              " 1,\n",
              " 1,\n",
              " 1,\n",
              " 1,\n",
              " 1,\n",
              " 1,\n",
              " 1,\n",
              " 1,\n",
              " 1,\n",
              " 1,\n",
              " 1,\n",
              " 1,\n",
              " 1,\n",
              " 1,\n",
              " 1,\n",
              " 1,\n",
              " 1,\n",
              " 1,\n",
              " 1,\n",
              " 1,\n",
              " 1,\n",
              " 1,\n",
              " 1,\n",
              " 1,\n",
              " 1,\n",
              " 1,\n",
              " 1,\n",
              " 1,\n",
              " 1,\n",
              " 1,\n",
              " 1,\n",
              " 1,\n",
              " 1,\n",
              " 1,\n",
              " 1,\n",
              " 1,\n",
              " 1,\n",
              " 1,\n",
              " 1,\n",
              " 1,\n",
              " 1,\n",
              " 1,\n",
              " 1,\n",
              " 1,\n",
              " 1,\n",
              " 1,\n",
              " 1,\n",
              " 1,\n",
              " 1,\n",
              " 1,\n",
              " 1,\n",
              " 1,\n",
              " 1,\n",
              " 1,\n",
              " 1,\n",
              " 1,\n",
              " 1,\n",
              " 1,\n",
              " 1,\n",
              " 1,\n",
              " 1,\n",
              " 1,\n",
              " 1,\n",
              " 1,\n",
              " 1,\n",
              " 1,\n",
              " 1,\n",
              " 1,\n",
              " 1,\n",
              " 1,\n",
              " 1,\n",
              " 1,\n",
              " 1,\n",
              " 1,\n",
              " 1,\n",
              " 1,\n",
              " 1,\n",
              " 1,\n",
              " 1,\n",
              " 1,\n",
              " 1,\n",
              " 1,\n",
              " 1,\n",
              " 1,\n",
              " 1,\n",
              " 1,\n",
              " 1,\n",
              " 1,\n",
              " 1,\n",
              " 1,\n",
              " 1,\n",
              " 1,\n",
              " 1,\n",
              " 1,\n",
              " 1,\n",
              " 1,\n",
              " 1,\n",
              " 1,\n",
              " 1,\n",
              " 1,\n",
              " 1,\n",
              " 1,\n",
              " 1,\n",
              " 1,\n",
              " 1,\n",
              " 1,\n",
              " 1,\n",
              " 1,\n",
              " 1,\n",
              " 1,\n",
              " 1,\n",
              " 1,\n",
              " 1,\n",
              " 1,\n",
              " 1,\n",
              " 1,\n",
              " 1,\n",
              " 1,\n",
              " 1,\n",
              " 1,\n",
              " 1,\n",
              " 1,\n",
              " 1,\n",
              " 1,\n",
              " 1,\n",
              " 1,\n",
              " 1,\n",
              " 1,\n",
              " 1,\n",
              " 1,\n",
              " 1,\n",
              " 1,\n",
              " 1,\n",
              " 1,\n",
              " 1,\n",
              " 1,\n",
              " 1,\n",
              " 1,\n",
              " 1,\n",
              " 1,\n",
              " 1,\n",
              " 1,\n",
              " 1,\n",
              " 1,\n",
              " 1,\n",
              " 1,\n",
              " 1,\n",
              " 1,\n",
              " 1,\n",
              " 1,\n",
              " 1,\n",
              " 1,\n",
              " 1,\n",
              " 1,\n",
              " 1,\n",
              " 1,\n",
              " 1,\n",
              " 1,\n",
              " 1,\n",
              " 1,\n",
              " 1,\n",
              " 1,\n",
              " 1,\n",
              " 1,\n",
              " 1,\n",
              " 1,\n",
              " 1,\n",
              " 1,\n",
              " 1,\n",
              " 1,\n",
              " 1,\n",
              " 1,\n",
              " 1,\n",
              " 1,\n",
              " 1,\n",
              " 1,\n",
              " 1,\n",
              " 1,\n",
              " 1,\n",
              " 1,\n",
              " 1,\n",
              " 1,\n",
              " 1,\n",
              " 1,\n",
              " 1,\n",
              " 1,\n",
              " 1,\n",
              " 1,\n",
              " 1,\n",
              " 1,\n",
              " 1,\n",
              " 1,\n",
              " 1,\n",
              " 1,\n",
              " 1,\n",
              " 1,\n",
              " 1,\n",
              " 1,\n",
              " 1,\n",
              " 1,\n",
              " 1,\n",
              " 1,\n",
              " 1,\n",
              " 1,\n",
              " 1,\n",
              " 1,\n",
              " 1,\n",
              " 1,\n",
              " 1,\n",
              " 1,\n",
              " 1,\n",
              " 1,\n",
              " 1,\n",
              " 1,\n",
              " 1,\n",
              " 1,\n",
              " 1,\n",
              " 1,\n",
              " 1,\n",
              " 1,\n",
              " 1,\n",
              " 1,\n",
              " 1,\n",
              " 1,\n",
              " 1,\n",
              " 1,\n",
              " 1,\n",
              " 1,\n",
              " 1,\n",
              " ...]"
            ]
          },
          "metadata": {},
          "execution_count": 62
        }
      ]
    },
    {
      "cell_type": "markdown",
      "source": [
        "17 Write a Python program to create and write a list of numbers to a file, one number per lineF"
      ],
      "metadata": {
        "id": "RhCISNgA8Uxl"
      }
    },
    {
      "cell_type": "code",
      "source": [
        "try:\n",
        "  with open('f4.txt','w') as f4:\n",
        "    for i in range(1,10):\n",
        "      f4.write(f\"{i}\\n\")\n",
        "\n",
        "  with open('f4.txt','r') as f4:\n",
        "    print(f4.read())\n",
        "except Exception as e:\n",
        "  print(e)"
      ],
      "metadata": {
        "colab": {
          "base_uri": "https://localhost:8080/"
        },
        "id": "Df0Mkdcs7XF7",
        "outputId": "ffb59261-0088-463e-e783-48b6e4b4cf02"
      },
      "execution_count": null,
      "outputs": [
        {
          "output_type": "stream",
          "name": "stdout",
          "text": [
            "1\n",
            "2\n",
            "3\n",
            "4\n",
            "5\n",
            "6\n",
            "7\n",
            "8\n",
            "9\n",
            "\n"
          ]
        }
      ]
    },
    {
      "cell_type": "markdown",
      "source": [
        "18 How would you implement a basic logging setup that logs to a file with rotation after 1MB"
      ],
      "metadata": {
        "id": "Oor5obNw83lH"
      }
    },
    {
      "cell_type": "code",
      "source": [
        "import logging\n",
        "from logging.handlers import RotatingFileHandler\n",
        "\n",
        "# Create a logger\n",
        "logger = logging.getLogger(__name__)\n",
        "logger.setLevel(logging.DEBUG)  # Set the desired logging level\n",
        "\n",
        "# Create a RotatingFileHandler\n",
        "handler = RotatingFileHandler('my_log.log', maxBytes=1024 * 1024, backupCount=5)\n",
        "\n",
        "# Set the formatter for the handler\n",
        "formatter = logging.Formatter('%(asctime)s - %(name)s - %(levelname)s - %(message)s')\n",
        "handler.setFormatter(formatter)\n",
        "\n",
        "# Add the handler to the logger\n",
        "logger.addHandler(handler)\n",
        "\n",
        "# Now you can use the logger to log messages\n",
        "logger.debug('This is a debug message')\n",
        "logger.info('This is an info message')\n",
        "logger.warning('This is a warning message')\n",
        "logger.error('This is an error message')\n",
        "logger.critical('This is a critical message')"
      ],
      "metadata": {
        "colab": {
          "base_uri": "https://localhost:8080/"
        },
        "id": "zYExx-It81pb",
        "outputId": "02d6af82-0ea7-4ec3-da8e-df15b4a454fd"
      },
      "execution_count": null,
      "outputs": [
        {
          "output_type": "stream",
          "name": "stderr",
          "text": [
            "DEBUG:__main__:This is a debug message\n",
            "INFO:__main__:This is an info message\n",
            "WARNING:__main__:This is a warning message\n",
            "ERROR:__main__:This is an error message\n",
            "CRITICAL:__main__:This is a critical message\n"
          ]
        }
      ]
    },
    {
      "cell_type": "markdown",
      "source": [
        "19 Write a program that handles both IndexError and KeyError using a try-except bloc"
      ],
      "metadata": {
        "id": "6bJue89g9mwQ"
      }
    },
    {
      "cell_type": "code",
      "source": [
        "\n",
        "def test(stucture, list_dict_key):\n",
        "  try:\n",
        "    value = stucture[list_dict_key]\n",
        "    print(value)\n",
        "  except IndexError as e1:\n",
        "    print(e1)\n",
        "  except KeyError as e2:\n",
        "    print(e2)\n",
        "\n",
        "list1 = [1,2,3]\n",
        "dict1 = {'a':1,'b':2}\n",
        "\n",
        "test(list1,4)\n",
        "test(dict1,'a')\n"
      ],
      "metadata": {
        "colab": {
          "base_uri": "https://localhost:8080/"
        },
        "id": "dX2-yCkw9k5X",
        "outputId": "3f041f5d-1f17-4468-de1e-1270ec1f04fe"
      },
      "execution_count": null,
      "outputs": [
        {
          "output_type": "stream",
          "name": "stdout",
          "text": [
            "list index out of range\n",
            "1\n"
          ]
        }
      ]
    },
    {
      "cell_type": "markdown",
      "source": [],
      "metadata": {
        "id": "5MoM6uKI_VHh"
      }
    },
    {
      "cell_type": "markdown",
      "source": [
        "20 How would you open a file and read its contents using a context manager in Python"
      ],
      "metadata": {
        "id": "_QRC9eOZ_VK5"
      }
    },
    {
      "cell_type": "code",
      "source": [
        "from contextlib import contextmanager\n",
        "\n",
        "@contextmanager\n",
        "def file_manager(filename, mode):\n",
        "    \"\"\"A context manager for managing files.\"\"\"\n",
        "    try:\n",
        "        f = open(filename, mode)  # Open the file\n",
        "        yield f  # Yield control to the 'with' block\n",
        "    finally:\n",
        "        f.close()  # Ensure the file is closed, even if exceptions occur\n",
        "\n",
        "# Usage:\n",
        "with file_manager('my_file.txt', 'w') as f:\n",
        "    f.write('This is some text written to the file.\\n')\n",
        "    f.write('Another line of text.')"
      ],
      "metadata": {
        "id": "jeRxETHJ9uRJ"
      },
      "execution_count": null,
      "outputs": []
    },
    {
      "cell_type": "markdown",
      "source": [
        "21 Write a Python program that reads a file and prints the number of occurrences of a specific word"
      ],
      "metadata": {
        "id": "EGu6_fFXANN6"
      }
    },
    {
      "cell_type": "code",
      "source": [
        "try:\n",
        "  with open('f2.txt','r') as f2:\n",
        "    content = f2.read()\n",
        "    print(content)\n",
        "    print(content.count('PW'))\n",
        "except Exception as e:\n",
        "  print(e)"
      ],
      "metadata": {
        "colab": {
          "base_uri": "https://localhost:8080/"
        },
        "id": "48-Z1eN2_8Ss",
        "outputId": "c21e6029-455a-4385-9cee-18eef3296c15"
      },
      "execution_count": null,
      "outputs": [
        {
          "output_type": "stream",
          "name": "stdout",
          "text": [
            "PW Skills is the result of a continual effort to exponentially increase the employability \n",
            "              of every Indian, irrespective of their socioeconomic status. With accessibility and affordability \n",
            "              being the support structure of high-quality, industry-relevant courses, PW Skills aims to empower \n",
            "              professionals and students alike to either jumpstart\n",
            "              their careers or leverage existing skills with new, future-driven upgrades that will help them realise their full potentialthis is appended datathis is appended datathis is appended data\n",
            "2\n"
          ]
        }
      ]
    },
    {
      "cell_type": "markdown",
      "source": [
        "22 \u001c\u001cF How can you check if a file is empty before attempting to read its contents"
      ],
      "metadata": {
        "id": "FeOZhm0kA2tu"
      }
    },
    {
      "cell_type": "code",
      "source": [
        "import os\n",
        "\n",
        "\n",
        "def check(filename):\n",
        "   return os.stat(filename).st_size == 0\n",
        "\n",
        "file1 = \"f3.txt\"\n",
        "if check(file1):\n",
        "  print(\"file is empty\")\n",
        "else:\n",
        "  print(\"file is not empty\")"
      ],
      "metadata": {
        "id": "KE53gGO6Af0x",
        "colab": {
          "base_uri": "https://localhost:8080/"
        },
        "outputId": "a1a5e5b3-3289-48ae-f2e9-c656d7af4e65"
      },
      "execution_count": 93,
      "outputs": [
        {
          "output_type": "stream",
          "name": "stdout",
          "text": [
            "file is empty\n"
          ]
        }
      ]
    },
    {
      "cell_type": "markdown",
      "source": [
        "23 Write a Python program that writes to a log file when an error occurs during file handling."
      ],
      "metadata": {
        "id": "5KaFDJfUB5WY"
      }
    },
    {
      "cell_type": "code",
      "source": [
        "import logging\n",
        "\n",
        "\n",
        "def test():\n",
        "  logging.info(\"program started \")\n",
        "try:\n",
        "  with open('f5.txt','r') as f:\n",
        "    f.read()\n",
        "except Exception as e:\n",
        "  logging.error(f\"error is {e}\")\n",
        "\n",
        "if __name__ == '__main__':\n",
        "  logging.basicConfig(filename='error1.log',level = logging.INFO)\n",
        "  test()\n",
        "\n",
        "  logging.shutdown()"
      ],
      "metadata": {
        "id": "ch4mGschA95f",
        "colab": {
          "base_uri": "https://localhost:8080/"
        },
        "outputId": "279a5d9b-b1c7-42f2-d16b-8b2e9c01439f"
      },
      "execution_count": 95,
      "outputs": [
        {
          "output_type": "stream",
          "name": "stderr",
          "text": [
            "ERROR:root:error is [Errno 2] No such file or directory: 'f5.txt'\n"
          ]
        }
      ]
    },
    {
      "cell_type": "code",
      "source": [],
      "metadata": {
        "id": "VWMpRwF6DPjG"
      },
      "execution_count": null,
      "outputs": []
    }
  ]
}