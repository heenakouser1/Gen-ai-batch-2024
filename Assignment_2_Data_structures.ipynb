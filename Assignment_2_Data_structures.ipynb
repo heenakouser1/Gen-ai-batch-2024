{
  "nbformat": 4,
  "nbformat_minor": 0,
  "metadata": {
    "colab": {
      "provenance": [],
      "authorship_tag": "ABX9TyOHisr+NHxxIUOnymfChc3t",
      "include_colab_link": true
    },
    "kernelspec": {
      "name": "python3",
      "display_name": "Python 3"
    },
    "language_info": {
      "name": "python"
    }
  },
  "cells": [
    {
      "cell_type": "markdown",
      "metadata": {
        "id": "view-in-github",
        "colab_type": "text"
      },
      "source": [
        "<a href=\"https://colab.research.google.com/github/heenakouser1/Gen-ai-batch-2024/blob/main/Assignment_2_Data_structures.ipynb\" target=\"_parent\"><img src=\"https://colab.research.google.com/assets/colab-badge.svg\" alt=\"Open In Colab\"/></a>"
      ]
    },
    {
      "cell_type": "markdown",
      "source": [
        "1. Discuss string slicing and provide examples"
      ],
      "metadata": {
        "id": "kZWOitBTJjKM"
      }
    },
    {
      "cell_type": "code",
      "execution_count": 2,
      "metadata": {
        "colab": {
          "base_uri": "https://localhost:8080/",
          "height": 36
        },
        "id": "F1Thy0YmJSjd",
        "outputId": "74b8ad30-24f1-43c5-80f8-e351056327d7"
      },
      "outputs": [
        {
          "output_type": "execute_result",
          "data": {
            "text/plain": [
              "'pwskills'"
            ],
            "application/vnd.google.colaboratory.intrinsic+json": {
              "type": "string"
            }
          },
          "metadata": {},
          "execution_count": 2
        }
      ],
      "source": [
        "#String slicing is used to get the element from string. It can be used to get either one element or multiple elements\n",
        "S = 'pwskills is a good place to learn'\n",
        "S[0:8]"
      ]
    },
    {
      "cell_type": "code",
      "source": [
        "S[::]"
      ],
      "metadata": {
        "colab": {
          "base_uri": "https://localhost:8080/",
          "height": 36
        },
        "id": "8-tbvm6GKLr6",
        "outputId": "be06b1f7-bca6-4c06-fae2-b94e2fbdc77c"
      },
      "execution_count": 3,
      "outputs": [
        {
          "output_type": "execute_result",
          "data": {
            "text/plain": [
              "'pwskills is a good place to learn'"
            ],
            "application/vnd.google.colaboratory.intrinsic+json": {
              "type": "string"
            }
          },
          "metadata": {},
          "execution_count": 3
        }
      ]
    },
    {
      "cell_type": "markdown",
      "source": [
        "2. Explain the key features of lists in Python"
      ],
      "metadata": {
        "id": "uVlJpgWVKRZ8"
      }
    },
    {
      "cell_type": "markdown",
      "source": [
        "Lists are data structure. It is ordered collection of heterogenous data.\n",
        "Lists are mutable, data present in lists can be changed.\n",
        "Lists are scriptable"
      ],
      "metadata": {
        "id": "zFy3PDMNKWtt"
      }
    },
    {
      "cell_type": "markdown",
      "source": [
        "3 Describe how to access, modify, and delete elements in a list with example:"
      ],
      "metadata": {
        "id": "sobVRo1cK-u8"
      }
    },
    {
      "cell_type": "code",
      "source": [
        "#Access list :\n",
        "List1 = [1,2,\"pwskills\",True,3+6j]\n",
        "List1[0:3]"
      ],
      "metadata": {
        "colab": {
          "base_uri": "https://localhost:8080/"
        },
        "id": "vCWKrhy8KV2o",
        "outputId": "17074e9a-663f-46c7-cf33-69fa99c50a4d"
      },
      "execution_count": 4,
      "outputs": [
        {
          "output_type": "execute_result",
          "data": {
            "text/plain": [
              "[1, 2, 'pwskills']"
            ]
          },
          "metadata": {},
          "execution_count": 4
        }
      ]
    },
    {
      "cell_type": "code",
      "source": [
        "#Modify:\n",
        "List1[0] = 2\n",
        "List1"
      ],
      "metadata": {
        "colab": {
          "base_uri": "https://localhost:8080/"
        },
        "id": "PkXcqDYoJ_zb",
        "outputId": "9685b721-8e18-4b62-f945-4aa5d0c4de3c"
      },
      "execution_count": 5,
      "outputs": [
        {
          "output_type": "execute_result",
          "data": {
            "text/plain": [
              "[2, 2, 'pwskills', True, (3+6j)]"
            ]
          },
          "metadata": {},
          "execution_count": 5
        }
      ]
    },
    {
      "cell_type": "code",
      "source": [
        "#delete:\n",
        "del List1[0]\n",
        "List1"
      ],
      "metadata": {
        "colab": {
          "base_uri": "https://localhost:8080/"
        },
        "id": "Mc2IUWgzLPeE",
        "outputId": "da5fae68-6904-4843-f969-bfe4c61f8c43"
      },
      "execution_count": 6,
      "outputs": [
        {
          "output_type": "execute_result",
          "data": {
            "text/plain": [
              "[2, 'pwskills', True, (3+6j)]"
            ]
          },
          "metadata": {},
          "execution_count": 6
        }
      ]
    },
    {
      "cell_type": "markdown",
      "source": [
        "4 Compare and contrast tuples and lists with exampleS"
      ],
      "metadata": {
        "id": "QsshJ2p2LZD4"
      }
    },
    {
      "cell_type": "code",
      "source": [
        "#List1 -- List are ordered collection of hetergenous data denoted by []\n",
        "#          List are mutable\n",
        "#          Unhashable index\n",
        "\n",
        "#Tuples --- Tuples are ordered collection of hetergenous data denoted by ()\n",
        "#           Tuples are immuatable\n",
        "#           Hashable index\n"
      ],
      "metadata": {
        "id": "zvBP4yqQLSwF"
      },
      "execution_count": 7,
      "outputs": []
    },
    {
      "cell_type": "code",
      "source": [
        "#List1\n",
        "List1 = [1,\"skills\",True,3+6j]\n",
        "List1[0] = 2\n",
        "List1"
      ],
      "metadata": {
        "colab": {
          "base_uri": "https://localhost:8080/"
        },
        "id": "IgOJBGbIMB5E",
        "outputId": "44e78417-a811-4a0c-8751-01b618c170f4"
      },
      "execution_count": 9,
      "outputs": [
        {
          "output_type": "execute_result",
          "data": {
            "text/plain": [
              "[2, 'skills', True, (3+6j)]"
            ]
          },
          "metadata": {},
          "execution_count": 9
        }
      ]
    },
    {
      "cell_type": "code",
      "source": [
        "from typing import Tuple\n",
        "#Tuple\n",
        "Tuple1 = (1,\"skills\",True,3+6j)\n",
        "Tuple1[0] = 2\n",
        "Tuple1"
      ],
      "metadata": {
        "colab": {
          "base_uri": "https://localhost:8080/",
          "height": 200
        },
        "id": "FGn1lJe1MNEV",
        "outputId": "d132dc45-57b5-46a2-ac4c-82998d81be12"
      },
      "execution_count": 10,
      "outputs": [
        {
          "output_type": "error",
          "ename": "TypeError",
          "evalue": "'tuple' object does not support item assignment",
          "traceback": [
            "\u001b[0;31m---------------------------------------------------------------------------\u001b[0m",
            "\u001b[0;31mTypeError\u001b[0m                                 Traceback (most recent call last)",
            "\u001b[0;32m<ipython-input-10-72f8efacda9f>\u001b[0m in \u001b[0;36m<cell line: 4>\u001b[0;34m()\u001b[0m\n\u001b[1;32m      2\u001b[0m \u001b[0;31m#Tuple\u001b[0m\u001b[0;34m\u001b[0m\u001b[0;34m\u001b[0m\u001b[0m\n\u001b[1;32m      3\u001b[0m \u001b[0mTuple1\u001b[0m \u001b[0;34m=\u001b[0m \u001b[0;34m(\u001b[0m\u001b[0;36m1\u001b[0m\u001b[0;34m,\u001b[0m\u001b[0;34m\"skills\"\u001b[0m\u001b[0;34m,\u001b[0m\u001b[0;32mTrue\u001b[0m\u001b[0;34m,\u001b[0m\u001b[0;36m3\u001b[0m\u001b[0;34m+\u001b[0m\u001b[0;36m6j\u001b[0m\u001b[0;34m)\u001b[0m\u001b[0;34m\u001b[0m\u001b[0;34m\u001b[0m\u001b[0m\n\u001b[0;32m----> 4\u001b[0;31m \u001b[0mTuple1\u001b[0m\u001b[0;34m[\u001b[0m\u001b[0;36m0\u001b[0m\u001b[0;34m]\u001b[0m \u001b[0;34m=\u001b[0m \u001b[0;36m2\u001b[0m\u001b[0;34m\u001b[0m\u001b[0;34m\u001b[0m\u001b[0m\n\u001b[0m\u001b[1;32m      5\u001b[0m \u001b[0mTuple1\u001b[0m\u001b[0;34m\u001b[0m\u001b[0;34m\u001b[0m\u001b[0m\n",
            "\u001b[0;31mTypeError\u001b[0m: 'tuple' object does not support item assignment"
          ]
        }
      ]
    },
    {
      "cell_type": "markdown",
      "source": [
        "5 Describe the key features of sets and provide examples of their us"
      ],
      "metadata": {
        "id": "q6jsTiXNMW0s"
      }
    },
    {
      "cell_type": "code",
      "source": [
        "# Sets are unordered collection of unique elements\n",
        "# Sets are mutable , elements can be removed, added\n",
        "# Sets are non scriptable\n",
        "S = {1,2,3,3,4,\"PWSKILLS\",True,3+6j}\n",
        "S"
      ],
      "metadata": {
        "colab": {
          "base_uri": "https://localhost:8080/"
        },
        "id": "GECOcWjDMTdO",
        "outputId": "9f343f12-a4a5-410f-d012-f8abb8e7601b"
      },
      "execution_count": 11,
      "outputs": [
        {
          "output_type": "execute_result",
          "data": {
            "text/plain": [
              "{(3+6j), 1, 2, 3, 4, 'PWSKILLS'}"
            ]
          },
          "metadata": {},
          "execution_count": 11
        }
      ]
    },
    {
      "cell_type": "code",
      "source": [
        "S[0:3]"
      ],
      "metadata": {
        "colab": {
          "base_uri": "https://localhost:8080/",
          "height": 146
        },
        "id": "1y6rmc03MrhY",
        "outputId": "95bf327b-2245-48d7-ef17-8629b44ca53b"
      },
      "execution_count": 12,
      "outputs": [
        {
          "output_type": "error",
          "ename": "TypeError",
          "evalue": "'set' object is not subscriptable",
          "traceback": [
            "\u001b[0;31m---------------------------------------------------------------------------\u001b[0m",
            "\u001b[0;31mTypeError\u001b[0m                                 Traceback (most recent call last)",
            "\u001b[0;32m<ipython-input-12-df103b473f69>\u001b[0m in \u001b[0;36m<cell line: 1>\u001b[0;34m()\u001b[0m\n\u001b[0;32m----> 1\u001b[0;31m \u001b[0mS\u001b[0m\u001b[0;34m[\u001b[0m\u001b[0;36m0\u001b[0m\u001b[0;34m:\u001b[0m\u001b[0;36m3\u001b[0m\u001b[0;34m]\u001b[0m\u001b[0;34m\u001b[0m\u001b[0;34m\u001b[0m\u001b[0m\n\u001b[0m",
            "\u001b[0;31mTypeError\u001b[0m: 'set' object is not subscriptable"
          ]
        }
      ]
    },
    {
      "cell_type": "code",
      "source": [
        "S.add(-1)\n",
        "S"
      ],
      "metadata": {
        "colab": {
          "base_uri": "https://localhost:8080/"
        },
        "id": "eYTXWfZ4MuRf",
        "outputId": "ecd2be08-31e4-492e-af27-7c3310dd3fa9"
      },
      "execution_count": 15,
      "outputs": [
        {
          "output_type": "execute_result",
          "data": {
            "text/plain": [
              "{(3+6j), '-1', -1, 1, 2, 3, 4, 'PWSKILLS'}"
            ]
          },
          "metadata": {},
          "execution_count": 15
        }
      ]
    },
    {
      "cell_type": "code",
      "source": [
        "S.remove(\"-1\")"
      ],
      "metadata": {
        "id": "wc7B-xzKMxsy"
      },
      "execution_count": 16,
      "outputs": []
    },
    {
      "cell_type": "code",
      "source": [
        "S"
      ],
      "metadata": {
        "colab": {
          "base_uri": "https://localhost:8080/"
        },
        "id": "1P6EdTHJM5h5",
        "outputId": "3e4a29e8-9e05-4db8-a3d6-0b07c2c1953c"
      },
      "execution_count": 17,
      "outputs": [
        {
          "output_type": "execute_result",
          "data": {
            "text/plain": [
              "{(3+6j), -1, 1, 2, 3, 4, 'PWSKILLS'}"
            ]
          },
          "metadata": {},
          "execution_count": 17
        }
      ]
    },
    {
      "cell_type": "markdown",
      "source": [
        "6 Discuss the use cases of tuples and sets in Python programming"
      ],
      "metadata": {
        "id": "J0bvfrVjM_oL"
      }
    },
    {
      "cell_type": "code",
      "source": [
        "# Tuples are immutable. Tuples can be used aadhar cards, employee id\n",
        "# As tuples cannot be changed once the aadhar number is changed\n",
        "\n",
        "\n",
        "# Sets are unordered collection of unique elements\n",
        "# sets are used to store the unique elements like employee id in companies"
      ],
      "metadata": {
        "id": "sfPSb8FGM6ho"
      },
      "execution_count": 18,
      "outputs": []
    },
    {
      "cell_type": "markdown",
      "source": [
        "7 Describe how to add, modify, and delete items in a dictionary with examples"
      ],
      "metadata": {
        "id": "nIhSARXgPhXl"
      }
    },
    {
      "cell_type": "code",
      "source": [
        "#dictionary are ordered collection of hetergenous data.\n",
        "dict1 = {\"name\":\"pwskills\",\"course\":\"data science\"}\n",
        "dict1"
      ],
      "metadata": {
        "colab": {
          "base_uri": "https://localhost:8080/"
        },
        "id": "TbF7Tct5PfAY",
        "outputId": "88fded7a-7b62-4b35-a9b0-0a95a7813469"
      },
      "execution_count": 19,
      "outputs": [
        {
          "output_type": "execute_result",
          "data": {
            "text/plain": [
              "{'name': 'pwskills', 'course': 'data science'}"
            ]
          },
          "metadata": {},
          "execution_count": 19
        }
      ]
    },
    {
      "cell_type": "code",
      "source": [
        "dict1[\"duration\"]=5\n",
        "dict1"
      ],
      "metadata": {
        "colab": {
          "base_uri": "https://localhost:8080/"
        },
        "id": "fYVFzTXMPjBG",
        "outputId": "ec665a23-5c98-41f7-b771-235d9da39a1b"
      },
      "execution_count": 21,
      "outputs": [
        {
          "output_type": "execute_result",
          "data": {
            "text/plain": [
              "{'name': 'pwskills', 'course': 'data science', 'duration': 5}"
            ]
          },
          "metadata": {},
          "execution_count": 21
        }
      ]
    },
    {
      "cell_type": "code",
      "source": [
        "dict1[\"course\"]=\"data science masters\"\n",
        "dict1"
      ],
      "metadata": {
        "colab": {
          "base_uri": "https://localhost:8080/"
        },
        "id": "fWqOUTcCP4e4",
        "outputId": "e262cd10-fd26-49c7-b00f-a818248bca76"
      },
      "execution_count": 22,
      "outputs": [
        {
          "output_type": "execute_result",
          "data": {
            "text/plain": [
              "{'name': 'pwskills', 'course': 'data science masters', 'duration': 5}"
            ]
          },
          "metadata": {},
          "execution_count": 22
        }
      ]
    },
    {
      "cell_type": "code",
      "source": [
        "del dict1[\"duration\"]\n",
        "dict1"
      ],
      "metadata": {
        "colab": {
          "base_uri": "https://localhost:8080/"
        },
        "id": "77ftWUPbQBji",
        "outputId": "1ac58c49-1f7a-4dd3-b787-032850f9be4e"
      },
      "execution_count": 23,
      "outputs": [
        {
          "output_type": "execute_result",
          "data": {
            "text/plain": [
              "{'name': 'pwskills', 'course': 'data science masters'}"
            ]
          },
          "metadata": {},
          "execution_count": 23
        }
      ]
    },
    {
      "cell_type": "markdown",
      "source": [
        "8 Discuss the importance of dictionary keys being immutable and provide examp"
      ],
      "metadata": {
        "id": "IPEzD6vYQOCI"
      }
    },
    {
      "cell_type": "code",
      "source": [
        "# Keys used in dictionary are unique.\n",
        "# Keys are access element in dictionary\n",
        "# Keys can be number,float. But not list, sets, dict\n",
        "\n",
        "dict1 = {\"name\":\"pwskills\",\"course\":\"data science\"}\n",
        "dict1"
      ],
      "metadata": {
        "colab": {
          "base_uri": "https://localhost:8080/"
        },
        "id": "3XsSx7YDQGUa",
        "outputId": "90253e65-6ec6-4e03-cfe1-7ff20009be57"
      },
      "execution_count": 24,
      "outputs": [
        {
          "output_type": "execute_result",
          "data": {
            "text/plain": [
              "{'name': 'pwskills', 'course': 'data science'}"
            ]
          },
          "metadata": {},
          "execution_count": 24
        }
      ]
    },
    {
      "cell_type": "code",
      "source": [
        "dict1[\"name\"]=\"pw\"   # This duplicate key if present also it will override the old one\n",
        "dict1"
      ],
      "metadata": {
        "colab": {
          "base_uri": "https://localhost:8080/"
        },
        "id": "Kl1ymHXrQP0E",
        "outputId": "d4f790a0-664a-4ea8-be02-ba643f30bcf0"
      },
      "execution_count": 25,
      "outputs": [
        {
          "output_type": "execute_result",
          "data": {
            "text/plain": [
              "{'name': 'pw', 'course': 'data science'}"
            ]
          },
          "metadata": {},
          "execution_count": 25
        }
      ]
    },
    {
      "cell_type": "code",
      "source": [
        "dict1.keys()"
      ],
      "metadata": {
        "colab": {
          "base_uri": "https://localhost:8080/"
        },
        "id": "9oGasudTRMIJ",
        "outputId": "a0fd2223-23f6-49fd-8576-42db5ffb80cc"
      },
      "execution_count": 26,
      "outputs": [
        {
          "output_type": "execute_result",
          "data": {
            "text/plain": [
              "dict_keys(['name', 'course'])"
            ]
          },
          "metadata": {},
          "execution_count": 26
        }
      ]
    },
    {
      "cell_type": "code",
      "source": [],
      "metadata": {
        "id": "0KwIsoUFRUBo"
      },
      "execution_count": null,
      "outputs": []
    }
  ]
}